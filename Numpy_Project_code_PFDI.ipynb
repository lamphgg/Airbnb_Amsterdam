{
  "cells": [
    {
      "cell_type": "markdown",
      "metadata": {
        "id": "view-in-github",
        "colab_type": "text"
      },
      "source": [
        "<a href=\"https://colab.research.google.com/github/lamphgg/Airbnb_Amsterdam/blob/main/Numpy_Project_code_PFDI.ipynb\" target=\"_parent\"><img src=\"https://colab.research.google.com/assets/colab-badge.svg\" alt=\"Open In Colab\"/></a>"
      ]
    },
    {
      "cell_type": "markdown",
      "id": "f86691c8-d0b3-4c58-bd5b-dcfe1c2b5ff2",
      "metadata": {
        "id": "f86691c8-d0b3-4c58-bd5b-dcfe1c2b5ff2"
      },
      "source": [
        "## Downloading the Dataset\n"
      ]
    },
    {
      "cell_type": "code",
      "source": [
        "%%capture\n",
        "!pip install numpy pandas streamlit gdown currencyconverter"
      ],
      "metadata": {
        "id": "J3MB5-_L32bV"
      },
      "id": "J3MB5-_L32bV",
      "execution_count": 1,
      "outputs": []
    },
    {
      "cell_type": "code",
      "source": [
        "import numpy as np\n",
        "\n",
        "# For readability purposes, we will disable scientific notation for numbers\n",
        "np.set_printoptions(suppress=True)"
      ],
      "metadata": {
        "id": "TCoESZJw7Xfs"
      },
      "id": "TCoESZJw7Xfs",
      "execution_count": 2,
      "outputs": []
    },
    {
      "cell_type": "code",
      "execution_count": 3,
      "id": "73934f9d-54f0-4c72-9bb3-7bfdb11419f2",
      "metadata": {
        "id": "73934f9d-54f0-4c72-9bb3-7bfdb11419f2",
        "colab": {
          "base_uri": "https://localhost:8080/",
          "height": 104
        },
        "outputId": "7c9eaa74-c895-4358-d0dc-73aaff7714b4"
      },
      "outputs": [
        {
          "output_type": "stream",
          "name": "stderr",
          "text": [
            "Downloading...\n",
            "From: https://drive.google.com/uc?id=13fyESiH1ZEnMV6eabAyhe20t4W6peEWK\n",
            "To: /content/WK1_Airbnb_Amsterdam_listings_proj.csv\n",
            "100%|██████████| 246k/246k [00:00<00:00, 73.3MB/s]\n"
          ]
        },
        {
          "output_type": "execute_result",
          "data": {
            "text/plain": [
              "'WK1_Airbnb_Amsterdam_listings_proj.csv'"
            ],
            "application/vnd.google.colaboratory.intrinsic+json": {
              "type": "string"
            }
          },
          "metadata": {},
          "execution_count": 3
        }
      ],
      "source": [
        "import os\n",
        "import shutil\n",
        "\n",
        "import gdown\n",
        "from numpy import genfromtxt\n",
        "\n",
        "# Download file from Google Drive\n",
        "# This file is based on data from: http://insideairbnb.com/get-the-data/\n",
        "file_id_1 = \"13fyESiH1ZEnMV6eabAyhe20t4W6peEWK\"\n",
        "downloaded_file_1 = \"WK1_Airbnb_Amsterdam_listings_proj.csv\"\n",
        "\n",
        "# Download the file from Google Drive\n",
        "gdown.download(id=file_id_1, output=downloaded_file_1)"
      ]
    },
    {
      "cell_type": "markdown",
      "id": "f4f4a85f-ad1a-46c0-8978-a049fa91dd72",
      "metadata": {
        "id": "f4f4a85f-ad1a-46c0-8978-a049fa91dd72"
      },
      "source": [
        "## Preprocessing the Dataset\n"
      ]
    },
    {
      "cell_type": "code",
      "execution_count": 4,
      "id": "887bc0b0-3a61-4cf4-a534-d9dee0f639b8",
      "metadata": {
        "id": "887bc0b0-3a61-4cf4-a534-d9dee0f639b8"
      },
      "outputs": [],
      "source": [
        " from numpy import genfromtxt\n",
        "\n",
        "my_data = genfromtxt(downloaded_file_1, delimiter='|',dtype='unicode')"
      ]
    },
    {
      "cell_type": "code",
      "source": [
        "print(my_data[:,:4])"
      ],
      "metadata": {
        "id": "IVG_WkJzg0KC",
        "colab": {
          "base_uri": "https://localhost:8080/"
        },
        "outputId": "985f6e63-cde8-4435-bfdf-387a4f485072"
      },
      "id": "IVG_WkJzg0KC",
      "execution_count": 5,
      "outputs": [
        {
          "output_type": "stream",
          "name": "stdout",
          "text": [
            "[['' '0' '1' '2']\n",
            " ['id' '23726706' '35815036' '31553121']\n",
            " ['price' '$88.00' '$105.00' '$152.00']\n",
            " ['latitude' '52.34916' '52.42419' '52.43237']\n",
            " ['longitude' '4.97879' '4.95689' '4.91821']]\n"
          ]
        }
      ]
    },
    {
      "cell_type": "code",
      "execution_count": 6,
      "id": "62d32bbd-33e5-4dbe-b448-4f932c2119f2",
      "metadata": {
        "id": "62d32bbd-33e5-4dbe-b448-4f932c2119f2",
        "colab": {
          "base_uri": "https://localhost:8080/"
        },
        "outputId": "a583d312-9369-4782-c502-ecf1149d55d7"
      },
      "outputs": [
        {
          "output_type": "execute_result",
          "data": {
            "text/plain": [
              "array([['23726706', '35815036', '31553121', '34745823'],\n",
              "       ['$88.00', '$105.00', '$152.00', '$87.00'],\n",
              "       ['52.34916', '52.42419', '52.43237', '52.2962'],\n",
              "       ['4.97879', '4.95689', '4.91821', '5.01231']], dtype='<U18')"
            ]
          },
          "metadata": {},
          "execution_count": 6
        }
      ],
      "source": [
        "# Remove the first column and row\n",
        "matrix = my_data[1:,1:]\n",
        "matrix[:,:4]"
      ]
    },
    {
      "cell_type": "code",
      "execution_count": 7,
      "id": "b7210723-75ef-48ce-b568-2c2aeebfb013",
      "metadata": {
        "id": "b7210723-75ef-48ce-b568-2c2aeebfb013",
        "colab": {
          "base_uri": "https://localhost:8080/"
        },
        "outputId": "ddbc9c81-e859-46b6-eaee-46524bd080d7"
      },
      "outputs": [
        {
          "output_type": "stream",
          "name": "stdout",
          "text": [
            "[['23726706' '$88.00' '52.34916' '4.97879']\n",
            " ['35815036' '$105.00' '52.42419' '4.95689']\n",
            " ['31553121' '$152.00' '52.43237' '4.91821']\n",
            " ['34745823' '$87.00' '52.2962' '5.01231']\n",
            " ['44586947' '$160.00' '52.31475' '5.0303']]\n"
          ]
        }
      ],
      "source": [
        "# Shift the matrix by 90 degrees\n",
        "matrix = matrix.T\n",
        "print(matrix[:5,:])"
      ]
    },
    {
      "cell_type": "code",
      "execution_count": 8,
      "id": "d912e33e-cc33-4e03-9163-7f061bac3711",
      "metadata": {
        "id": "d912e33e-cc33-4e03-9163-7f061bac3711"
      },
      "outputs": [],
      "source": [
        "# Remove the dollar sign and the comma\n",
        "matrix = np.char.replace(matrix, \"$\", \"\")\n",
        "matrix = np.char.replace(matrix, \",\", \"\")"
      ]
    },
    {
      "cell_type": "code",
      "source": [
        "# Check if the dollar sign is in our dataset\n",
        "matrix[(np.char.find(matrix, \"$\") > -1)]"
      ],
      "metadata": {
        "id": "zuicHsxMohnz",
        "colab": {
          "base_uri": "https://localhost:8080/"
        },
        "outputId": "651bbc62-cfc4-48a7-c505-0c61c5b39e29"
      },
      "id": "zuicHsxMohnz",
      "execution_count": 9,
      "outputs": [
        {
          "output_type": "execute_result",
          "data": {
            "text/plain": [
              "array([], dtype='<U18')"
            ]
          },
          "metadata": {},
          "execution_count": 9
        }
      ]
    },
    {
      "cell_type": "code",
      "source": [
        "# Check if the comma sign is in our dataset\n",
        "matrix[(np.char.find(matrix, \",\") > -1)]"
      ],
      "metadata": {
        "id": "JjpYr2JZousV",
        "colab": {
          "base_uri": "https://localhost:8080/"
        },
        "outputId": "2cd256a7-f5c3-401d-f259-b9141c0ea4ea"
      },
      "id": "JjpYr2JZousV",
      "execution_count": 10,
      "outputs": [
        {
          "output_type": "execute_result",
          "data": {
            "text/plain": [
              "array([], dtype='<U18')"
            ]
          },
          "metadata": {},
          "execution_count": 10
        }
      ]
    },
    {
      "cell_type": "code",
      "execution_count": 11,
      "id": "c78d95bf-bf7c-4342-9004-1f80616598ff",
      "metadata": {
        "id": "c78d95bf-bf7c-4342-9004-1f80616598ff",
        "colab": {
          "base_uri": "https://localhost:8080/"
        },
        "outputId": "f0c6cc17-0f68-4643-9e47-664c785e7fe9"
      },
      "outputs": [
        {
          "output_type": "stream",
          "name": "stdout",
          "text": [
            "[[23726706.            88.            52.34916        4.97879]\n",
            " [35815036.           105.            52.42419        4.95689]\n",
            " [31553120.           152.            52.43237        4.91821]\n",
            " [34745824.            87.            52.2962         5.01231]\n",
            " [44586948.           160.            52.31475        5.0303 ]]\n"
          ]
        }
      ],
      "source": [
        "# Change Unicode to float32\n",
        "matrix = np.float32(matrix)\n",
        "print(matrix[:5,:])"
      ]
    },
    {
      "cell_type": "markdown",
      "id": "16249349-8d37-4d24-b0c4-8a416aeda7ea",
      "metadata": {
        "id": "16249349-8d37-4d24-b0c4-8a416aeda7ea"
      },
      "source": [
        "## Convert currency"
      ]
    },
    {
      "cell_type": "code",
      "execution_count": 12,
      "id": "93e4e8b3-6f19-4e31-a324-2bd94dc461a2",
      "metadata": {
        "id": "93e4e8b3-6f19-4e31-a324-2bd94dc461a2",
        "colab": {
          "base_uri": "https://localhost:8080/"
        },
        "outputId": "95baa73b-0141-4cc8-e901-c05128b79f7a"
      },
      "outputs": [
        {
          "output_type": "stream",
          "name": "stdout",
          "text": [
            "[[23726706.            88.            52.34916        4.97879]\n",
            " [35815036.           105.            52.42419        4.95689]\n",
            " [31553120.           152.            52.43237        4.91821]\n",
            " [34745824.            87.            52.2962         5.01231]\n",
            " [44586948.           160.            52.31475        5.0303 ]]\n"
          ]
        }
      ],
      "source": [
        "from currency_converter import CurrencyConverter\n",
        "\n",
        "cc = CurrencyConverter()\n",
        "\n",
        "# Entries: airbnb_id, price_usd, latitude, longitude\n",
        "print(matrix[:5,:])"
      ]
    },
    {
      "cell_type": "code",
      "execution_count": 13,
      "id": "cf6d4cdd-ae46-4be5-9204-537f45d9b4f4",
      "metadata": {
        "id": "cf6d4cdd-ae46-4be5-9204-537f45d9b4f4",
        "colab": {
          "base_uri": "https://localhost:8080/"
        },
        "outputId": "8f0f6785-8e2d-4674-9294-d1240660d164"
      },
      "outputs": [
        {
          "output_type": "stream",
          "name": "stdout",
          "text": [
            "\tSecond column is:\n",
            " [ 88. 105. 152. ... 180. 174.  65.]\n"
          ]
        }
      ],
      "source": [
        "print('\\tSecond column is:\\n', matrix[:, 1])"
      ]
    },
    {
      "cell_type": "code",
      "source": [
        "cc.currencies"
      ],
      "metadata": {
        "id": "KhehQKENWBLm",
        "colab": {
          "base_uri": "https://localhost:8080/"
        },
        "outputId": "88f1e429-701e-4c82-c983-0d13888cf72d"
      },
      "id": "KhehQKENWBLm",
      "execution_count": 14,
      "outputs": [
        {
          "output_type": "execute_result",
          "data": {
            "text/plain": [
              "{'AUD',\n",
              " 'BGN',\n",
              " 'BRL',\n",
              " 'CAD',\n",
              " 'CHF',\n",
              " 'CNY',\n",
              " 'CYP',\n",
              " 'CZK',\n",
              " 'DKK',\n",
              " 'EEK',\n",
              " 'EUR',\n",
              " 'GBP',\n",
              " 'HKD',\n",
              " 'HRK',\n",
              " 'HUF',\n",
              " 'IDR',\n",
              " 'ILS',\n",
              " 'INR',\n",
              " 'ISK',\n",
              " 'JPY',\n",
              " 'KRW',\n",
              " 'LTL',\n",
              " 'LVL',\n",
              " 'MTL',\n",
              " 'MXN',\n",
              " 'MYR',\n",
              " 'NOK',\n",
              " 'NZD',\n",
              " 'PHP',\n",
              " 'PLN',\n",
              " 'ROL',\n",
              " 'RON',\n",
              " 'RUB',\n",
              " 'SEK',\n",
              " 'SGD',\n",
              " 'SIT',\n",
              " 'SKK',\n",
              " 'THB',\n",
              " 'TRL',\n",
              " 'TRY',\n",
              " 'USD',\n",
              " 'ZAR'}"
            ]
          },
          "metadata": {},
          "execution_count": 14
        }
      ]
    },
    {
      "cell_type": "markdown",
      "source": [
        "#### Converting to EUR"
      ],
      "metadata": {
        "id": "l9eCO9c_u_hT"
      },
      "id": "l9eCO9c_u_hT"
    },
    {
      "cell_type": "code",
      "execution_count": 15,
      "id": "3b1b9df8-6b29-41a8-8bce-1a51bb710ec9",
      "metadata": {
        "id": "3b1b9df8-6b29-41a8-8bce-1a51bb710ec9",
        "colab": {
          "base_uri": "https://localhost:8080/"
        },
        "outputId": "66bac7b5-be85-41e0-bcfe-cf968597c937"
      },
      "outputs": [
        {
          "output_type": "stream",
          "name": "stdout",
          "text": [
            "[ 81.37599  97.09636 140.55853 ... 166.4509  160.90253  60.10727]\n"
          ]
        }
      ],
      "source": [
        "eur_rate = cc.convert(1,'USD','EUR')\n",
        "\n",
        "# Multiply the dollar column by EUR currency\n",
        "matrix[:,1] = matrix[:,1] * eur_rate\n",
        "print(matrix[:,1])"
      ]
    },
    {
      "cell_type": "code",
      "execution_count": 16,
      "id": "b9b77c45-ad45-424d-a826-91cc86712df6",
      "metadata": {
        "id": "b9b77c45-ad45-424d-a826-91cc86712df6",
        "colab": {
          "base_uri": "https://localhost:8080/"
        },
        "outputId": "6693be38-7f60-4fd9-ff4c-3848171938e1"
      },
      "outputs": [
        {
          "output_type": "execute_result",
          "data": {
            "text/plain": [
              "array([ 87.07232, 103.89311, 150.39764, ..., 178.10246, 172.16571,\n",
              "        64.31478], dtype=float32)"
            ]
          },
          "metadata": {},
          "execution_count": 16
        }
      ],
      "source": [
        "# Multiply the dollar column by the inflation percentage (1.00 + inflation)\n",
        "matrix[:,1] = matrix[:,1] * (1.00 + 0.07)\n",
        "matrix[:,1]"
      ]
    },
    {
      "cell_type": "code",
      "execution_count": 17,
      "id": "4f62b24b-fb75-406d-92f0-033e1afec123",
      "metadata": {
        "id": "4f62b24b-fb75-406d-92f0-033e1afec123",
        "colab": {
          "base_uri": "https://localhost:8080/"
        },
        "outputId": "53787d2e-7f38-456e-c0a6-c66c24f55139"
      },
      "outputs": [
        {
          "output_type": "execute_result",
          "data": {
            "text/plain": [
              "array([ 87.07, 103.89, 150.4 , ..., 178.1 , 172.17,  64.31], dtype=float32)"
            ]
          },
          "metadata": {},
          "execution_count": 17
        }
      ],
      "source": [
        "# Round down the new currency column to 2 decimals\n",
        "matrix[:,1] = np.round_(matrix[:,1], decimals=2)\n",
        "matrix[:,1]"
      ]
    },
    {
      "cell_type": "markdown",
      "id": "08eb3f54-9af1-483a-b6ac-354d6c77d77e",
      "metadata": {
        "id": "08eb3f54-9af1-483a-b6ac-354d6c77d77e"
      },
      "source": [
        "#### Choose a location: Van Gogh Museum\n",
        "\n",
        "I get the coordinates from [here](https://www.google.com/search?q=coordinates+of+van+gogh+museum+amsterdam&rlz=1C1ONGR_enUS1042US1042&oq=coordinates+of+van+gogh+museum+amsterdam&aqs=chrome..69i57j0i22i30i625j0i390l3.5845j0j7&sourceid=chrome&ie=UTF-8)\n",
        "\n",
        "\n"
      ]
    },
    {
      "cell_type": "code",
      "execution_count": 18,
      "id": "61014b50-cceb-4f75-9d4f-639c197eec52",
      "metadata": {
        "id": "61014b50-cceb-4f75-9d4f-639c197eec52"
      },
      "outputs": [],
      "source": [
        "#Coordinates of Van Gogh Museum\n",
        "latitude = 52.3584\n",
        "longitude = 4.8811"
      ]
    },
    {
      "cell_type": "code",
      "execution_count": 19,
      "id": "b8911e6f-321f-4d93-9e8a-feb558fb2502",
      "metadata": {
        "id": "b8911e6f-321f-4d93-9e8a-feb558fb2502"
      },
      "outputs": [],
      "source": [
        "import math\n",
        "\n",
        "def from_location_to_airbnb_listing_in_meters(lat1: float, lon1: float, lat2: list, lon2: list):\n",
        "    # Source: https://community.esri.com/t5/coordinate-reference-systems-blog\n",
        "    # /distance-on-a-sphere-the-haversine-formula/ba-p/902128\n",
        "    \n",
        "    R = 6371000  # Radius of Earth in meters\n",
        "    phi_1 = math.radians(lat1)\n",
        "    phi_2 = math.radians(lat2)\n",
        "\n",
        "    delta_phi = math.radians(lat2 - lat1)\n",
        "    delta_lambda = math.radians(lon2 - lon1)\n",
        "\n",
        "    a = (\n",
        "        math.sin(delta_phi / 2.0) ** 2\n",
        "        + math.cos(phi_1) * math.cos(phi_2) * math.sin(delta_lambda / 2.0) ** 2\n",
        "    )\n",
        "\n",
        "    c = 2 * math.atan2(math.sqrt(a), math.sqrt(1 - a))\n",
        "\n",
        "    meters = R * c  # Output distance in meters\n",
        "\n",
        "    return round(meters, 0)"
      ]
    },
    {
      "cell_type": "code",
      "execution_count": 20,
      "id": "997ec8fa-5cc1-4fd3-ae01-fd53e0ffc0d6",
      "metadata": {
        "id": "997ec8fa-5cc1-4fd3-ae01-fd53e0ffc0d6"
      },
      "outputs": [],
      "source": [
        "# Create a loop or vectorized way to calculate the distance,\n",
        "# going over all latitude and longitude entries in the dataset\n",
        "\n",
        "vectorizing_function = np.vectorize(from_location_to_airbnb_listing_in_meters)\n",
        "distance = vectorizing_function(latitude, longitude, matrix[:,2], matrix[:,3])"
      ]
    },
    {
      "cell_type": "code",
      "source": [
        "%%timeit -r 4 -n 100\n",
        "\n",
        "# Allow a Python function to be used in a (semi-)vectorized way\n",
        "conv_to_meters = np.vectorize(from_location_to_airbnb_listing_in_meters)\n",
        "\n",
        "# Apply the function, use timeit\n",
        "conv_to_meters(latitude, longitude, matrix[:, 2], matrix[:, 3])"
      ],
      "metadata": {
        "id": "m1oqM9C2D4sJ",
        "colab": {
          "base_uri": "https://localhost:8080/"
        },
        "outputId": "c41f5bc4-93f0-49cb-834c-15dd97d34fc5"
      },
      "id": "m1oqM9C2D4sJ",
      "execution_count": 21,
      "outputs": [
        {
          "output_type": "stream",
          "name": "stdout",
          "text": [
            "36.4 ms ± 10.8 ms per loop (mean ± std. dev. of 4 runs, 100 loops each)\n"
          ]
        }
      ]
    },
    {
      "cell_type": "markdown",
      "id": "bab0fd01-6c42-46eb-b68a-28e66d63c2c6",
      "metadata": {
        "id": "bab0fd01-6c42-46eb-b68a-28e66d63c2c6"
      },
      "source": [
        "---\n",
        "\n",
        "#### (Extra Credit)  Task 12: NumPy all the way!\n",
        "\n",
        "[*\\[Related section on CoRise\\]*](https://corise.com/course/python-for-data-science/v2/module/math-superpowers#corise_cl9k5z30h005w3b6p5jv0vs82)\n",
        "\n",
        "Now convert the `from_location_to_airbnb_listing_in_meters` function into a pure NumPy function. You can do this by changing all the imported math functions into their NumPy variant. ***For now just calculate these numbers. Don't add it as a new column to your matrix.***"
      ]
    },
    {
      "cell_type": "code",
      "execution_count": 22,
      "id": "b5a1712a-1b01-40c8-8d21-706001b22910",
      "metadata": {
        "id": "b5a1712a-1b01-40c8-8d21-706001b22910"
      },
      "outputs": [],
      "source": [
        "def from_location_to_airbnb_listing_in_meters(lat1: float, lon1: float, lat2: list, lon2: list):   \n",
        "    R = 6371000  # Radius of Earth in meters\n",
        "    phi_1 = np.radians(lat1) # CHANGE THIS\n",
        "    phi_2 = np.radians(lat2) # CHANGE THIS\n",
        "\n",
        "    delta_phi = np.radians(lat2 - lat1) # CHANGE THIS\n",
        "    delta_lambda = np.radians(lon2 - lon1) # CHANGE THIS\n",
        "\n",
        "    a = (\n",
        "        np.sin(delta_phi / 2.0) ** 2 # CHANGE THIS\n",
        "        + np.cos(phi_1) * np.cos(phi_2) * np.sin(delta_lambda / 2.0) ** 2 # CHANGE THIS (3x)\n",
        "    )\n",
        "\n",
        "    c = 2 * np.arctan2(np.sqrt(a), np.sqrt(1 - a)) # CHANGE THIS (3x)\n",
        "\n",
        "    meters = R * c  # Output distance in meters\n",
        "\n",
        "    return np.around(meters, 0) # CHANGE THIS"
      ]
    },
    {
      "cell_type": "code",
      "execution_count": 23,
      "id": "532a16a5-d82b-4f70-a94e-5c78c5caab15",
      "metadata": {
        "id": "532a16a5-d82b-4f70-a94e-5c78c5caab15",
        "colab": {
          "base_uri": "https://localhost:8080/"
        },
        "outputId": "6dbe690d-aa8e-4398-a43e-98b3d5542c51"
      },
      "outputs": [
        {
          "output_type": "execute_result",
          "data": {
            "text/plain": [
              "array([6714., 8943., 8602., ..., 7680., 4432., 5600.])"
            ]
          },
          "metadata": {},
          "execution_count": 23
        }
      ],
      "source": [
        "# Run the converted NumPy method and check if it works\n",
        "from_location_to_airbnb_listing_in_meters(latitude, longitude, matrix[:, 2], matrix[:, 3])"
      ]
    },
    {
      "cell_type": "code",
      "source": [
        "%%timeit -r 4 -n 100\n",
        "from_location_to_airbnb_listing_in_meters(latitude, longitude, matrix[:, 2], matrix[:, 3])"
      ],
      "metadata": {
        "id": "xJjqvkBGGMT4",
        "colab": {
          "base_uri": "https://localhost:8080/"
        },
        "outputId": "bb8e9f17-133d-47de-9cf7-118031605cab"
      },
      "id": "xJjqvkBGGMT4",
      "execution_count": 24,
      "outputs": [
        {
          "output_type": "stream",
          "name": "stdout",
          "text": [
            "617 µs ± 107 µs per loop (mean ± std. dev. of 4 runs, 100 loops each)\n"
          ]
        }
      ]
    },
    {
      "cell_type": "markdown",
      "source": [
        "WOW! You see a massive speed-up just by switching your functions from default Python functions to their NumPy variants! Awesome!\n",
        "\n",
        "---"
      ],
      "metadata": {
        "id": "3Wwjec7vHDK_"
      },
      "id": "3Wwjec7vHDK_"
    },
    {
      "cell_type": "markdown",
      "id": "dc1d3c93-b298-4d7f-9382-5d97efd7d675",
      "metadata": {
        "id": "dc1d3c93-b298-4d7f-9382-5d97efd7d675"
      },
      "source": [
        "## Prep the Dataset for Download!\n",
        "\n",
        "\n",
        "Now that we've created a function to calculate the distance in meters for every Airbnb listing, we'll perform this calculation on the entire dataset and add the outputs to the matrix as a new column.\n",
        "\n",
        "Next to that, we'll add another column that contains only ones and zeros to represent the \"color\" of an entry/row. This column can be used later if you want to turn this dataset into an app using [Streamlit](https://streamlit.io/). This resource is great for when you want to translate your Python projects into an interactive website. More on that in the next section.\n",
        "\n",
        "As you'll see from the code, we'll also add our favorite location as an entry/row. (We've selected the coordinates of the Rijksmuseum. Feel free to change it to your favorite location in Amsterdam). \n",
        "\n",
        "\n"
      ]
    },
    {
      "cell_type": "code",
      "execution_count": 25,
      "id": "587b2c11-6b59-4075-b002-be8516c62b2d",
      "metadata": {
        "id": "587b2c11-6b59-4075-b002-be8516c62b2d"
      },
      "outputs": [],
      "source": [
        "# Run the previous method\n",
        "meters = from_location_to_airbnb_listing_in_meters(\n",
        "    latitude, longitude, matrix[:, 2], matrix[:, 3]\n",
        ")\n",
        "\n",
        "# Add an axis to make concatenation possible\n",
        "meters = meters.reshape(-1, 1)\n",
        "\n",
        "# Append the distance in meters to the matrix\n",
        "matrix = np.concatenate((matrix, meters), axis=1)"
      ]
    },
    {
      "cell_type": "code",
      "execution_count": 26,
      "id": "e60a7c93-fe1c-46d9-9e63-0e8635b0966d",
      "metadata": {
        "id": "e60a7c93-fe1c-46d9-9e63-0e8635b0966d",
        "colab": {
          "base_uri": "https://localhost:8080/"
        },
        "outputId": "6ee60a27-4c46-48f8-fb68-994c71e54c04"
      },
      "outputs": [
        {
          "output_type": "execute_result",
          "data": {
            "text/plain": [
              "array([[       1.        ,        0.        ,       52.36      ,\n",
              "               4.8852    ,        0.        ,        1.        ],\n",
              "       [23726706.        ,       87.06999969,       52.34915924,\n",
              "               4.97878981,     6714.        ,        0.        ],\n",
              "       [35815036.        ,      103.88999939,       52.42419052,\n",
              "               4.95689011,     8943.        ,        0.        ],\n",
              "       [31553120.        ,      150.3999939 ,       52.43236923,\n",
              "               4.91821003,     8602.        ,        0.        ],\n",
              "       [34745824.        ,       86.08000183,       52.2961998 ,\n",
              "               5.01231003,    11284.        ,        0.        ]])"
            ]
          },
          "metadata": {},
          "execution_count": 26
        }
      ],
      "source": [
        "# Append a color to the matrix\n",
        "colors = np.zeros(meters.shape)\n",
        "matrix = np.concatenate((matrix, colors), axis=1)\n",
        "\n",
        "# Append our entry to the matrix\n",
        "fav_entry = np.array([1, 0, 52.3600, 4.8852, 0, 1]).reshape(1, -1) # Change coordinates to your favorite location\n",
        "matrix = np.concatenate((fav_entry, matrix), axis=0)\n",
        "\n",
        "# Entries: airbnb_id, price, latitude, longitude,\n",
        "# meters from favorite point, color\n",
        "matrix[:5, :]"
      ]
    },
    {
      "cell_type": "code",
      "execution_count": 27,
      "id": "2c9f02e3-9af7-4eb0-845d-96748114c5b3",
      "metadata": {
        "id": "2c9f02e3-9af7-4eb0-845d-96748114c5b3"
      },
      "outputs": [],
      "source": [
        "# Export the data to use in the primer for next week\n",
        "np.savetxt(\"WK1_Airbnb_Amsterdam_listings_proj_solution.csv\", matrix, delimiter=\",\")"
      ]
    },
    {
      "cell_type": "markdown",
      "source": [
        "Great! By running all the cells above, you've saved the matrix here on your Google Colab instance. Let's now look into how to download the dataset to your local machine."
      ],
      "metadata": {
        "id": "6YaljvSnHlwx"
      },
      "id": "6YaljvSnHlwx"
    },
    {
      "cell_type": "markdown",
      "source": [
        "### Download the Dataset to Local Machine!"
      ],
      "metadata": {
        "id": "vtFPkCD49UbC"
      },
      "id": "vtFPkCD49UbC"
    },
    {
      "cell_type": "code",
      "source": [
        "from google.colab import files\n",
        "\n",
        "# Download the file locally\n",
        "files.download('WK1_Airbnb_Amsterdam_listings_proj_solution.csv')"
      ],
      "metadata": {
        "id": "x0nVFL3_6bCC",
        "colab": {
          "base_uri": "https://localhost:8080/",
          "height": 17
        },
        "outputId": "096a346b-a416-4a71-ae5a-1c1be8921bf4"
      },
      "id": "x0nVFL3_6bCC",
      "execution_count": 28,
      "outputs": [
        {
          "output_type": "display_data",
          "data": {
            "text/plain": [
              "<IPython.core.display.Javascript object>"
            ],
            "application/javascript": [
              "\n",
              "    async function download(id, filename, size) {\n",
              "      if (!google.colab.kernel.accessAllowed) {\n",
              "        return;\n",
              "      }\n",
              "      const div = document.createElement('div');\n",
              "      const label = document.createElement('label');\n",
              "      label.textContent = `Downloading \"${filename}\": `;\n",
              "      div.appendChild(label);\n",
              "      const progress = document.createElement('progress');\n",
              "      progress.max = size;\n",
              "      div.appendChild(progress);\n",
              "      document.body.appendChild(div);\n",
              "\n",
              "      const buffers = [];\n",
              "      let downloaded = 0;\n",
              "\n",
              "      const channel = await google.colab.kernel.comms.open(id);\n",
              "      // Send a message to notify the kernel that we're ready.\n",
              "      channel.send({})\n",
              "\n",
              "      for await (const message of channel.messages) {\n",
              "        // Send a message to notify the kernel that we're ready.\n",
              "        channel.send({})\n",
              "        if (message.buffers) {\n",
              "          for (const buffer of message.buffers) {\n",
              "            buffers.push(buffer);\n",
              "            downloaded += buffer.byteLength;\n",
              "            progress.value = downloaded;\n",
              "          }\n",
              "        }\n",
              "      }\n",
              "      const blob = new Blob(buffers, {type: 'application/binary'});\n",
              "      const a = document.createElement('a');\n",
              "      a.href = window.URL.createObjectURL(blob);\n",
              "      a.download = filename;\n",
              "      div.appendChild(a);\n",
              "      a.click();\n",
              "      div.remove();\n",
              "    }\n",
              "  "
            ]
          },
          "metadata": {}
        },
        {
          "output_type": "display_data",
          "data": {
            "text/plain": [
              "<IPython.core.display.Javascript object>"
            ],
            "application/javascript": [
              "download(\"download_979abb59-1738-4010-bb71-2acd55e0a1cd\", \"WK1_Airbnb_Amsterdam_listings_proj_solution.csv\", 926100)"
            ]
          },
          "metadata": {}
        }
      ]
    },
    {
      "cell_type": "code",
      "source": [
        "%%writefile streamlit_app.py\n",
        "import pandas as pd\n",
        "import plotly.express as px\n",
        "import streamlit as st\n",
        "\n",
        "# Display title and text\n",
        "st.title(\"Week 1 - Data and visualization\")\n",
        "st.markdown(\"Here we can see the dataframe created during this weeks project.\")\n",
        "\n",
        "# Read dataframe\n",
        "dataframe = pd.read_csv(\n",
        "    \"WK1_Airbnb_Amsterdam_listings_proj_solution.csv\",\n",
        "    names=[\n",
        "        \"Airbnb Listing ID\",\n",
        "        \"Price\",\n",
        "        \"Latitude\",\n",
        "        \"Longitude\",\n",
        "        \"Meters from chosen location\",\n",
        "        \"Location\",\n",
        "    ],\n",
        ")\n",
        "\n",
        "# We have a limited budget, therefore we would like to exclude\n",
        "# listings with a price above 100 pounds per night\n",
        "dataframe = dataframe[dataframe[\"Price\"] <= 100]\n",
        "\n",
        "# Display as integer\n",
        "dataframe[\"Airbnb Listing ID\"] = dataframe[\"Airbnb Listing ID\"].astype(int)\n",
        "# Round of values\n",
        "dataframe[\"Price\"] = \"£ \" + dataframe[\"Price\"].round(2).astype(str) # <--- CHANGE THIS POUND SYMBOL IF YOU CHOSE CURRENCY OTHER THAN POUND\n",
        "# Rename the number to a string\n",
        "dataframe[\"Location\"] = dataframe[\"Location\"].replace(\n",
        "    {1.0: \"To visit\", 0.0: \"Airbnb listing\"}\n",
        ")\n",
        "\n",
        "# Display dataframe and text\n",
        "st.dataframe(dataframe)\n",
        "st.markdown(\"Below is a map showing all the Airbnb listings with a red dot and the location we've chosen with a blue dot.\")\n",
        "\n",
        "# Create the plotly express figure\n",
        "fig = px.scatter_mapbox(\n",
        "    dataframe,\n",
        "    lat=\"Latitude\",\n",
        "    lon=\"Longitude\",\n",
        "    color=\"Location\",\n",
        "    zoom=11,\n",
        "    height=500,\n",
        "    width=800,\n",
        "    hover_name=\"Price\",\n",
        "    hover_data=[\"Meters from chosen location\", \"Location\"],\n",
        "    labels={\"color\": \"Locations\"},\n",
        ")\n",
        "fig.update_geos(center=dict(lat=dataframe.iloc[0][2], lon=dataframe.iloc[0][3]))\n",
        "fig.update_layout(mapbox_style=\"stamen-terrain\")\n",
        "\n",
        "# Show the figure\n",
        "st.plotly_chart(fig, use_container_width=True)"
      ],
      "metadata": {
        "id": "RMq6a-RfIn4U",
        "colab": {
          "base_uri": "https://localhost:8080/"
        },
        "outputId": "ac045fa1-5b62-4bfb-eb91-d9dc6adf0e7a"
      },
      "id": "RMq6a-RfIn4U",
      "execution_count": 29,
      "outputs": [
        {
          "output_type": "stream",
          "name": "stdout",
          "text": [
            "Writing streamlit_app.py\n"
          ]
        }
      ]
    },
    {
      "cell_type": "markdown",
      "source": [
        "### Make an App on Streamlit!\n",
        "\n",
        "We are going to use [Streamlit Share](https://share.streamlit.io/) to host this project. It's a website that allows us to host interactive projects for free online!\n",
        "\n",
        "<center>\n",
        "  <img src=https://i.ibb.co/gRhj6Jd/Screen-Shot-2022-11-10-at-3-58-17-PM.png width=\"500\" align=\"center\" />\n",
        "</center>\n",
        "<br/>\n",
        "\n",
        "Five out of the six columns in the dataset are used as so:\n",
        "- **Price**: Hovering over a blue/red dot displays in **bold** the price at the top\n",
        "- **Latitude**: Used to plot the blue/red dot on the map\n",
        "- **Longitude**: Used to plot the blue/red dot on the map\n",
        "- **Meters from favorite point**: Hovering over a blue/red dot displays the number of meters from the blue point\n",
        "- **Color**: Dependent on the category its assigned\n",
        "\n",
        "To visualize this, we will again use a library called [Streamlit](https://streamlit.io/)."
      ],
      "metadata": {
        "id": "C-EkAreK9aH3"
      },
      "id": "C-EkAreK9aH3"
    },
    {
      "cell_type": "code",
      "source": [
        "from google.colab import files\n",
        "\n",
        "# Download the file locally\n",
        "files.download('streamlit_app.py')"
      ],
      "metadata": {
        "id": "zZw7Ynwr9h3Z",
        "colab": {
          "base_uri": "https://localhost:8080/",
          "height": 17
        },
        "outputId": "d9ec60d6-dc03-40b9-f780-0775c83ebcef"
      },
      "id": "zZw7Ynwr9h3Z",
      "execution_count": 30,
      "outputs": [
        {
          "output_type": "display_data",
          "data": {
            "text/plain": [
              "<IPython.core.display.Javascript object>"
            ],
            "application/javascript": [
              "\n",
              "    async function download(id, filename, size) {\n",
              "      if (!google.colab.kernel.accessAllowed) {\n",
              "        return;\n",
              "      }\n",
              "      const div = document.createElement('div');\n",
              "      const label = document.createElement('label');\n",
              "      label.textContent = `Downloading \"${filename}\": `;\n",
              "      div.appendChild(label);\n",
              "      const progress = document.createElement('progress');\n",
              "      progress.max = size;\n",
              "      div.appendChild(progress);\n",
              "      document.body.appendChild(div);\n",
              "\n",
              "      const buffers = [];\n",
              "      let downloaded = 0;\n",
              "\n",
              "      const channel = await google.colab.kernel.comms.open(id);\n",
              "      // Send a message to notify the kernel that we're ready.\n",
              "      channel.send({})\n",
              "\n",
              "      for await (const message of channel.messages) {\n",
              "        // Send a message to notify the kernel that we're ready.\n",
              "        channel.send({})\n",
              "        if (message.buffers) {\n",
              "          for (const buffer of message.buffers) {\n",
              "            buffers.push(buffer);\n",
              "            downloaded += buffer.byteLength;\n",
              "            progress.value = downloaded;\n",
              "          }\n",
              "        }\n",
              "      }\n",
              "      const blob = new Blob(buffers, {type: 'application/binary'});\n",
              "      const a = document.createElement('a');\n",
              "      a.href = window.URL.createObjectURL(blob);\n",
              "      a.download = filename;\n",
              "      div.appendChild(a);\n",
              "      a.click();\n",
              "      div.remove();\n",
              "    }\n",
              "  "
            ]
          },
          "metadata": {}
        },
        {
          "output_type": "display_data",
          "data": {
            "text/plain": [
              "<IPython.core.display.Javascript object>"
            ],
            "application/javascript": [
              "download(\"download_4cac65ee-04b3-40c3-b426-93cb70bb3b99\", \"streamlit_app.py\", 1718)"
            ]
          },
          "metadata": {}
        }
      ]
    },
    {
      "cell_type": "code",
      "source": [
        "%%writefile requirements.txt\n",
        "pandas\n",
        "streamlit\n",
        "plotly"
      ],
      "metadata": {
        "id": "B-qGmYOHNUQN",
        "colab": {
          "base_uri": "https://localhost:8080/"
        },
        "outputId": "a16399d6-4cb9-4bee-8cbb-26c73d9f9680"
      },
      "id": "B-qGmYOHNUQN",
      "execution_count": 31,
      "outputs": [
        {
          "output_type": "stream",
          "name": "stdout",
          "text": [
            "Writing requirements.txt\n"
          ]
        }
      ]
    },
    {
      "cell_type": "code",
      "source": [
        "from google.colab import files\n",
        "\n",
        "# Download the file locally\n",
        "files.download('requirements.txt')"
      ],
      "metadata": {
        "id": "AXjHxtJXNVZf",
        "colab": {
          "base_uri": "https://localhost:8080/",
          "height": 17
        },
        "outputId": "958fc804-c138-4f79-caf4-67c052dd7f45"
      },
      "id": "AXjHxtJXNVZf",
      "execution_count": 32,
      "outputs": [
        {
          "output_type": "display_data",
          "data": {
            "text/plain": [
              "<IPython.core.display.Javascript object>"
            ],
            "application/javascript": [
              "\n",
              "    async function download(id, filename, size) {\n",
              "      if (!google.colab.kernel.accessAllowed) {\n",
              "        return;\n",
              "      }\n",
              "      const div = document.createElement('div');\n",
              "      const label = document.createElement('label');\n",
              "      label.textContent = `Downloading \"${filename}\": `;\n",
              "      div.appendChild(label);\n",
              "      const progress = document.createElement('progress');\n",
              "      progress.max = size;\n",
              "      div.appendChild(progress);\n",
              "      document.body.appendChild(div);\n",
              "\n",
              "      const buffers = [];\n",
              "      let downloaded = 0;\n",
              "\n",
              "      const channel = await google.colab.kernel.comms.open(id);\n",
              "      // Send a message to notify the kernel that we're ready.\n",
              "      channel.send({})\n",
              "\n",
              "      for await (const message of channel.messages) {\n",
              "        // Send a message to notify the kernel that we're ready.\n",
              "        channel.send({})\n",
              "        if (message.buffers) {\n",
              "          for (const buffer of message.buffers) {\n",
              "            buffers.push(buffer);\n",
              "            downloaded += buffer.byteLength;\n",
              "            progress.value = downloaded;\n",
              "          }\n",
              "        }\n",
              "      }\n",
              "      const blob = new Blob(buffers, {type: 'application/binary'});\n",
              "      const a = document.createElement('a');\n",
              "      a.href = window.URL.createObjectURL(blob);\n",
              "      a.download = filename;\n",
              "      div.appendChild(a);\n",
              "      a.click();\n",
              "      div.remove();\n",
              "    }\n",
              "  "
            ]
          },
          "metadata": {}
        },
        {
          "output_type": "display_data",
          "data": {
            "text/plain": [
              "<IPython.core.display.Javascript object>"
            ],
            "application/javascript": [
              "download(\"download_4a06c2f8-bbb0-4b86-9477-429bb89ad397\", \"requirements.txt\", 24)"
            ]
          },
          "metadata": {}
        }
      ]
    }
  ],
  "metadata": {
    "kernelspec": {
      "display_name": "Python 3 (ipykernel)",
      "language": "python",
      "name": "python3"
    },
    "language_info": {
      "codemirror_mode": {
        "name": "ipython",
        "version": 3
      },
      "file_extension": ".py",
      "mimetype": "text/x-python",
      "name": "python",
      "nbconvert_exporter": "python",
      "pygments_lexer": "ipython3",
      "version": "3.10.4"
    },
    "colab": {
      "provenance": [],
      "include_colab_link": true
    }
  },
  "nbformat": 4,
  "nbformat_minor": 5
}