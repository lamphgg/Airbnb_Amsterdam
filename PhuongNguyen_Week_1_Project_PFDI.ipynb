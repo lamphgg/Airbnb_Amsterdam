{
  "cells": [
    {
      "cell_type": "markdown",
      "metadata": {
        "id": "view-in-github",
        "colab_type": "text"
      },
      "source": [
        "<a href=\"https://colab.research.google.com/github/lamphgg/Airbnb_Amsterdam/blob/main/PhuongNguyen_Week_1_Project_PFDI.ipynb\" target=\"_parent\"><img src=\"https://colab.research.google.com/assets/colab-badge.svg\" alt=\"Open In Colab\"/></a>"
      ]
    },
    {
      "cell_type": "markdown",
      "id": "a2040e3d-bfb8-40b8-8861-4485db413cf7",
      "metadata": {
        "id": "a2040e3d-bfb8-40b8-8861-4485db413cf7"
      },
      "source": [
        "> 1. DUPLICATE THIS COLAB DOCUMENT TO START WORKING ON IT: On the top-left of this page, go to File > Save a copy to drive.\n",
        "> 2. SHARE SETTINGS: In the new notebook, set the sharing settings to \"Anyone with the link\" by clicking \"Share\" on the top-right corner.\n",
        "\n",
        "<center>\n",
        "  <img src=https://teamleader.fra1.cdn.digitaloceanspaces.com/corporate/production/header/_1200x630_crop_center-center_75_none/HQ_Blog_TheUltimateProjectmanager_Header.png width=\"500\" align=\"center\" />\n",
        "</center>\n",
        "<br/>\n",
        "\n",
        "# Week 1: Clean the Airbnb Dataset (and Deploy It!)\n",
        "\n",
        "Welcome to the first week's project for *Python for Data Science*!\n",
        "\n",
        "This week's lecture and material on CoRise showed you how to effectively use NumPy to clean, read, and process data. Now having looked at the data, you might be thinking to yourself, \"Why were these these latitude and longitude columns included in the dataset for Week 1?\" 🤷 We'll put this data to use in this project, and also get a preview of how you will be expected to make forecasts of your own with this data at the end of this course! For this week's project, we are going to use that location data to make an interactive app. We hope this project gets you excited for what's to come in following weeks 🙌🙌! \n",
        "\n",
        "But first, let's process our data! \n",
        "\n",
        "---\n",
        "\n",
        "*All the information required to finish this week's project can be found by clicking on the **\"Related section on CoRise\"**-link. If you are unable to do so, please reach out to us on Slack!*"
      ]
    },
    {
      "cell_type": "markdown",
      "id": "f86691c8-d0b3-4c58-bd5b-dcfe1c2b5ff2",
      "metadata": {
        "id": "f86691c8-d0b3-4c58-bd5b-dcfe1c2b5ff2"
      },
      "source": [
        "## Downloading the Dataset\n",
        "\n",
        "You will need to download some prerequisite packages in order to run all the code below. Let's install them!"
      ]
    },
    {
      "cell_type": "code",
      "source": [
        "%%capture\n",
        "!pip install numpy pandas streamlit gdown currencyconverter"
      ],
      "metadata": {
        "id": "J3MB5-_L32bV"
      },
      "id": "J3MB5-_L32bV",
      "execution_count": null,
      "outputs": []
    },
    {
      "cell_type": "code",
      "source": [
        "import numpy as np\n",
        "\n",
        "# For readability purposes, we will disable scientific notation for numbers\n",
        "np.set_printoptions(suppress=True)"
      ],
      "metadata": {
        "id": "TCoESZJw7Xfs"
      },
      "id": "TCoESZJw7Xfs",
      "execution_count": null,
      "outputs": []
    },
    {
      "cell_type": "markdown",
      "source": [
        "Taking a look at the `import` statements below shows that we are using a mix of Python out-of-the-box 🎁 libraries (os, shutil, gzip) alongside some custom ones (gdown, numpy). Gdown allows us to download files from Google Drive, which is where we saved our modified dataset. Gzip helps us unzip downloaded files. Shutil copies the downloaded files in the right location, and we'll use os to delete unneeded files."
      ],
      "metadata": {
        "id": "jKJRJSiM8pWW"
      },
      "id": "jKJRJSiM8pWW"
    },
    {
      "cell_type": "code",
      "execution_count": null,
      "id": "73934f9d-54f0-4c72-9bb3-7bfdb11419f2",
      "metadata": {
        "id": "73934f9d-54f0-4c72-9bb3-7bfdb11419f2",
        "colab": {
          "base_uri": "https://localhost:8080/",
          "height": 105
        },
        "outputId": "3ae48667-ed3f-41f1-d074-9c833fb6b26e"
      },
      "outputs": [
        {
          "output_type": "stream",
          "name": "stderr",
          "text": [
            "Downloading...\n",
            "From: https://drive.google.com/uc?id=13fyESiH1ZEnMV6eabAyhe20t4W6peEWK\n",
            "To: /content/WK1_Airbnb_Amsterdam_listings_proj.csv\n",
            "100%|██████████| 246k/246k [00:00<00:00, 41.2MB/s]\n"
          ]
        },
        {
          "output_type": "execute_result",
          "data": {
            "text/plain": [
              "'WK1_Airbnb_Amsterdam_listings_proj.csv'"
            ],
            "application/vnd.google.colaboratory.intrinsic+json": {
              "type": "string"
            }
          },
          "metadata": {},
          "execution_count": 121
        }
      ],
      "source": [
        "import os\n",
        "import shutil\n",
        "\n",
        "import gdown\n",
        "from numpy import genfromtxt\n",
        "\n",
        "# Download file from Google Drive\n",
        "# This file is based on data from: http://insideairbnb.com/get-the-data/\n",
        "file_id_1 = \"13fyESiH1ZEnMV6eabAyhe20t4W6peEWK\"\n",
        "downloaded_file_1 = \"WK1_Airbnb_Amsterdam_listings_proj.csv\"\n",
        "\n",
        "# Download the file from Google Drive\n",
        "gdown.download(id=file_id_1, output=downloaded_file_1)"
      ]
    },
    {
      "cell_type": "markdown",
      "id": "f4f4a85f-ad1a-46c0-8978-a049fa91dd72",
      "metadata": {
        "id": "f4f4a85f-ad1a-46c0-8978-a049fa91dd72"
      },
      "source": [
        "## Preprocessing the Dataset\n",
        "Getting this particular dataset loaded is a tad bit different from what we learned in this week's content. This time we only have 1 CSV file, so we do not need to merge it. So because there is no need to merge we can move right into data preprocessing!"
      ]
    },
    {
      "cell_type": "markdown",
      "id": "5b75635e-469f-45ef-bf57-2bd22c03e7e7",
      "metadata": {
        "id": "5b75635e-469f-45ef-bf57-2bd22c03e7e7"
      },
      "source": [
        "#### Task 1: Find your delimiter\n",
        "\n",
        "[*\\[Related section on CoRise\\]*](https://corise.com/course/python-for-data-science/v2/module/loading-inspect-dataset#corise_cl9jxhls800403b6pf9k9nh9e)\n",
        "\n",
        "Inspect the csv file we just downloaded and look at the type of delimiter it has. Once you've found the right delimiter, use the dtype \"unicode\". "
      ]
    },
    {
      "cell_type": "code",
      "execution_count": null,
      "id": "887bc0b0-3a61-4cf4-a534-d9dee0f639b8",
      "metadata": {
        "id": "887bc0b0-3a61-4cf4-a534-d9dee0f639b8"
      },
      "outputs": [],
      "source": [
        " from numpy import genfromtxt\n",
        "\n",
        "my_data = genfromtxt(downloaded_file_1, delimiter='|',dtype='unicode')# YOUR CODE HERE"
      ]
    },
    {
      "cell_type": "markdown",
      "source": [
        "Next, output the first four columns for inspection to see if you've got the data formatted how you'd like."
      ],
      "metadata": {
        "id": "XM90mSYSgkoI"
      },
      "id": "XM90mSYSgkoI"
    },
    {
      "cell_type": "code",
      "source": [
        "print(my_data[:,:4])"
      ],
      "metadata": {
        "id": "IVG_WkJzg0KC",
        "colab": {
          "base_uri": "https://localhost:8080/"
        },
        "outputId": "bf62ddb1-14ab-49e7-abb6-498372da9146"
      },
      "id": "IVG_WkJzg0KC",
      "execution_count": null,
      "outputs": [
        {
          "output_type": "stream",
          "name": "stdout",
          "text": [
            "[['' '0' '1' '2']\n",
            " ['id' '23726706' '35815036' '31553121']\n",
            " ['price' '$88.00' '$105.00' '$152.00']\n",
            " ['latitude' '52.34916' '52.42419' '52.43237']\n",
            " ['longitude' '4.97879' '4.95689' '4.91821']]\n"
          ]
        }
      ]
    },
    {
      "cell_type": "markdown",
      "source": [
        "Awesome! But notice our data is aligned a little differently than how we saw in the course materials. It's like we shifted our dataset by 90 degrees! You'll have to fix this a little bit later."
      ],
      "metadata": {
        "id": "bJx2m6DnhGiS"
      },
      "id": "bJx2m6DnhGiS"
    },
    {
      "cell_type": "markdown",
      "id": "6148c44a-aefe-474c-a5ab-7c7d9aad86c0",
      "metadata": {
        "id": "6148c44a-aefe-474c-a5ab-7c7d9aad86c0"
      },
      "source": [
        "#### Task 2: Clean it up\n",
        "\n",
        "[*\\[Related section on CoRise\\]*](https://corise.com/course/python-for-data-science/v2/module/merging-datasets#corise_cl9k2znzw000t3b6poq4jg6o5)\n",
        "\n",
        "In order for your calculations to run correctly, you need to have only the \"relevant\" numbers/entries present in your dataset. This means no headers, footers, redudant IDs, etc. Can you remove the first row and column, since you won't be needing them? Verify your work by again by printing out the first four columns."
      ]
    },
    {
      "cell_type": "code",
      "execution_count": null,
      "id": "62d32bbd-33e5-4dbe-b448-4f932c2119f2",
      "metadata": {
        "id": "62d32bbd-33e5-4dbe-b448-4f932c2119f2",
        "colab": {
          "base_uri": "https://localhost:8080/"
        },
        "outputId": "f5f8ab75-6fbc-4e83-baed-2e1b193b4312"
      },
      "outputs": [
        {
          "output_type": "execute_result",
          "data": {
            "text/plain": [
              "array([['23726706', '35815036', '31553121', '34745823'],\n",
              "       ['$88.00', '$105.00', '$152.00', '$87.00'],\n",
              "       ['52.34916', '52.42419', '52.43237', '52.2962'],\n",
              "       ['4.97879', '4.95689', '4.91821', '5.01231']], dtype='<U18')"
            ]
          },
          "metadata": {},
          "execution_count": 124
        }
      ],
      "source": [
        "# Remove the first column and row\n",
        "matrix = my_data[1:,1:]\n",
        "\n",
        "# Print out the first four columns\n",
        "matrix[:,:4]"
      ]
    },
    {
      "cell_type": "markdown",
      "id": "f221f2b8-872b-432b-83da-abe0c74d0e6d",
      "metadata": {
        "id": "f221f2b8-872b-432b-83da-abe0c74d0e6d"
      },
      "source": [
        "#### Task 3: Wide to long\n",
        "\n",
        "[*\\[Related section on CoRise\\]*](https://corise.com/course/python-for-data-science/v2/module/loading-inspect-dataset#corise_cl9jzn1sx007e3b6p564y4yec)\n",
        "\n",
        "As stated previously, our dataset is shifted by 90 degrees. Let's shift it another 90 degrees to get it back to how we'd expect, which is in a much more readable format. Please find in the course material in CoRise the correct operation that you'd need to use to do that. Again, verify your work by printing out of the first five rows."
      ]
    },
    {
      "cell_type": "code",
      "execution_count": null,
      "id": "b7210723-75ef-48ce-b568-2c2aeebfb013",
      "metadata": {
        "id": "b7210723-75ef-48ce-b568-2c2aeebfb013",
        "colab": {
          "base_uri": "https://localhost:8080/"
        },
        "outputId": "84e30874-cb61-4d5c-b9ad-9527c89f94d0"
      },
      "outputs": [
        {
          "output_type": "stream",
          "name": "stdout",
          "text": [
            "[['23726706' '$88.00' '52.34916' '4.97879']\n",
            " ['35815036' '$105.00' '52.42419' '4.95689']\n",
            " ['31553121' '$152.00' '52.43237' '4.91821']\n",
            " ['34745823' '$87.00' '52.2962' '5.01231']\n",
            " ['44586947' '$160.00' '52.31475' '5.0303']]\n"
          ]
        }
      ],
      "source": [
        "# Shift the matrix by 90 degrees\n",
        "matrix = matrix.T\n",
        "\n",
        "# Print out the first five rows\n",
        "# Entries: airbnb_id, price_usd, latitude, longitude\n",
        "print(matrix[:5,:])"
      ]
    },
    {
      "cell_type": "markdown",
      "id": "fa562426-e9b0-426a-aa1c-6c4dd8cd76ca",
      "metadata": {
        "id": "fa562426-e9b0-426a-aa1c-6c4dd8cd76ca"
      },
      "source": [
        "Now that all data is loaded properly, let's clean it up a bit like we did before by removing string characters and setting the right type 😁."
      ]
    },
    {
      "cell_type": "markdown",
      "id": "74231480-3ab7-463a-ae18-e7f7cf81764a",
      "metadata": {
        "id": "74231480-3ab7-463a-ae18-e7f7cf81764a"
      },
      "source": [
        "#### Task 4: That character is not appropriate\n",
        "\n",
        "[*\\[Related section on CoRise\\]*](https://corise.com/course/python-for-data-science/v2/module/merging-datasets#corise_cl9k3ccc7001v3b6pz8a29ekr)\n",
        "\n",
        "String characters like commas and dollar signs are yet again present in the dataset. Please find in the CoRise course materials the correct operation to filter out these two string characters from the dataset."
      ]
    },
    {
      "cell_type": "code",
      "execution_count": null,
      "id": "d912e33e-cc33-4e03-9163-7f061bac3711",
      "metadata": {
        "id": "d912e33e-cc33-4e03-9163-7f061bac3711"
      },
      "outputs": [],
      "source": [
        "# Remove the dollar sign\n",
        "matrix = np.char.replace(matrix, \"$\", \"\")\n",
        "\n",
        "# Remove the comma\n",
        "matrix = np.char.replace(matrix, \",\", \"\")"
      ]
    },
    {
      "cell_type": "markdown",
      "source": [
        "Awesome! Now the dataset contains only numerical values allowing us to perform numerical operations... at least if we set the type right!"
      ],
      "metadata": {
        "id": "59P9Vhe-kH06"
      },
      "id": "59P9Vhe-kH06"
    },
    {
      "cell_type": "markdown",
      "source": [
        "#### Task 5: Verification is the key to success!\n",
        "\n",
        "[*\\[Related section on CoRise\\]*](https://corise.com/course/python-for-data-science/v2/module/merging-datasets#corise_cl9k3ccc7001v3b6pz8a29ekr)\n",
        "\n",
        "Let's verify our matrix to confirm there are no more string characters present. Check to see if a dollar sign or comma still appears anywhere in the matrix. \n"
      ],
      "metadata": {
        "id": "jf6FdM8pk6BN"
      },
      "id": "jf6FdM8pk6BN"
    },
    {
      "cell_type": "code",
      "source": [
        "# Check if the dollar sign is in our dataset\n",
        "matrix[(np.char.find(matrix, \"$\") > -1)]"
      ],
      "metadata": {
        "id": "zuicHsxMohnz",
        "colab": {
          "base_uri": "https://localhost:8080/"
        },
        "outputId": "788320c1-7cfa-4fba-f2bd-66c2f4781e79"
      },
      "id": "zuicHsxMohnz",
      "execution_count": null,
      "outputs": [
        {
          "output_type": "execute_result",
          "data": {
            "text/plain": [
              "array([], dtype='<U18')"
            ]
          },
          "metadata": {},
          "execution_count": 127
        }
      ]
    },
    {
      "cell_type": "code",
      "source": [
        "# Check if the comma sign is in our dataset\n",
        "matrix[(np.char.find(matrix, \",\") > -1)]"
      ],
      "metadata": {
        "id": "JjpYr2JZousV",
        "colab": {
          "base_uri": "https://localhost:8080/"
        },
        "outputId": "ce51cc27-b6e6-4e64-83cd-4a9fbb452974"
      },
      "id": "JjpYr2JZousV",
      "execution_count": null,
      "outputs": [
        {
          "output_type": "execute_result",
          "data": {
            "text/plain": [
              "array([], dtype='<U18')"
            ]
          },
          "metadata": {},
          "execution_count": 128
        }
      ]
    },
    {
      "cell_type": "markdown",
      "id": "ed389a6d-8ad2-46aa-b1fa-56c7851584c0",
      "metadata": {
        "id": "ed389a6d-8ad2-46aa-b1fa-56c7851584c0"
      },
      "source": [
        "#### Task 6: Are you my type?\n",
        "\n",
        "[*\\[Related section on CoRise\\]*](https://corise.com/course/python-for-data-science/v2/module/merging-datasets#corise_cl9k3ccc7001v3b6pz8a29ekr)\n",
        "\n",
        "Enabling numerical operations (calculations) requires you to change the `dtype` from string/Unicode characters to [float of 32-bit precision](https://numpy.org/doc/stable/user/basics.types.html?highlight=data%20types). Please change the dtype of the matrix to float32.\n"
      ]
    },
    {
      "cell_type": "code",
      "execution_count": null,
      "id": "c78d95bf-bf7c-4342-9004-1f80616598ff",
      "metadata": {
        "id": "c78d95bf-bf7c-4342-9004-1f80616598ff",
        "colab": {
          "base_uri": "https://localhost:8080/"
        },
        "outputId": "f29869c8-d1fc-4500-d17e-46352345b8dd"
      },
      "outputs": [
        {
          "output_type": "stream",
          "name": "stdout",
          "text": [
            "[[23726706.            88.            52.34916        4.97879]\n",
            " [35815036.           105.            52.42419        4.95689]\n",
            " [31553120.           152.            52.43237        4.91821]\n",
            " [34745824.            87.            52.2962         5.01231]\n",
            " [44586948.           160.            52.31475        5.0303 ]]\n"
          ]
        }
      ],
      "source": [
        "# Change Unicode to float32\n",
        "matrix = np.float32(matrix)\n",
        "\n",
        "# Print out the first five rows (and inspect the dtype for correctness)\n",
        "# Entries: airbnb_id, price_usd, latitude, longitude\n",
        "print(matrix[:5,:])"
      ]
    },
    {
      "cell_type": "markdown",
      "id": "16249349-8d37-4d24-b0c4-8a416aeda7ea",
      "metadata": {
        "id": "16249349-8d37-4d24-b0c4-8a416aeda7ea"
      },
      "source": [
        "## The Price Is Right\n",
        "\n",
        "<center>\n",
        "  <img src=https://wwwimage-tve.cbsstatic.com/thumbnails/photos/w400-q80/blog/tpir-logo-promo_0_0.jpg width=\"500\" align=\"center\" />\n",
        "</center>\n",
        "<br/>\n",
        "\n",
        "[*\\[Related section on CoRise\\]*](https://corise.com/course/python-for-data-science/v2/module/math-superpowers#corise_cl9k5z30h005w3b6p5jv0vs82)\n",
        "\n",
        "Since all our values in the matrix are now recognized as numbers, we can perform some awesome calcultions! \n",
        "\n",
        "Our next objective is to change the currency from US dollars to another currency. This can be any currency you like, except for the US dollar. Let's first import the library that helps us to make these conversions. Then let's have another look at the first 5 rows of our matrix."
      ]
    },
    {
      "cell_type": "code",
      "execution_count": null,
      "id": "93e4e8b3-6f19-4e31-a324-2bd94dc461a2",
      "metadata": {
        "id": "93e4e8b3-6f19-4e31-a324-2bd94dc461a2",
        "colab": {
          "base_uri": "https://localhost:8080/"
        },
        "outputId": "5a11b161-0b68-49e9-c26f-fc8bff04ef52"
      },
      "outputs": [
        {
          "output_type": "stream",
          "name": "stdout",
          "text": [
            "[[23726706.            88.            52.34916        4.97879]\n",
            " [35815036.           105.            52.42419        4.95689]\n",
            " [31553120.           152.            52.43237        4.91821]\n",
            " [34745824.            87.            52.2962         5.01231]\n",
            " [44586948.           160.            52.31475        5.0303 ]]\n"
          ]
        }
      ],
      "source": [
        "from currency_converter import CurrencyConverter\n",
        "\n",
        "cc = CurrencyConverter()\n",
        "\n",
        "# Entries: airbnb_id, price_usd, latitude, longitude\n",
        "print(matrix[:5,:])"
      ]
    },
    {
      "cell_type": "markdown",
      "source": [
        "The currency conversion calculations you'll be performing should be applied to the second column. \n",
        "\n",
        "As a reminder, you should use the number \"1\" which represents the second column of the matrix, since indexes start at the number zero.\n",
        "\n",
        "Please only output the second column below:"
      ],
      "metadata": {
        "id": "yu69KkfA9kMl"
      },
      "id": "yu69KkfA9kMl"
    },
    {
      "cell_type": "code",
      "execution_count": null,
      "id": "cf6d4cdd-ae46-4be5-9204-537f45d9b4f4",
      "metadata": {
        "id": "cf6d4cdd-ae46-4be5-9204-537f45d9b4f4",
        "colab": {
          "base_uri": "https://localhost:8080/"
        },
        "outputId": "fc4c5d98-4086-4fe1-e261-78f401f3b380"
      },
      "outputs": [
        {
          "output_type": "stream",
          "name": "stdout",
          "text": [
            "\tSecond column is:\n",
            " [ 88. 105. 152. ... 180. 174.  65.]\n"
          ]
        }
      ],
      "source": [
        "print('\\tSecond column is:\\n', matrix[:, 1])"
      ]
    },
    {
      "cell_type": "markdown",
      "metadata": {
        "id": "MuUQATyL-CNj"
      },
      "source": [
        "#### Task 7: Pick any currency\n",
        "\n",
        "[*\\[Related section on CoRise\\]*](https://corise.com/course/python-for-data-science/v2/module/math-superpowers#corise_cl9k5z30h005w3b6p5jv0vs82)\n",
        "\n",
        "The tool you'll be using has a total of 42 currencies. Please select one of them, and use it to convert the dollars into your chosen currency. You can check which are available by running:"
      ],
      "id": "MuUQATyL-CNj"
    },
    {
      "cell_type": "code",
      "source": [
        "cc.currencies"
      ],
      "metadata": {
        "id": "KhehQKENWBLm",
        "colab": {
          "base_uri": "https://localhost:8080/"
        },
        "outputId": "49a4fd1d-13d6-452f-8cf5-eaee92cf3da4"
      },
      "id": "KhehQKENWBLm",
      "execution_count": null,
      "outputs": [
        {
          "output_type": "execute_result",
          "data": {
            "text/plain": [
              "{'AUD',\n",
              " 'BGN',\n",
              " 'BRL',\n",
              " 'CAD',\n",
              " 'CHF',\n",
              " 'CNY',\n",
              " 'CYP',\n",
              " 'CZK',\n",
              " 'DKK',\n",
              " 'EEK',\n",
              " 'EUR',\n",
              " 'GBP',\n",
              " 'HKD',\n",
              " 'HRK',\n",
              " 'HUF',\n",
              " 'IDR',\n",
              " 'ILS',\n",
              " 'INR',\n",
              " 'ISK',\n",
              " 'JPY',\n",
              " 'KRW',\n",
              " 'LTL',\n",
              " 'LVL',\n",
              " 'MTL',\n",
              " 'MXN',\n",
              " 'MYR',\n",
              " 'NOK',\n",
              " 'NZD',\n",
              " 'PHP',\n",
              " 'PLN',\n",
              " 'ROL',\n",
              " 'RON',\n",
              " 'RUB',\n",
              " 'SEK',\n",
              " 'SGD',\n",
              " 'SIT',\n",
              " 'SKK',\n",
              " 'THB',\n",
              " 'TRL',\n",
              " 'TRY',\n",
              " 'USD',\n",
              " 'ZAR'}"
            ]
          },
          "metadata": {},
          "execution_count": 132
        }
      ]
    },
    {
      "cell_type": "markdown",
      "source": [
        "#### Converting to KRW"
      ],
      "metadata": {
        "id": "l9eCO9c_u_hT"
      },
      "id": "l9eCO9c_u_hT"
    },
    {
      "cell_type": "markdown",
      "source": [
        "A suggestion for those who don't know which to choose: Feel free to use GBP."
      ],
      "metadata": {
        "id": "cj7Y4mPPWBUY"
      },
      "id": "cj7Y4mPPWBUY"
    },
    {
      "cell_type": "code",
      "execution_count": null,
      "id": "3b1b9df8-6b29-41a8-8bce-1a51bb710ec9",
      "metadata": {
        "id": "3b1b9df8-6b29-41a8-8bce-1a51bb710ec9",
        "colab": {
          "base_uri": "https://localhost:8080/"
        },
        "outputId": "905b85dd-fa6f-4433-9bc6-912febdce24d"
      },
      "outputs": [
        {
          "output_type": "stream",
          "name": "stdout",
          "text": [
            "[ 85.65311 102.19973 147.94627 ... 175.19954 169.35954  63.2665 ]\n"
          ]
        }
      ],
      "source": [
        "# Get the rate of conversaton from the US dollar to your currency of choice\n",
        "eur_rate = cc.convert(1,'USD','EUR')\n",
        "\n",
        "# Multiply the dollar column by your currency of choice\n",
        "matrix[:,1] = matrix[:,1] * eur_rate\n",
        "print(matrix[:,1])"
      ]
    },
    {
      "cell_type": "markdown",
      "id": "440efa8a-3c39-4615-a65a-e8ba956d6a9f",
      "metadata": {
        "id": "440efa8a-3c39-4615-a65a-e8ba956d6a9f"
      },
      "source": [
        "#### Task 8: Inflation!\n",
        "\n",
        "[*\\[Related section on CoRise\\]*](https://corise.com/course/python-for-data-science/v2/module/math-superpowers#corise_cl9k5z30h005w3b6p5jv0vs82)\n",
        "\n",
        "Recent inflation all around the world has caused many companies to raise their prices. Consequently, Airbnb listings have also raised their prices by a certain amount. Find the 2022 annual inflation rate for your currency of choice. If you can't find the inflation rate online, use 7% as value. Apply this inflation rate to our newly updated prices."
      ]
    },
    {
      "cell_type": "code",
      "execution_count": null,
      "id": "b9b77c45-ad45-424d-a826-91cc86712df6",
      "metadata": {
        "id": "b9b77c45-ad45-424d-a826-91cc86712df6",
        "colab": {
          "base_uri": "https://localhost:8080/"
        },
        "outputId": "04c9370c-68e7-4901-8ec2-f46db1b99aec"
      },
      "outputs": [
        {
          "output_type": "execute_result",
          "data": {
            "text/plain": [
              "array([ 91.64883 , 109.353714, 158.30252 , ..., 187.46352 , 181.21472 ,\n",
              "        67.69516 ], dtype=float32)"
            ]
          },
          "metadata": {},
          "execution_count": 134
        }
      ],
      "source": [
        "# Multiply the dollar column by the inflation percentage (1.00 + inflation)\n",
        "matrix[:,1] = matrix[:,1] * (1.00 + 0.07)\n",
        "matrix[:,1]"
      ]
    },
    {
      "cell_type": "markdown",
      "id": "3580b8ee-594a-4a79-8207-df656f23450c",
      "metadata": {
        "id": "3580b8ee-594a-4a79-8207-df656f23450c"
      },
      "source": [
        "#### Task 9: Too many decimals!\n",
        "\n",
        "[*\\[Related section on CoRise\\]*](https://corise.com/course/python-for-data-science/v2/module/math-superpowers#corise_cl9k5z30h005w3b6p5jv0vs82)\n",
        "\n",
        "You might have some prices longer than two decimals after changing the currency and adjusting the price for inflation. Please round the prices **down** to the nearest two decimals using a NumPy native function. [Here's a hint.](https://numpy.org/doc/stable/reference/generated/numpy.round_.html)"
      ]
    },
    {
      "cell_type": "code",
      "execution_count": null,
      "id": "4f62b24b-fb75-406d-92f0-033e1afec123",
      "metadata": {
        "id": "4f62b24b-fb75-406d-92f0-033e1afec123",
        "colab": {
          "base_uri": "https://localhost:8080/"
        },
        "outputId": "fbbfe0f5-c8c6-4490-84a3-af837a8fb452"
      },
      "outputs": [
        {
          "output_type": "execute_result",
          "data": {
            "text/plain": [
              "array([ 91.65, 109.35, 158.3 , ..., 187.46, 181.21,  67.7 ], dtype=float32)"
            ]
          },
          "metadata": {},
          "execution_count": 135
        }
      ],
      "source": [
        "# Round down the new currency column to 2 decimals\n",
        "matrix[:,1] = np.round_(matrix[:,1], decimals=2)\n",
        "matrix[:,1]"
      ]
    },
    {
      "cell_type": "markdown",
      "id": "6ec2a91e-8252-4fd2-86b0-919adb15b6d0",
      "metadata": {
        "id": "6ec2a91e-8252-4fd2-86b0-919adb15b6d0"
      },
      "source": [
        "## Where u (want to be) at?\n",
        "\n",
        "\n",
        "<center>\n",
        "  <img src=https://media.timeout.com/images/105504583/750/422/image.jpg width=\"500\" align=\"center\" />\n",
        "</center>\n",
        "<br/>\n",
        "\n",
        "Amsterdam is a city with a long history and a rich international culture, so there is always [something interesting to see and do](https://www.iamsterdam.com/en/see-and-do/things-to-do/top-20-things-to-do-in-amsterdam). What if you were to visit Amsterdam? You'd probably want to have your Airbnb close to your favorite spot!"
      ]
    },
    {
      "cell_type": "markdown",
      "id": "08eb3f54-9af1-483a-b6ac-354d6c77d77e",
      "metadata": {
        "id": "08eb3f54-9af1-483a-b6ac-354d6c77d77e"
      },
      "source": [
        "#### Task 10: Choose your location\n",
        "\n",
        "Look up a place you'd like to visit in Amsterdam's city center, along with its longitude and latitude. We want to save this for choosing an Airbnb listing to our liking. You can get coordinates from [Google](https://www.google.com/) by searching like so:\n",
        "\n",
        "<center>\n",
        "  <img src=https://i.ibb.co/XXdkH3z/Screen-Shot-2022-10-24-at-2-42-54-PM.png width=\"500\" align=\"center\" />\n",
        "</center>\n",
        "<br/>\n",
        "\n",
        "\n"
      ]
    },
    {
      "cell_type": "code",
      "execution_count": null,
      "id": "61014b50-cceb-4f75-9d4f-639c197eec52",
      "metadata": {
        "id": "61014b50-cceb-4f75-9d4f-639c197eec52"
      },
      "outputs": [],
      "source": [
        "# Favorite location\n",
        "latitude = 52.3584\n",
        "longitude = 4.8811\n",
        "\n",
        "#Coordinates of Van Gogh Museum"
      ]
    },
    {
      "cell_type": "markdown",
      "id": "4caaddc7-403f-4ed1-8593-2d1085bff3f7",
      "metadata": {
        "id": "4caaddc7-403f-4ed1-8593-2d1085bff3f7"
      },
      "source": [
        "## Listing All Listings\n",
        "\n",
        "<center>\n",
        "  <img src=https://images0.persgroep.net/rcs/vnd5KBhggcKV72YJjpLWH_-xljU/diocontent/131036963/_crop/34/170/1378/778/_fitwidth/763?appId=93a17a8fd81db0de025c8abd1cca1279&quality=0.8&desiredformat=webp width=\"500\" align=\"center\" />\n",
        "</center>\n",
        "<br/>\n",
        "\n",
        "Imagine Airbnb Amsterdam decided to deviate from Airbnb Global and provide a feature on their website that showed the best listings for you based on the locations you were planning to visit. Wouldn't it make sense to choose a place to stay in a location closest to where you're likely to go most often?\n",
        "\n",
        "So this is the most exciting part: You're going to calculate just that! You will limit your results to your favorite location in Amsterdam (as chosen above) and the surrounding available Airbnb listings using math and NumPy!\n",
        "\n",
        "We've already provided you with the math calculations down below. Please make sure to run that method!\n",
        "\n",
        "You'll have to use this method in a `for` loop or by using [`np.vectorize`](https://numpy.org/doc/stable/reference/generated/numpy.vectorize.html) as was shown on CoRise. "
      ]
    },
    {
      "cell_type": "code",
      "execution_count": null,
      "id": "b8911e6f-321f-4d93-9e8a-feb558fb2502",
      "metadata": {
        "id": "b8911e6f-321f-4d93-9e8a-feb558fb2502"
      },
      "outputs": [],
      "source": [
        "import math\n",
        "\n",
        "def from_location_to_airbnb_listing_in_meters(lat1: float, lon1: float, lat2: list, lon2: list):\n",
        "    # Source: https://community.esri.com/t5/coordinate-reference-systems-blog\n",
        "    # /distance-on-a-sphere-the-haversine-formula/ba-p/902128\n",
        "    \n",
        "    R = 6371000  # Radius of Earth in meters\n",
        "    phi_1 = math.radians(lat1)\n",
        "    phi_2 = math.radians(lat2)\n",
        "\n",
        "    delta_phi = math.radians(lat2 - lat1)\n",
        "    delta_lambda = math.radians(lon2 - lon1)\n",
        "\n",
        "    a = (\n",
        "        math.sin(delta_phi / 2.0) ** 2\n",
        "        + math.cos(phi_1) * math.cos(phi_2) * math.sin(delta_lambda / 2.0) ** 2\n",
        "    )\n",
        "\n",
        "    c = 2 * math.atan2(math.sqrt(a), math.sqrt(1 - a))\n",
        "\n",
        "    meters = R * c  # Output distance in meters\n",
        "\n",
        "    return round(meters, 0)"
      ]
    },
    {
      "cell_type": "markdown",
      "id": "1d059854-9eba-4c1e-bfbd-3aea2f3017ad",
      "metadata": {
        "id": "1d059854-9eba-4c1e-bfbd-3aea2f3017ad"
      },
      "source": [
        "#### Task 11: Loop or vectorize!\n",
        "\n",
        "[*\\[Related section on CoRise\\]*](https://corise.com/course/python-for-data-science/v2/module/math-superpowers#corise_cl9k5z30h005w3b6p5jv0vs82)\n",
        "\n",
        "Please implement a `for` loop (or vectorize) the `from_location_to_airbnb_listing_in_meters` function. ***For now just calculate these numbers. Don't add it as a new column to your matrix.***"
      ]
    },
    {
      "cell_type": "code",
      "execution_count": null,
      "id": "997ec8fa-5cc1-4fd3-ae01-fd53e0ffc0d6",
      "metadata": {
        "id": "997ec8fa-5cc1-4fd3-ae01-fd53e0ffc0d6"
      },
      "outputs": [],
      "source": [
        "# Create a loop or vectorized way to calculate the distance,\n",
        "# going over all latitude and longitude entries in the dataset\n",
        "\n",
        "vectorizing_function = np.vectorize(from_location_to_airbnb_listing_in_meters)\n",
        "distance = vectorizing_function(latitude, longitude, matrix[:,2], matrix[:,3])"
      ]
    },
    {
      "cell_type": "markdown",
      "source": [
        "Now let's use the `timeit` function to see how quickly the code is ran!\n",
        "\n",
        "[*\\[Related section on CoRise\\]*](https://corise.com/course/python-for-data-science/v2/module/math-superpowers#corise_cl9k5z30h005w3b6p5jv0vs82)"
      ],
      "metadata": {
        "id": "_JmXLcq4C7EB"
      },
      "id": "_JmXLcq4C7EB"
    },
    {
      "cell_type": "code",
      "source": [
        "%%timeit -r 4 -n 100\n",
        "\n",
        "# Allow a Python function to be used in a (semi-)vectorized way\n",
        "conv_to_meters = np.vectorize(from_location_to_airbnb_listing_in_meters)\n",
        "\n",
        "# Apply the function, use timeit\n",
        "conv_to_meters(latitude, longitude, matrix[:, 2], matrix[:, 3])"
      ],
      "metadata": {
        "id": "m1oqM9C2D4sJ",
        "colab": {
          "base_uri": "https://localhost:8080/"
        },
        "outputId": "80de2706-dabe-400f-85a0-73f2ac7663d1"
      },
      "id": "m1oqM9C2D4sJ",
      "execution_count": null,
      "outputs": [
        {
          "output_type": "stream",
          "name": "stdout",
          "text": [
            "15.5 ms ± 397 µs per loop (mean ± std. dev. of 4 runs, 100 loops each)\n"
          ]
        }
      ]
    },
    {
      "cell_type": "markdown",
      "id": "080e07c8-2e37-4a46-89f0-6b73048697e5",
      "metadata": {
        "id": "080e07c8-2e37-4a46-89f0-6b73048697e5"
      },
      "source": [
        "## Can We Do It Faster?\n",
        "\n",
        "<center>\n",
        "  <img src=https://upload.wikimedia.org/wikipedia/commons/9/9f/Serengeti_Lion_Running_saturated.jpg width=\"500\" align=\"center\" />\n",
        "</center>\n",
        "<br/>\n",
        "\n",
        "Now you might be thinking to yourself, *can we do this faster*? \n",
        "\n",
        "The answer is ***YES***! \n",
        "\n",
        "But please remember that optimization is always a trade-off between the need for speed and the need for delivery of your results!"
      ]
    },
    {
      "cell_type": "markdown",
      "id": "bab0fd01-6c42-46eb-b68a-28e66d63c2c6",
      "metadata": {
        "id": "bab0fd01-6c42-46eb-b68a-28e66d63c2c6"
      },
      "source": [
        "---\n",
        "\n",
        "#### (Extra Credit)  Task 12: NumPy all the way!\n",
        "\n",
        "[*\\[Related section on CoRise\\]*](https://corise.com/course/python-for-data-science/v2/module/math-superpowers#corise_cl9k5z30h005w3b6p5jv0vs82)\n",
        "\n",
        "Now convert the `from_location_to_airbnb_listing_in_meters` function into a pure NumPy function. You can do this by changing all the imported math functions into their NumPy variant. ***For now just calculate these numbers. Don't add it as a new column to your matrix.***"
      ]
    },
    {
      "cell_type": "code",
      "execution_count": null,
      "id": "b5a1712a-1b01-40c8-8d21-706001b22910",
      "metadata": {
        "id": "b5a1712a-1b01-40c8-8d21-706001b22910"
      },
      "outputs": [],
      "source": [
        "def from_location_to_airbnb_listing_in_meters(lat1: float, lon1: float, lat2: list, lon2: list):   \n",
        "    R = 6371000  # Radius of Earth in meters\n",
        "    phi_1 = np.radians(lat1) # CHANGE THIS\n",
        "    phi_2 = np.radians(lat2) # CHANGE THIS\n",
        "\n",
        "    delta_phi = np.radians(lat2 - lat1) # CHANGE THIS\n",
        "    delta_lambda = np.radians(lon2 - lon1) # CHANGE THIS\n",
        "\n",
        "    a = (\n",
        "        np.sin(delta_phi / 2.0) ** 2 # CHANGE THIS\n",
        "        + np.cos(phi_1) * np.cos(phi_2) * np.sin(delta_lambda / 2.0) ** 2 # CHANGE THIS (3x)\n",
        "    )\n",
        "\n",
        "    c = 2 * np.arctan2(np.sqrt(a), np.sqrt(1 - a)) # CHANGE THIS (3x)\n",
        "\n",
        "    meters = R * c  # Output distance in meters\n",
        "\n",
        "    return np.around(meters, 0) # CHANGE THIS"
      ]
    },
    {
      "cell_type": "code",
      "execution_count": null,
      "id": "532a16a5-d82b-4f70-a94e-5c78c5caab15",
      "metadata": {
        "id": "532a16a5-d82b-4f70-a94e-5c78c5caab15",
        "colab": {
          "base_uri": "https://localhost:8080/"
        },
        "outputId": "c5b9b4c8-dfed-4f98-bcf4-a37b85c4ddec"
      },
      "outputs": [
        {
          "output_type": "execute_result",
          "data": {
            "text/plain": [
              "array([6714., 8943., 8602., ..., 7680., 4432., 5600.])"
            ]
          },
          "metadata": {},
          "execution_count": 141
        }
      ],
      "source": [
        "# Run the converted NumPy method and check if it works\n",
        "from_location_to_airbnb_listing_in_meters(latitude, longitude, matrix[:, 2], matrix[:, 3])"
      ]
    },
    {
      "cell_type": "markdown",
      "source": [
        "#### (Extra Credit) Task 13: How much faster is it?\n",
        "\n",
        "[*\\[Related section on CoRise\\]*](https://corise.com/course/python-for-data-science/v2/module/math-superpowers#corise_cl9k5z30h005w3b6p5jv0vs82)\n",
        "\n",
        "Use the `timeit` function so we can compare it to the outcome of the prior task. This should be very similar to the `timeit`-code that was used below Task 11."
      ],
      "metadata": {
        "id": "7G3KvDaeF9YD"
      },
      "id": "7G3KvDaeF9YD"
    },
    {
      "cell_type": "code",
      "source": [
        "%%timeit -r 4 -n 100\n",
        "# Copy the code from Task 12 and add a timeit function above this comment\n",
        "from_location_to_airbnb_listing_in_meters(latitude, longitude, matrix[:, 2], matrix[:, 3])"
      ],
      "metadata": {
        "id": "xJjqvkBGGMT4",
        "colab": {
          "base_uri": "https://localhost:8080/"
        },
        "outputId": "82e56e95-2eea-42c3-bdbd-ad9059769e4e"
      },
      "id": "xJjqvkBGGMT4",
      "execution_count": null,
      "outputs": [
        {
          "output_type": "stream",
          "name": "stdout",
          "text": [
            "308 µs ± 32.6 µs per loop (mean ± std. dev. of 4 runs, 100 loops each)\n"
          ]
        }
      ]
    },
    {
      "cell_type": "markdown",
      "source": [
        "WOW! You see a massive speed-up just by switching your functions from default Python functions to their NumPy variants! Awesome!\n",
        "\n",
        "---"
      ],
      "metadata": {
        "id": "3Wwjec7vHDK_"
      },
      "id": "3Wwjec7vHDK_"
    },
    {
      "cell_type": "markdown",
      "id": "dc1d3c93-b298-4d7f-9382-5d97efd7d675",
      "metadata": {
        "id": "dc1d3c93-b298-4d7f-9382-5d97efd7d675"
      },
      "source": [
        "## Prep the Dataset for Download!\n",
        "\n",
        "\n",
        "Now that we've created a function to calculate the distance in meters for every Airbnb listing, we'll perform this calculation on the entire dataset and add the outputs to the matrix as a new column.\n",
        "\n",
        "Next to that, we'll add another column that contains only ones and zeros to represent the \"color\" of an entry/row. This column can be used later if you want to turn this dataset into an app using [Streamlit](https://streamlit.io/). This resource is great for when you want to translate your Python projects into an interactive website. More on that in the next section.\n",
        "\n",
        "As you'll see from the code, we'll also add our favorite location as an entry/row. (We've selected the coordinates of the Rijksmuseum. Feel free to change it to your favorite location in Amsterdam). \n",
        "\n",
        "\n"
      ]
    },
    {
      "cell_type": "code",
      "execution_count": null,
      "id": "587b2c11-6b59-4075-b002-be8516c62b2d",
      "metadata": {
        "id": "587b2c11-6b59-4075-b002-be8516c62b2d"
      },
      "outputs": [],
      "source": [
        "# Run the previous method\n",
        "meters = from_location_to_airbnb_listing_in_meters(\n",
        "    latitude, longitude, matrix[:, 2], matrix[:, 3]\n",
        ")\n",
        "\n",
        "# Add an axis to make concatenation possible\n",
        "meters = meters.reshape(-1, 1)\n",
        "\n",
        "# Append the distance in meters to the matrix\n",
        "matrix = np.concatenate((matrix, meters), axis=1)"
      ]
    },
    {
      "cell_type": "code",
      "execution_count": null,
      "id": "e60a7c93-fe1c-46d9-9e63-0e8635b0966d",
      "metadata": {
        "id": "e60a7c93-fe1c-46d9-9e63-0e8635b0966d",
        "colab": {
          "base_uri": "https://localhost:8080/"
        },
        "outputId": "a1577486-dfc6-45e4-e3e7-56c6fb5226d2"
      },
      "outputs": [
        {
          "output_type": "execute_result",
          "data": {
            "text/plain": [
              "array([[       1.        ,        0.        ,       52.36      ,\n",
              "               4.8852    ,        0.        ,        1.        ],\n",
              "       [23726706.        ,       91.65000153,       52.34915924,\n",
              "               4.97878981,     6714.        ,        0.        ],\n",
              "       [35815036.        ,      109.34999847,       52.42419052,\n",
              "               4.95689011,     8943.        ,        0.        ],\n",
              "       [31553120.        ,      158.30000305,       52.43236923,\n",
              "               4.91821003,     8602.        ,        0.        ],\n",
              "       [34745824.        ,       90.61000061,       52.2961998 ,\n",
              "               5.01231003,    11284.        ,        0.        ]])"
            ]
          },
          "metadata": {},
          "execution_count": 144
        }
      ],
      "source": [
        "# Append a color to the matrix\n",
        "colors = np.zeros(meters.shape)\n",
        "matrix = np.concatenate((matrix, colors), axis=1)\n",
        "\n",
        "# Append our entry to the matrix\n",
        "fav_entry = np.array([1, 0, 52.3600, 4.8852, 0, 1]).reshape(1, -1) # Change coordinates to your favorite location\n",
        "matrix = np.concatenate((fav_entry, matrix), axis=0)\n",
        "\n",
        "# Entries: airbnb_id, price, latitude, longitude,\n",
        "# meters from favorite point, color\n",
        "matrix[:5, :]"
      ]
    },
    {
      "cell_type": "code",
      "execution_count": null,
      "id": "2c9f02e3-9af7-4eb0-845d-96748114c5b3",
      "metadata": {
        "id": "2c9f02e3-9af7-4eb0-845d-96748114c5b3"
      },
      "outputs": [],
      "source": [
        "# Export the data to use in the primer for next week\n",
        "np.savetxt(\"WK1_Airbnb_Amsterdam_listings_proj_solution.csv\", matrix, delimiter=\",\")"
      ]
    },
    {
      "cell_type": "markdown",
      "source": [
        "Great! By running all the cells above, you've saved the matrix here on your Google Colab instance. Let's now look into how to download the dataset to your local machine."
      ],
      "metadata": {
        "id": "6YaljvSnHlwx"
      },
      "id": "6YaljvSnHlwx"
    },
    {
      "cell_type": "markdown",
      "source": [
        "### Download the Dataset to Your Local Machine!\n",
        "\n",
        "Google Colab comes with its own Python packages, allowing us to quickly download generated files like so:"
      ],
      "metadata": {
        "id": "vtFPkCD49UbC"
      },
      "id": "vtFPkCD49UbC"
    },
    {
      "cell_type": "code",
      "source": [
        "from google.colab import files\n",
        "\n",
        "# Download the file locally\n",
        "files.download('WK1_Airbnb_Amsterdam_listings_proj_solution.csv')"
      ],
      "metadata": {
        "id": "x0nVFL3_6bCC",
        "colab": {
          "base_uri": "https://localhost:8080/",
          "height": 17
        },
        "outputId": "f06e030b-ebf6-44ed-f383-1c816eed27fa"
      },
      "id": "x0nVFL3_6bCC",
      "execution_count": null,
      "outputs": [
        {
          "output_type": "display_data",
          "data": {
            "text/plain": [
              "<IPython.core.display.Javascript object>"
            ],
            "application/javascript": [
              "\n",
              "    async function download(id, filename, size) {\n",
              "      if (!google.colab.kernel.accessAllowed) {\n",
              "        return;\n",
              "      }\n",
              "      const div = document.createElement('div');\n",
              "      const label = document.createElement('label');\n",
              "      label.textContent = `Downloading \"${filename}\": `;\n",
              "      div.appendChild(label);\n",
              "      const progress = document.createElement('progress');\n",
              "      progress.max = size;\n",
              "      div.appendChild(progress);\n",
              "      document.body.appendChild(div);\n",
              "\n",
              "      const buffers = [];\n",
              "      let downloaded = 0;\n",
              "\n",
              "      const channel = await google.colab.kernel.comms.open(id);\n",
              "      // Send a message to notify the kernel that we're ready.\n",
              "      channel.send({})\n",
              "\n",
              "      for await (const message of channel.messages) {\n",
              "        // Send a message to notify the kernel that we're ready.\n",
              "        channel.send({})\n",
              "        if (message.buffers) {\n",
              "          for (const buffer of message.buffers) {\n",
              "            buffers.push(buffer);\n",
              "            downloaded += buffer.byteLength;\n",
              "            progress.value = downloaded;\n",
              "          }\n",
              "        }\n",
              "      }\n",
              "      const blob = new Blob(buffers, {type: 'application/binary'});\n",
              "      const a = document.createElement('a');\n",
              "      a.href = window.URL.createObjectURL(blob);\n",
              "      a.download = filename;\n",
              "      div.appendChild(a);\n",
              "      a.click();\n",
              "      div.remove();\n",
              "    }\n",
              "  "
            ]
          },
          "metadata": {}
        },
        {
          "output_type": "display_data",
          "data": {
            "text/plain": [
              "<IPython.core.display.Javascript object>"
            ],
            "application/javascript": [
              "download(\"download_9f5e0b4e-a8a3-4c07-b92b-c045af0d4b2d\", \"WK1_Airbnb_Amsterdam_listings_proj_solution.csv\", 926100)"
            ]
          },
          "metadata": {}
        }
      ]
    },
    {
      "cell_type": "code",
      "source": [
        "%%writefile streamlit_app.py\n",
        "import pandas as pd\n",
        "import plotly.express as px\n",
        "import streamlit as st\n",
        "\n",
        "# Display title and text\n",
        "st.title(\"Week 1 - Data and visualization\")\n",
        "st.markdown(\"Here we can see the dataframe created during this weeks project.\")\n",
        "\n",
        "# Read dataframe\n",
        "dataframe = pd.read_csv(\n",
        "    \"WK1_Airbnb_Amsterdam_listings_proj_solution.csv\",\n",
        "    names=[\n",
        "        \"Airbnb Listing ID\",\n",
        "        \"Price\",\n",
        "        \"Latitude\",\n",
        "        \"Longitude\",\n",
        "        \"Meters from chosen location\",\n",
        "        \"Location\",\n",
        "    ],\n",
        ")\n",
        "\n",
        "# We have a limited budget, therefore we would like to exclude\n",
        "# listings with a price above 100 pounds per night\n",
        "dataframe = dataframe[dataframe[\"Price\"] <= 100]\n",
        "\n",
        "# Display as integer\n",
        "dataframe[\"Airbnb Listing ID\"] = dataframe[\"Airbnb Listing ID\"].astype(int)\n",
        "# Round of values\n",
        "dataframe[\"Price\"] = \"£ \" + dataframe[\"Price\"].round(2).astype(str) # <--- CHANGE THIS POUND SYMBOL IF YOU CHOSE CURRENCY OTHER THAN POUND\n",
        "# Rename the number to a string\n",
        "dataframe[\"Location\"] = dataframe[\"Location\"].replace(\n",
        "    {1.0: \"To visit\", 0.0: \"Airbnb listing\"}\n",
        ")\n",
        "\n",
        "# Display dataframe and text\n",
        "st.dataframe(dataframe)\n",
        "st.markdown(\"Below is a map showing all the Airbnb listings with a red dot and the location we've chosen with a blue dot.\")\n",
        "\n",
        "# Create the plotly express figure\n",
        "fig = px.scatter_mapbox(\n",
        "    dataframe,\n",
        "    lat=\"Latitude\",\n",
        "    lon=\"Longitude\",\n",
        "    color=\"Location\",\n",
        "    zoom=11,\n",
        "    height=500,\n",
        "    width=800,\n",
        "    hover_name=\"Price\",\n",
        "    hover_data=[\"Meters from chosen location\", \"Location\"],\n",
        "    labels={\"color\": \"Locations\"},\n",
        ")\n",
        "fig.update_geos(center=dict(lat=dataframe.iloc[0][2], lon=dataframe.iloc[0][3]))\n",
        "fig.update_layout(mapbox_style=\"stamen-terrain\")\n",
        "\n",
        "# Show the figure\n",
        "st.plotly_chart(fig, use_container_width=True)"
      ],
      "metadata": {
        "id": "RMq6a-RfIn4U",
        "colab": {
          "base_uri": "https://localhost:8080/"
        },
        "outputId": "5887b0f2-d00b-4d69-d885-41b785839d72"
      },
      "id": "RMq6a-RfIn4U",
      "execution_count": null,
      "outputs": [
        {
          "output_type": "stream",
          "name": "stdout",
          "text": [
            "Overwriting streamlit_app.py\n"
          ]
        }
      ]
    },
    {
      "cell_type": "code",
      "source": [
        "dataframe = pd.read_csv(\n",
        "    \"WK1_Airbnb_Amsterdam_listings_proj_solution.csv\",\n",
        "    names=[\n",
        "        \"Airbnb Listing ID\",\n",
        "        \"Price\",\n",
        "        \"Latitude\",\n",
        "        \"Longitude\",\n",
        "        \"Meters from chosen location\",\n",
        "        \"Location\",\n",
        "    ],\n",
        ")\n",
        "\n",
        "# We have a limited budget, therefore we would like to exclude\n",
        "# listings with a price above 100 pounds per night\n",
        "dataframe = dataframe[dataframe[\"Price\"] <= 100]\n",
        "# Display as integer\n",
        "dataframe[\"Airbnb Listing ID\"] = dataframe[\"Airbnb Listing ID\"].astype(int)\n",
        "# Round of values\n",
        "dataframe[\"Price\"] = \"£ \" + dataframe[\"Price\"].round(2).astype(str) # <--- CHANGE THIS POUND SYMBOL IF YOU CHOSE CURRENCY OTHER THAN POUND\n",
        "# Rename the number to a string\n",
        "dataframe[\"Location\"] = dataframe[\"Location\"].replace(\n",
        "    {1.0: \"To visit\", 0.0: \"Airbnb listing\"}\n",
        ")\n",
        "fig = px.scatter_mapbox(\n",
        "    dataframe,\n",
        "    lat=\"Latitude\",\n",
        "    lon=\"Longitude\",\n",
        "    color=\"Location\",\n",
        "    zoom=11,\n",
        "    height=500,\n",
        "    width=800,\n",
        "    hover_name=\"Price\",\n",
        "    hover_data=[\"Meters from chosen location\", \"Location\"],\n",
        "    labels={\"color\": \"Locations\"},\n",
        ")\n",
        "fig.update_geos(center=dict(lat=dataframe.iloc[0][2], lon=dataframe.iloc[0][3]))\n",
        "fig.update_layout(mapbox_style=\"stamen-terrain\")\n"
      ],
      "metadata": {
        "colab": {
          "base_uri": "https://localhost:8080/",
          "height": 517
        },
        "id": "vQ_xoHCxEWAf",
        "outputId": "3444a3f8-7b0f-4d7d-fa98-34797166bd21"
      },
      "id": "vQ_xoHCxEWAf",
      "execution_count": null,
      "outputs": [
        {
          "output_type": "display_data",
          "data": {
            "text/html": [
              "<html>\n",
              "<head><meta charset=\"utf-8\" /></head>\n",
              "<body>\n",
              "    <div>            <script src=\"https://cdnjs.cloudflare.com/ajax/libs/mathjax/2.7.5/MathJax.js?config=TeX-AMS-MML_SVG\"></script><script type=\"text/javascript\">if (window.MathJax) {MathJax.Hub.Config({SVG: {font: \"STIX-Web\"}});}</script>                <script type=\"text/javascript\">window.PlotlyConfig = {MathJaxConfig: 'local'};</script>\n",
              "        <script src=\"https://cdn.plot.ly/plotly-2.8.3.min.js\"></script>                <div id=\"7a881bc0-e6e5-41b5-8957-b3221f6fc405\" class=\"plotly-graph-div\" style=\"height:500px; width:800px;\"></div>            <script type=\"text/javascript\">                                    window.PLOTLYENV=window.PLOTLYENV || {};                                    if (document.getElementById(\"7a881bc0-e6e5-41b5-8957-b3221f6fc405\")) {                    Plotly.newPlot(                        \"7a881bc0-e6e5-41b5-8957-b3221f6fc405\",                        [{\"customdata\":[[0.0,\"To visit\"]],\"hovertemplate\":\"<b>%{hovertext}</b><br><br>Location=%{customdata[1]}<br>Latitude=%{lat}<br>Longitude=%{lon}<br>Meters from chosen location=%{customdata[0]}<extra></extra>\",\"hovertext\":[\"\\u00a3 0.0\"],\"lat\":[52.36],\"legendgroup\":\"To visit\",\"lon\":[4.8852],\"marker\":{\"color\":\"#636efa\"},\"mode\":\"markers\",\"name\":\"To visit\",\"showlegend\":true,\"subplot\":\"mapbox\",\"type\":\"scattermapbox\"},{\"customdata\":[[6714.0,\"Airbnb listing\"],[11284.0,\"Airbnb listing\"],[5831.0,\"Airbnb listing\"],[5364.0,\"Airbnb listing\"],[11355.0,\"Airbnb listing\"],[4096.0,\"Airbnb listing\"],[4294.0,\"Airbnb listing\"],[1235.0,\"Airbnb listing\"],[1071.0,\"Airbnb listing\"],[2388.0,\"Airbnb listing\"],[3249.0,\"Airbnb listing\"],[2501.0,\"Airbnb listing\"],[1960.0,\"Airbnb listing\"],[2934.0,\"Airbnb listing\"],[2696.0,\"Airbnb listing\"],[1123.0,\"Airbnb listing\"],[2225.0,\"Airbnb listing\"],[2113.0,\"Airbnb listing\"],[3007.0,\"Airbnb listing\"],[1385.0,\"Airbnb listing\"],[8034.0,\"Airbnb listing\"],[6701.0,\"Airbnb listing\"],[1744.0,\"Airbnb listing\"],[3330.0,\"Airbnb listing\"],[1757.0,\"Airbnb listing\"],[4010.0,\"Airbnb listing\"],[2019.0,\"Airbnb listing\"],[1821.0,\"Airbnb listing\"],[2237.0,\"Airbnb listing\"],[1842.0,\"Airbnb listing\"],[2009.0,\"Airbnb listing\"],[6758.0,\"Airbnb listing\"],[3221.0,\"Airbnb listing\"],[7289.0,\"Airbnb listing\"],[2939.0,\"Airbnb listing\"],[2438.0,\"Airbnb listing\"],[5744.0,\"Airbnb listing\"],[6578.0,\"Airbnb listing\"],[6578.0,\"Airbnb listing\"],[843.0,\"Airbnb listing\"],[2921.0,\"Airbnb listing\"],[2486.0,\"Airbnb listing\"],[1987.0,\"Airbnb listing\"],[2011.0,\"Airbnb listing\"],[2596.0,\"Airbnb listing\"],[2945.0,\"Airbnb listing\"],[1272.0,\"Airbnb listing\"],[5822.0,\"Airbnb listing\"],[10804.0,\"Airbnb listing\"],[1310.0,\"Airbnb listing\"],[3240.0,\"Airbnb listing\"],[3275.0,\"Airbnb listing\"],[6337.0,\"Airbnb listing\"],[3452.0,\"Airbnb listing\"],[4467.0,\"Airbnb listing\"],[3923.0,\"Airbnb listing\"],[3391.0,\"Airbnb listing\"],[7309.0,\"Airbnb listing\"],[3742.0,\"Airbnb listing\"],[5737.0,\"Airbnb listing\"],[2776.0,\"Airbnb listing\"],[6235.0,\"Airbnb listing\"],[8554.0,\"Airbnb listing\"],[3155.0,\"Airbnb listing\"],[3613.0,\"Airbnb listing\"],[2458.0,\"Airbnb listing\"],[3069.0,\"Airbnb listing\"],[5411.0,\"Airbnb listing\"],[2979.0,\"Airbnb listing\"],[4189.0,\"Airbnb listing\"],[4675.0,\"Airbnb listing\"],[3160.0,\"Airbnb listing\"],[3933.0,\"Airbnb listing\"],[1946.0,\"Airbnb listing\"],[1286.0,\"Airbnb listing\"],[851.0,\"Airbnb listing\"],[5698.0,\"Airbnb listing\"],[1366.0,\"Airbnb listing\"],[3333.0,\"Airbnb listing\"],[3059.0,\"Airbnb listing\"],[3305.0,\"Airbnb listing\"],[4031.0,\"Airbnb listing\"],[3255.0,\"Airbnb listing\"],[795.0,\"Airbnb listing\"],[2598.0,\"Airbnb listing\"],[3446.0,\"Airbnb listing\"],[1764.0,\"Airbnb listing\"],[6576.0,\"Airbnb listing\"],[1792.0,\"Airbnb listing\"],[2677.0,\"Airbnb listing\"],[2175.0,\"Airbnb listing\"],[1310.0,\"Airbnb listing\"],[3391.0,\"Airbnb listing\"],[9632.0,\"Airbnb listing\"],[2452.0,\"Airbnb listing\"],[2577.0,\"Airbnb listing\"],[2452.0,\"Airbnb listing\"],[8554.0,\"Airbnb listing\"],[7466.0,\"Airbnb listing\"],[2986.0,\"Airbnb listing\"],[6957.0,\"Airbnb listing\"],[1812.0,\"Airbnb listing\"],[8034.0,\"Airbnb listing\"],[2833.0,\"Airbnb listing\"],[4182.0,\"Airbnb listing\"],[1173.0,\"Airbnb listing\"],[5337.0,\"Airbnb listing\"],[5984.0,\"Airbnb listing\"],[6834.0,\"Airbnb listing\"],[895.0,\"Airbnb listing\"],[1372.0,\"Airbnb listing\"],[1470.0,\"Airbnb listing\"],[2847.0,\"Airbnb listing\"],[1067.0,\"Airbnb listing\"],[3182.0,\"Airbnb listing\"],[3583.0,\"Airbnb listing\"],[358.0,\"Airbnb listing\"],[1297.0,\"Airbnb listing\"],[6641.0,\"Airbnb listing\"],[1215.0,\"Airbnb listing\"],[1132.0,\"Airbnb listing\"],[2790.0,\"Airbnb listing\"],[1739.0,\"Airbnb listing\"],[7017.0,\"Airbnb listing\"],[2297.0,\"Airbnb listing\"],[2613.0,\"Airbnb listing\"],[4215.0,\"Airbnb listing\"],[2371.0,\"Airbnb listing\"],[2924.0,\"Airbnb listing\"],[3711.0,\"Airbnb listing\"],[1503.0,\"Airbnb listing\"],[5926.0,\"Airbnb listing\"],[4088.0,\"Airbnb listing\"],[1457.0,\"Airbnb listing\"],[5816.0,\"Airbnb listing\"],[2082.0,\"Airbnb listing\"],[2506.0,\"Airbnb listing\"],[2406.0,\"Airbnb listing\"],[2468.0,\"Airbnb listing\"],[5057.0,\"Airbnb listing\"],[9116.0,\"Airbnb listing\"],[1828.0,\"Airbnb listing\"],[3451.0,\"Airbnb listing\"],[1397.0,\"Airbnb listing\"],[1778.0,\"Airbnb listing\"],[2057.0,\"Airbnb listing\"],[6780.0,\"Airbnb listing\"],[1402.0,\"Airbnb listing\"],[3622.0,\"Airbnb listing\"],[6368.0,\"Airbnb listing\"],[4342.0,\"Airbnb listing\"],[2159.0,\"Airbnb listing\"],[6411.0,\"Airbnb listing\"],[3508.0,\"Airbnb listing\"],[3807.0,\"Airbnb listing\"],[5370.0,\"Airbnb listing\"],[1810.0,\"Airbnb listing\"],[6531.0,\"Airbnb listing\"],[7708.0,\"Airbnb listing\"],[1237.0,\"Airbnb listing\"],[6017.0,\"Airbnb listing\"],[8705.0,\"Airbnb listing\"],[3599.0,\"Airbnb listing\"],[1015.0,\"Airbnb listing\"],[1437.0,\"Airbnb listing\"],[2711.0,\"Airbnb listing\"],[3037.0,\"Airbnb listing\"],[4922.0,\"Airbnb listing\"],[1124.0,\"Airbnb listing\"],[4859.0,\"Airbnb listing\"],[11682.0,\"Airbnb listing\"],[3588.0,\"Airbnb listing\"],[3944.0,\"Airbnb listing\"],[2874.0,\"Airbnb listing\"],[2655.0,\"Airbnb listing\"],[6786.0,\"Airbnb listing\"],[8705.0,\"Airbnb listing\"],[3134.0,\"Airbnb listing\"],[10343.0,\"Airbnb listing\"],[1404.0,\"Airbnb listing\"],[2305.0,\"Airbnb listing\"],[2498.0,\"Airbnb listing\"],[5263.0,\"Airbnb listing\"],[6151.0,\"Airbnb listing\"],[7436.0,\"Airbnb listing\"],[9504.0,\"Airbnb listing\"],[4277.0,\"Airbnb listing\"],[785.0,\"Airbnb listing\"],[7762.0,\"Airbnb listing\"],[1648.0,\"Airbnb listing\"],[7793.0,\"Airbnb listing\"],[3882.0,\"Airbnb listing\"],[1936.0,\"Airbnb listing\"],[2125.0,\"Airbnb listing\"],[3667.0,\"Airbnb listing\"],[1657.0,\"Airbnb listing\"],[886.0,\"Airbnb listing\"],[1962.0,\"Airbnb listing\"],[3493.0,\"Airbnb listing\"],[6635.0,\"Airbnb listing\"],[3482.0,\"Airbnb listing\"],[2760.0,\"Airbnb listing\"],[5504.0,\"Airbnb listing\"],[4113.0,\"Airbnb listing\"],[1227.0,\"Airbnb listing\"],[4122.0,\"Airbnb listing\"],[1828.0,\"Airbnb listing\"],[1595.0,\"Airbnb listing\"],[2119.0,\"Airbnb listing\"],[3740.0,\"Airbnb listing\"],[2452.0,\"Airbnb listing\"],[1401.0,\"Airbnb listing\"],[4026.0,\"Airbnb listing\"],[1575.0,\"Airbnb listing\"],[2672.0,\"Airbnb listing\"],[2418.0,\"Airbnb listing\"],[2263.0,\"Airbnb listing\"],[3041.0,\"Airbnb listing\"],[2362.0,\"Airbnb listing\"],[4950.0,\"Airbnb listing\"],[3206.0,\"Airbnb listing\"],[6110.0,\"Airbnb listing\"],[6348.0,\"Airbnb listing\"],[4881.0,\"Airbnb listing\"],[2389.0,\"Airbnb listing\"],[6372.0,\"Airbnb listing\"],[6349.0,\"Airbnb listing\"],[3546.0,\"Airbnb listing\"],[3897.0,\"Airbnb listing\"],[1868.0,\"Airbnb listing\"],[4173.0,\"Airbnb listing\"],[2657.0,\"Airbnb listing\"],[4083.0,\"Airbnb listing\"],[3254.0,\"Airbnb listing\"],[5330.0,\"Airbnb listing\"],[5924.0,\"Airbnb listing\"],[1774.0,\"Airbnb listing\"],[3542.0,\"Airbnb listing\"],[5698.0,\"Airbnb listing\"],[4544.0,\"Airbnb listing\"],[2691.0,\"Airbnb listing\"],[2175.0,\"Airbnb listing\"],[2757.0,\"Airbnb listing\"],[358.0,\"Airbnb listing\"],[1688.0,\"Airbnb listing\"],[3371.0,\"Airbnb listing\"],[3753.0,\"Airbnb listing\"],[3299.0,\"Airbnb listing\"],[1936.0,\"Airbnb listing\"],[7301.0,\"Airbnb listing\"],[3555.0,\"Airbnb listing\"],[3122.0,\"Airbnb listing\"],[4912.0,\"Airbnb listing\"],[2415.0,\"Airbnb listing\"],[5377.0,\"Airbnb listing\"],[4127.0,\"Airbnb listing\"],[613.0,\"Airbnb listing\"],[3969.0,\"Airbnb listing\"],[2152.0,\"Airbnb listing\"],[2152.0,\"Airbnb listing\"],[3900.0,\"Airbnb listing\"],[2747.0,\"Airbnb listing\"],[4987.0,\"Airbnb listing\"],[6052.0,\"Airbnb listing\"],[3227.0,\"Airbnb listing\"],[2361.0,\"Airbnb listing\"],[5734.0,\"Airbnb listing\"],[1619.0,\"Airbnb listing\"],[2384.0,\"Airbnb listing\"],[2147.0,\"Airbnb listing\"],[3163.0,\"Airbnb listing\"],[3994.0,\"Airbnb listing\"],[7025.0,\"Airbnb listing\"],[10127.0,\"Airbnb listing\"],[4969.0,\"Airbnb listing\"],[1454.0,\"Airbnb listing\"],[1908.0,\"Airbnb listing\"],[2419.0,\"Airbnb listing\"],[1983.0,\"Airbnb listing\"],[623.0,\"Airbnb listing\"],[6292.0,\"Airbnb listing\"],[3879.0,\"Airbnb listing\"],[2319.0,\"Airbnb listing\"],[1955.0,\"Airbnb listing\"],[2877.0,\"Airbnb listing\"],[1685.0,\"Airbnb listing\"],[2604.0,\"Airbnb listing\"],[5622.0,\"Airbnb listing\"],[3668.0,\"Airbnb listing\"],[3601.0,\"Airbnb listing\"],[10634.0,\"Airbnb listing\"],[3264.0,\"Airbnb listing\"],[4732.0,\"Airbnb listing\"],[5462.0,\"Airbnb listing\"],[1585.0,\"Airbnb listing\"],[3314.0,\"Airbnb listing\"],[2064.0,\"Airbnb listing\"],[2577.0,\"Airbnb listing\"],[1138.0,\"Airbnb listing\"],[3290.0,\"Airbnb listing\"],[2340.0,\"Airbnb listing\"],[2965.0,\"Airbnb listing\"],[8241.0,\"Airbnb listing\"],[4075.0,\"Airbnb listing\"],[3310.0,\"Airbnb listing\"],[3291.0,\"Airbnb listing\"],[6383.0,\"Airbnb listing\"],[3876.0,\"Airbnb listing\"],[2120.0,\"Airbnb listing\"],[6093.0,\"Airbnb listing\"],[6369.0,\"Airbnb listing\"],[3868.0,\"Airbnb listing\"],[4489.0,\"Airbnb listing\"],[2171.0,\"Airbnb listing\"],[3838.0,\"Airbnb listing\"],[2974.0,\"Airbnb listing\"],[1060.0,\"Airbnb listing\"],[3451.0,\"Airbnb listing\"],[1311.0,\"Airbnb listing\"],[3648.0,\"Airbnb listing\"],[3962.0,\"Airbnb listing\"],[1662.0,\"Airbnb listing\"],[1083.0,\"Airbnb listing\"],[6406.0,\"Airbnb listing\"],[8441.0,\"Airbnb listing\"],[1643.0,\"Airbnb listing\"],[6746.0,\"Airbnb listing\"],[3584.0,\"Airbnb listing\"],[4399.0,\"Airbnb listing\"],[1915.0,\"Airbnb listing\"],[8415.0,\"Airbnb listing\"],[6635.0,\"Airbnb listing\"],[4626.0,\"Airbnb listing\"],[5898.0,\"Airbnb listing\"],[1644.0,\"Airbnb listing\"],[8381.0,\"Airbnb listing\"],[3707.0,\"Airbnb listing\"],[8421.0,\"Airbnb listing\"],[8419.0,\"Airbnb listing\"],[8393.0,\"Airbnb listing\"],[8512.0,\"Airbnb listing\"],[8532.0,\"Airbnb listing\"],[2010.0,\"Airbnb listing\"],[2425.0,\"Airbnb listing\"],[798.0,\"Airbnb listing\"],[4292.0,\"Airbnb listing\"],[7460.0,\"Airbnb listing\"],[2540.0,\"Airbnb listing\"],[2220.0,\"Airbnb listing\"],[2858.0,\"Airbnb listing\"],[2046.0,\"Airbnb listing\"],[1824.0,\"Airbnb listing\"],[3261.0,\"Airbnb listing\"],[2586.0,\"Airbnb listing\"],[2118.0,\"Airbnb listing\"],[2231.0,\"Airbnb listing\"],[3105.0,\"Airbnb listing\"],[5033.0,\"Airbnb listing\"],[2671.0,\"Airbnb listing\"],[6893.0,\"Airbnb listing\"],[3165.0,\"Airbnb listing\"],[9187.0,\"Airbnb listing\"],[3452.0,\"Airbnb listing\"],[738.0,\"Airbnb listing\"],[3808.0,\"Airbnb listing\"],[6859.0,\"Airbnb listing\"],[1689.0,\"Airbnb listing\"],[6907.0,\"Airbnb listing\"],[10116.0,\"Airbnb listing\"],[6225.0,\"Airbnb listing\"],[2600.0,\"Airbnb listing\"],[2430.0,\"Airbnb listing\"],[4212.0,\"Airbnb listing\"],[1949.0,\"Airbnb listing\"],[1304.0,\"Airbnb listing\"],[5821.0,\"Airbnb listing\"],[1789.0,\"Airbnb listing\"],[5810.0,\"Airbnb listing\"],[2199.0,\"Airbnb listing\"],[482.0,\"Airbnb listing\"],[2082.0,\"Airbnb listing\"],[2382.0,\"Airbnb listing\"],[3557.0,\"Airbnb listing\"],[1700.0,\"Airbnb listing\"],[2916.0,\"Airbnb listing\"],[1910.0,\"Airbnb listing\"],[3426.0,\"Airbnb listing\"],[8679.0,\"Airbnb listing\"],[5941.0,\"Airbnb listing\"],[1929.0,\"Airbnb listing\"],[4606.0,\"Airbnb listing\"],[4628.0,\"Airbnb listing\"],[375.0,\"Airbnb listing\"],[1820.0,\"Airbnb listing\"],[9898.0,\"Airbnb listing\"],[5415.0,\"Airbnb listing\"],[2509.0,\"Airbnb listing\"],[5931.0,\"Airbnb listing\"],[1908.0,\"Airbnb listing\"],[2733.0,\"Airbnb listing\"],[2040.0,\"Airbnb listing\"],[3552.0,\"Airbnb listing\"],[1421.0,\"Airbnb listing\"],[4733.0,\"Airbnb listing\"],[1027.0,\"Airbnb listing\"],[5068.0,\"Airbnb listing\"],[5101.0,\"Airbnb listing\"],[2754.0,\"Airbnb listing\"],[2478.0,\"Airbnb listing\"],[9526.0,\"Airbnb listing\"],[9384.0,\"Airbnb listing\"],[2152.0,\"Airbnb listing\"],[5767.0,\"Airbnb listing\"],[8221.0,\"Airbnb listing\"],[1384.0,\"Airbnb listing\"],[2920.0,\"Airbnb listing\"],[785.0,\"Airbnb listing\"],[1031.0,\"Airbnb listing\"],[3187.0,\"Airbnb listing\"],[1827.0,\"Airbnb listing\"],[7700.0,\"Airbnb listing\"],[1024.0,\"Airbnb listing\"],[924.0,\"Airbnb listing\"],[1423.0,\"Airbnb listing\"],[2772.0,\"Airbnb listing\"],[2355.0,\"Airbnb listing\"],[1814.0,\"Airbnb listing\"],[3266.0,\"Airbnb listing\"],[3419.0,\"Airbnb listing\"],[1194.0,\"Airbnb listing\"],[6620.0,\"Airbnb listing\"],[3462.0,\"Airbnb listing\"],[8986.0,\"Airbnb listing\"],[2966.0,\"Airbnb listing\"],[2992.0,\"Airbnb listing\"],[5462.0,\"Airbnb listing\"],[3102.0,\"Airbnb listing\"],[4548.0,\"Airbnb listing\"],[2999.0,\"Airbnb listing\"],[5436.0,\"Airbnb listing\"],[1992.0,\"Airbnb listing\"],[11014.0,\"Airbnb listing\"],[2865.0,\"Airbnb listing\"],[2000.0,\"Airbnb listing\"],[1432.0,\"Airbnb listing\"],[6480.0,\"Airbnb listing\"],[1995.0,\"Airbnb listing\"],[4790.0,\"Airbnb listing\"],[6106.0,\"Airbnb listing\"],[8645.0,\"Airbnb listing\"],[1222.0,\"Airbnb listing\"],[6231.0,\"Airbnb listing\"],[2187.0,\"Airbnb listing\"],[3546.0,\"Airbnb listing\"],[3546.0,\"Airbnb listing\"],[2580.0,\"Airbnb listing\"],[6428.0,\"Airbnb listing\"],[2157.0,\"Airbnb listing\"],[3698.0,\"Airbnb listing\"],[2165.0,\"Airbnb listing\"],[1484.0,\"Airbnb listing\"],[859.0,\"Airbnb listing\"],[560.0,\"Airbnb listing\"],[6433.0,\"Airbnb listing\"],[3153.0,\"Airbnb listing\"],[7149.0,\"Airbnb listing\"],[5012.0,\"Airbnb listing\"],[2214.0,\"Airbnb listing\"],[7715.0,\"Airbnb listing\"],[7232.0,\"Airbnb listing\"],[6037.0,\"Airbnb listing\"],[2083.0,\"Airbnb listing\"],[2265.0,\"Airbnb listing\"],[6357.0,\"Airbnb listing\"],[7161.0,\"Airbnb listing\"],[3411.0,\"Airbnb listing\"],[3565.0,\"Airbnb listing\"],[7706.0,\"Airbnb listing\"],[4757.0,\"Airbnb listing\"],[7099.0,\"Airbnb listing\"],[3993.0,\"Airbnb listing\"],[3175.0,\"Airbnb listing\"],[5203.0,\"Airbnb listing\"],[4783.0,\"Airbnb listing\"],[2402.0,\"Airbnb listing\"],[2268.0,\"Airbnb listing\"],[6362.0,\"Airbnb listing\"],[1061.0,\"Airbnb listing\"],[6924.0,\"Airbnb listing\"],[1910.0,\"Airbnb listing\"],[3077.0,\"Airbnb listing\"],[2060.0,\"Airbnb listing\"],[2895.0,\"Airbnb listing\"],[3823.0,\"Airbnb listing\"],[1993.0,\"Airbnb listing\"],[1132.0,\"Airbnb listing\"],[2152.0,\"Airbnb listing\"],[6353.0,\"Airbnb listing\"],[6014.0,\"Airbnb listing\"],[1500.0,\"Airbnb listing\"],[2060.0,\"Airbnb listing\"],[2590.0,\"Airbnb listing\"],[1138.0,\"Airbnb listing\"],[2858.0,\"Airbnb listing\"],[2601.0,\"Airbnb listing\"],[2850.0,\"Airbnb listing\"],[2268.0,\"Airbnb listing\"],[2371.0,\"Airbnb listing\"],[2480.0,\"Airbnb listing\"],[2902.0,\"Airbnb listing\"],[4816.0,\"Airbnb listing\"],[7266.0,\"Airbnb listing\"],[3236.0,\"Airbnb listing\"],[2498.0,\"Airbnb listing\"],[3016.0,\"Airbnb listing\"],[2892.0,\"Airbnb listing\"],[4402.0,\"Airbnb listing\"],[3833.0,\"Airbnb listing\"],[3247.0,\"Airbnb listing\"],[3108.0,\"Airbnb listing\"],[3773.0,\"Airbnb listing\"],[6935.0,\"Airbnb listing\"],[6935.0,\"Airbnb listing\"],[5663.0,\"Airbnb listing\"],[8583.0,\"Airbnb listing\"],[1513.0,\"Airbnb listing\"],[3956.0,\"Airbnb listing\"],[3809.0,\"Airbnb listing\"],[2116.0,\"Airbnb listing\"],[2441.0,\"Airbnb listing\"],[3900.0,\"Airbnb listing\"],[4251.0,\"Airbnb listing\"],[559.0,\"Airbnb listing\"],[3334.0,\"Airbnb listing\"],[1485.0,\"Airbnb listing\"],[6363.0,\"Airbnb listing\"],[3259.0,\"Airbnb listing\"],[1970.0,\"Airbnb listing\"],[6670.0,\"Airbnb listing\"],[2135.0,\"Airbnb listing\"],[2723.0,\"Airbnb listing\"],[3368.0,\"Airbnb listing\"],[2960.0,\"Airbnb listing\"],[6514.0,\"Airbnb listing\"],[3974.0,\"Airbnb listing\"],[6935.0,\"Airbnb listing\"],[2318.0,\"Airbnb listing\"],[2275.0,\"Airbnb listing\"],[2276.0,\"Airbnb listing\"],[3696.0,\"Airbnb listing\"],[1680.0,\"Airbnb listing\"],[3933.0,\"Airbnb listing\"],[5980.0,\"Airbnb listing\"],[1053.0,\"Airbnb listing\"],[3744.0,\"Airbnb listing\"],[583.0,\"Airbnb listing\"],[2633.0,\"Airbnb listing\"],[988.0,\"Airbnb listing\"],[1899.0,\"Airbnb listing\"],[2275.0,\"Airbnb listing\"],[2284.0,\"Airbnb listing\"],[2284.0,\"Airbnb listing\"],[282.0,\"Airbnb listing\"],[282.0,\"Airbnb listing\"],[2013.0,\"Airbnb listing\"],[2013.0,\"Airbnb listing\"],[4891.0,\"Airbnb listing\"],[2782.0,\"Airbnb listing\"],[2200.0,\"Airbnb listing\"],[1972.0,\"Airbnb listing\"],[4026.0,\"Airbnb listing\"],[1915.0,\"Airbnb listing\"],[8661.0,\"Airbnb listing\"],[3207.0,\"Airbnb listing\"],[3380.0,\"Airbnb listing\"],[3125.0,\"Airbnb listing\"],[3162.0,\"Airbnb listing\"],[3367.0,\"Airbnb listing\"],[3172.0,\"Airbnb listing\"],[2826.0,\"Airbnb listing\"],[1816.0,\"Airbnb listing\"],[2416.0,\"Airbnb listing\"],[1821.0,\"Airbnb listing\"],[2405.0,\"Airbnb listing\"],[2337.0,\"Airbnb listing\"],[2737.0,\"Airbnb listing\"],[8461.0,\"Airbnb listing\"],[8456.0,\"Airbnb listing\"],[2817.0,\"Airbnb listing\"],[4930.0,\"Airbnb listing\"],[613.0,\"Airbnb listing\"],[4328.0,\"Airbnb listing\"],[3792.0,\"Airbnb listing\"],[1755.0,\"Airbnb listing\"],[4589.0,\"Airbnb listing\"],[2190.0,\"Airbnb listing\"],[4653.0,\"Airbnb listing\"],[7338.0,\"Airbnb listing\"],[2520.0,\"Airbnb listing\"],[4965.0,\"Airbnb listing\"],[6362.0,\"Airbnb listing\"],[3464.0,\"Airbnb listing\"],[2378.0,\"Airbnb listing\"],[4109.0,\"Airbnb listing\"],[2965.0,\"Airbnb listing\"],[2447.0,\"Airbnb listing\"],[6091.0,\"Airbnb listing\"],[2658.0,\"Airbnb listing\"],[2641.0,\"Airbnb listing\"],[7007.0,\"Airbnb listing\"],[2867.0,\"Airbnb listing\"],[8971.0,\"Airbnb listing\"],[3751.0,\"Airbnb listing\"],[2379.0,\"Airbnb listing\"],[4940.0,\"Airbnb listing\"],[2409.0,\"Airbnb listing\"],[2065.0,\"Airbnb listing\"],[4683.0,\"Airbnb listing\"],[3356.0,\"Airbnb listing\"],[3913.0,\"Airbnb listing\"],[6362.0,\"Airbnb listing\"],[3796.0,\"Airbnb listing\"],[3313.0,\"Airbnb listing\"],[2766.0,\"Airbnb listing\"],[3552.0,\"Airbnb listing\"],[2429.0,\"Airbnb listing\"],[8624.0,\"Airbnb listing\"],[2353.0,\"Airbnb listing\"],[4189.0,\"Airbnb listing\"],[8790.0,\"Airbnb listing\"],[1934.0,\"Airbnb listing\"],[3751.0,\"Airbnb listing\"],[9081.0,\"Airbnb listing\"],[2497.0,\"Airbnb listing\"],[5987.0,\"Airbnb listing\"],[1603.0,\"Airbnb listing\"],[1714.0,\"Airbnb listing\"],[3140.0,\"Airbnb listing\"],[4845.0,\"Airbnb listing\"],[5773.0,\"Airbnb listing\"],[5905.0,\"Airbnb listing\"],[1714.0,\"Airbnb listing\"],[6089.0,\"Airbnb listing\"],[3059.0,\"Airbnb listing\"],[2871.0,\"Airbnb listing\"],[6733.0,\"Airbnb listing\"],[2452.0,\"Airbnb listing\"],[1314.0,\"Airbnb listing\"],[6239.0,\"Airbnb listing\"],[3034.0,\"Airbnb listing\"],[975.0,\"Airbnb listing\"],[5553.0,\"Airbnb listing\"],[3352.0,\"Airbnb listing\"],[5686.0,\"Airbnb listing\"],[3404.0,\"Airbnb listing\"],[3389.0,\"Airbnb listing\"],[1867.0,\"Airbnb listing\"],[3451.0,\"Airbnb listing\"],[6579.0,\"Airbnb listing\"],[5643.0,\"Airbnb listing\"],[3430.0,\"Airbnb listing\"],[2877.0,\"Airbnb listing\"],[5934.0,\"Airbnb listing\"],[2849.0,\"Airbnb listing\"],[4792.0,\"Airbnb listing\"],[556.0,\"Airbnb listing\"],[2598.0,\"Airbnb listing\"],[2390.0,\"Airbnb listing\"],[6520.0,\"Airbnb listing\"],[3538.0,\"Airbnb listing\"],[1101.0,\"Airbnb listing\"],[1552.0,\"Airbnb listing\"],[1282.0,\"Airbnb listing\"],[4876.0,\"Airbnb listing\"],[6183.0,\"Airbnb listing\"],[3089.0,\"Airbnb listing\"],[638.0,\"Airbnb listing\"],[4602.0,\"Airbnb listing\"],[3326.0,\"Airbnb listing\"],[2013.0,\"Airbnb listing\"],[3405.0,\"Airbnb listing\"],[10296.0,\"Airbnb listing\"],[2013.0,\"Airbnb listing\"],[1397.0,\"Airbnb listing\"],[4984.0,\"Airbnb listing\"],[6047.0,\"Airbnb listing\"],[3835.0,\"Airbnb listing\"],[4185.0,\"Airbnb listing\"],[4273.0,\"Airbnb listing\"],[1452.0,\"Airbnb listing\"],[3661.0,\"Airbnb listing\"],[4185.0,\"Airbnb listing\"],[4161.0,\"Airbnb listing\"],[7083.0,\"Airbnb listing\"],[4154.0,\"Airbnb listing\"],[4237.0,\"Airbnb listing\"],[4264.0,\"Airbnb listing\"],[4152.0,\"Airbnb listing\"],[2629.0,\"Airbnb listing\"],[3635.0,\"Airbnb listing\"],[4698.0,\"Airbnb listing\"],[659.0,\"Airbnb listing\"],[1252.0,\"Airbnb listing\"],[1963.0,\"Airbnb listing\"],[3552.0,\"Airbnb listing\"],[2597.0,\"Airbnb listing\"],[3212.0,\"Airbnb listing\"],[832.0,\"Airbnb listing\"],[2137.0,\"Airbnb listing\"],[8565.0,\"Airbnb listing\"],[3412.0,\"Airbnb listing\"],[1055.0,\"Airbnb listing\"],[2103.0,\"Airbnb listing\"],[3052.0,\"Airbnb listing\"],[2265.0,\"Airbnb listing\"],[861.0,\"Airbnb listing\"],[1753.0,\"Airbnb listing\"],[2970.0,\"Airbnb listing\"],[1401.0,\"Airbnb listing\"],[1917.0,\"Airbnb listing\"],[6292.0,\"Airbnb listing\"],[5622.0,\"Airbnb listing\"],[4871.0,\"Airbnb listing\"],[2781.0,\"Airbnb listing\"],[2347.0,\"Airbnb listing\"],[4030.0,\"Airbnb listing\"],[1203.0,\"Airbnb listing\"],[3698.0,\"Airbnb listing\"],[3912.0,\"Airbnb listing\"],[1504.0,\"Airbnb listing\"],[8511.0,\"Airbnb listing\"],[282.0,\"Airbnb listing\"],[1260.0,\"Airbnb listing\"],[6780.0,\"Airbnb listing\"],[122.0,\"Airbnb listing\"],[4001.0,\"Airbnb listing\"],[6935.0,\"Airbnb listing\"],[3557.0,\"Airbnb listing\"],[5451.0,\"Airbnb listing\"],[2078.0,\"Airbnb listing\"],[2229.0,\"Airbnb listing\"],[1029.0,\"Airbnb listing\"],[1944.0,\"Airbnb listing\"],[1720.0,\"Airbnb listing\"],[7969.0,\"Airbnb listing\"],[2307.0,\"Airbnb listing\"],[512.0,\"Airbnb listing\"],[2606.0,\"Airbnb listing\"],[5677.0,\"Airbnb listing\"],[2530.0,\"Airbnb listing\"],[2584.0,\"Airbnb listing\"],[2491.0,\"Airbnb listing\"],[2528.0,\"Airbnb listing\"],[3083.0,\"Airbnb listing\"],[1850.0,\"Airbnb listing\"],[1499.0,\"Airbnb listing\"],[9112.0,\"Airbnb listing\"],[2644.0,\"Airbnb listing\"],[2964.0,\"Airbnb listing\"],[1885.0,\"Airbnb listing\"],[1545.0,\"Airbnb listing\"],[4298.0,\"Airbnb listing\"],[634.0,\"Airbnb listing\"],[2702.0,\"Airbnb listing\"],[2053.0,\"Airbnb listing\"],[4394.0,\"Airbnb listing\"],[4482.0,\"Airbnb listing\"],[2891.0,\"Airbnb listing\"],[1794.0,\"Airbnb listing\"],[4191.0,\"Airbnb listing\"],[3585.0,\"Airbnb listing\"],[1399.0,\"Airbnb listing\"],[1900.0,\"Airbnb listing\"],[2902.0,\"Airbnb listing\"],[2963.0,\"Airbnb listing\"],[2605.0,\"Airbnb listing\"],[3429.0,\"Airbnb listing\"],[2434.0,\"Airbnb listing\"],[2443.0,\"Airbnb listing\"],[2338.0,\"Airbnb listing\"],[3892.0,\"Airbnb listing\"],[3773.0,\"Airbnb listing\"],[2387.0,\"Airbnb listing\"],[8480.0,\"Airbnb listing\"],[4094.0,\"Airbnb listing\"],[2337.0,\"Airbnb listing\"],[1977.0,\"Airbnb listing\"],[9486.0,\"Airbnb listing\"],[3321.0,\"Airbnb listing\"],[3475.0,\"Airbnb listing\"],[1494.0,\"Airbnb listing\"],[757.0,\"Airbnb listing\"],[2451.0,\"Airbnb listing\"],[2609.0,\"Airbnb listing\"],[2496.0,\"Airbnb listing\"],[2546.0,\"Airbnb listing\"],[2438.0,\"Airbnb listing\"],[1203.0,\"Airbnb listing\"],[8444.0,\"Airbnb listing\"],[4001.0,\"Airbnb listing\"],[3028.0,\"Airbnb listing\"],[2298.0,\"Airbnb listing\"],[3629.0,\"Airbnb listing\"],[3563.0,\"Airbnb listing\"],[1776.0,\"Airbnb listing\"],[1520.0,\"Airbnb listing\"],[5446.0,\"Airbnb listing\"],[4274.0,\"Airbnb listing\"],[3107.0,\"Airbnb listing\"],[2551.0,\"Airbnb listing\"],[2097.0,\"Airbnb listing\"],[1814.0,\"Airbnb listing\"],[1702.0,\"Airbnb listing\"],[4324.0,\"Airbnb listing\"],[9174.0,\"Airbnb listing\"],[4130.0,\"Airbnb listing\"],[5555.0,\"Airbnb listing\"],[2281.0,\"Airbnb listing\"],[1134.0,\"Airbnb listing\"],[4361.0,\"Airbnb listing\"],[1133.0,\"Airbnb listing\"],[2847.0,\"Airbnb listing\"],[1791.0,\"Airbnb listing\"],[703.0,\"Airbnb listing\"],[6325.0,\"Airbnb listing\"],[5771.0,\"Airbnb listing\"],[8115.0,\"Airbnb listing\"],[5598.0,\"Airbnb listing\"],[5656.0,\"Airbnb listing\"],[5847.0,\"Airbnb listing\"],[4062.0,\"Airbnb listing\"],[4298.0,\"Airbnb listing\"],[2742.0,\"Airbnb listing\"],[3639.0,\"Airbnb listing\"],[2128.0,\"Airbnb listing\"],[7879.0,\"Airbnb listing\"],[7995.0,\"Airbnb listing\"],[5188.0,\"Airbnb listing\"],[7247.0,\"Airbnb listing\"],[3830.0,\"Airbnb listing\"],[7122.0,\"Airbnb listing\"],[1448.0,\"Airbnb listing\"],[2051.0,\"Airbnb listing\"],[1771.0,\"Airbnb listing\"],[6651.0,\"Airbnb listing\"],[1530.0,\"Airbnb listing\"],[2252.0,\"Airbnb listing\"],[2134.0,\"Airbnb listing\"],[4837.0,\"Airbnb listing\"],[8406.0,\"Airbnb listing\"],[15197.0,\"Airbnb listing\"],[4814.0,\"Airbnb listing\"],[9728.0,\"Airbnb listing\"],[10358.0,\"Airbnb listing\"],[8686.0,\"Airbnb listing\"],[4759.0,\"Airbnb listing\"],[5937.0,\"Airbnb listing\"],[5385.0,\"Airbnb listing\"],[8892.0,\"Airbnb listing\"],[11675.0,\"Airbnb listing\"],[6420.0,\"Airbnb listing\"],[11526.0,\"Airbnb listing\"],[6553.0,\"Airbnb listing\"],[8274.0,\"Airbnb listing\"],[8202.0,\"Airbnb listing\"],[9627.0,\"Airbnb listing\"],[11945.0,\"Airbnb listing\"],[11449.0,\"Airbnb listing\"],[4260.0,\"Airbnb listing\"],[6325.0,\"Airbnb listing\"],[6133.0,\"Airbnb listing\"],[6301.0,\"Airbnb listing\"],[7058.0,\"Airbnb listing\"],[11707.0,\"Airbnb listing\"],[6461.0,\"Airbnb listing\"],[4824.0,\"Airbnb listing\"],[5444.0,\"Airbnb listing\"],[4856.0,\"Airbnb listing\"],[9264.0,\"Airbnb listing\"],[12194.0,\"Airbnb listing\"],[8961.0,\"Airbnb listing\"],[7338.0,\"Airbnb listing\"],[6669.0,\"Airbnb listing\"],[9269.0,\"Airbnb listing\"],[9616.0,\"Airbnb listing\"],[9578.0,\"Airbnb listing\"],[8611.0,\"Airbnb listing\"],[9637.0,\"Airbnb listing\"],[9317.0,\"Airbnb listing\"],[4032.0,\"Airbnb listing\"],[8558.0,\"Airbnb listing\"],[5866.0,\"Airbnb listing\"],[8347.0,\"Airbnb listing\"],[6616.0,\"Airbnb listing\"],[13155.0,\"Airbnb listing\"],[11294.0,\"Airbnb listing\"],[9400.0,\"Airbnb listing\"],[13413.0,\"Airbnb listing\"],[11853.0,\"Airbnb listing\"],[11907.0,\"Airbnb listing\"],[6498.0,\"Airbnb listing\"],[12021.0,\"Airbnb listing\"],[9792.0,\"Airbnb listing\"],[6037.0,\"Airbnb listing\"],[6897.0,\"Airbnb listing\"],[11899.0,\"Airbnb listing\"],[4901.0,\"Airbnb listing\"],[5833.0,\"Airbnb listing\"],[5077.0,\"Airbnb listing\"],[12013.0,\"Airbnb listing\"],[9011.0,\"Airbnb listing\"],[11595.0,\"Airbnb listing\"],[8862.0,\"Airbnb listing\"],[10241.0,\"Airbnb listing\"],[11621.0,\"Airbnb listing\"],[11480.0,\"Airbnb listing\"],[8313.0,\"Airbnb listing\"],[11689.0,\"Airbnb listing\"],[9580.0,\"Airbnb listing\"],[9695.0,\"Airbnb listing\"],[10548.0,\"Airbnb listing\"],[8538.0,\"Airbnb listing\"],[9530.0,\"Airbnb listing\"],[10230.0,\"Airbnb listing\"],[8599.0,\"Airbnb listing\"],[12049.0,\"Airbnb listing\"],[4406.0,\"Airbnb listing\"],[11355.0,\"Airbnb listing\"],[11485.0,\"Airbnb listing\"],[10948.0,\"Airbnb listing\"],[12017.0,\"Airbnb listing\"],[4326.0,\"Airbnb listing\"],[4384.0,\"Airbnb listing\"],[8571.0,\"Airbnb listing\"],[6095.0,\"Airbnb listing\"],[5558.0,\"Airbnb listing\"],[6055.0,\"Airbnb listing\"],[12082.0,\"Airbnb listing\"],[11870.0,\"Airbnb listing\"],[4365.0,\"Airbnb listing\"],[11731.0,\"Airbnb listing\"],[11323.0,\"Airbnb listing\"],[11495.0,\"Airbnb listing\"],[11763.0,\"Airbnb listing\"],[6948.0,\"Airbnb listing\"],[11563.0,\"Airbnb listing\"],[11863.0,\"Airbnb listing\"],[15197.0,\"Airbnb listing\"],[13211.0,\"Airbnb listing\"],[11526.0,\"Airbnb listing\"],[12102.0,\"Airbnb listing\"],[5358.0,\"Airbnb listing\"],[4363.0,\"Airbnb listing\"],[12004.0,\"Airbnb listing\"],[7919.0,\"Airbnb listing\"],[12093.0,\"Airbnb listing\"],[5040.0,\"Airbnb listing\"],[4333.0,\"Airbnb listing\"],[5113.0,\"Airbnb listing\"],[5477.0,\"Airbnb listing\"],[11851.0,\"Airbnb listing\"],[4947.0,\"Airbnb listing\"],[4498.0,\"Airbnb listing\"],[6382.0,\"Airbnb listing\"],[5338.0,\"Airbnb listing\"],[4896.0,\"Airbnb listing\"],[5218.0,\"Airbnb listing\"],[5598.0,\"Airbnb listing\"],[6786.0,\"Airbnb listing\"],[5752.0,\"Airbnb listing\"],[5600.0,\"Airbnb listing\"]],\"hovertemplate\":\"<b>%{hovertext}</b><br><br>Location=%{customdata[1]}<br>Latitude=%{lat}<br>Longitude=%{lon}<br>Meters from chosen location=%{customdata[0]}<extra></extra>\",\"hovertext\":[\"\\u00a3 91.65\",\"\\u00a3 90.61\",\"\\u00a3 93.73\",\"\\u00a3 61.45\",\"\\u00a3 92.69\",\"\\u00a3 49.99\",\"\\u00a3 51.03\",\"\\u00a3 78.11\",\"\\u00a3 57.28\",\"\\u00a3 85.4\",\"\\u00a3 66.65\",\"\\u00a3 91.65\",\"\\u00a3 91.65\",\"\\u00a3 91.65\",\"\\u00a3 98.94\",\"\\u00a3 98.94\",\"\\u00a3 72.9\",\"\\u00a3 82.28\",\"\\u00a3 83.32\",\"\\u00a3 78.11\",\"\\u00a3 90.61\",\"\\u00a3 62.49\",\"\\u00a3 97.9\",\"\\u00a3 90.61\",\"\\u00a3 78.11\",\"\\u00a3 73.94\",\"\\u00a3 98.94\",\"\\u00a3 85.4\",\"\\u00a3 74.99\",\"\\u00a3 88.52\",\"\\u00a3 62.49\",\"\\u00a3 64.57\",\"\\u00a3 69.78\",\"\\u00a3 91.65\",\"\\u00a3 71.86\",\"\\u00a3 98.94\",\"\\u00a3 88.52\",\"\\u00a3 74.99\",\"\\u00a3 80.19\",\"\\u00a3 99.98\",\"\\u00a3 98.94\",\"\\u00a3 84.36\",\"\\u00a3 33.33\",\"\\u00a3 86.44\",\"\\u00a3 76.03\",\"\\u00a3 69.78\",\"\\u00a3 81.23\",\"\\u00a3 83.32\",\"\\u00a3 42.7\",\"\\u00a3 88.52\",\"\\u00a3 77.07\",\"\\u00a3 88.52\",\"\\u00a3 57.28\",\"\\u00a3 78.11\",\"\\u00a3 93.73\",\"\\u00a3 83.32\",\"\\u00a3 85.4\",\"\\u00a3 84.36\",\"\\u00a3 66.65\",\"\\u00a3 61.45\",\"\\u00a3 82.28\",\"\\u00a3 78.11\",\"\\u00a3 80.19\",\"\\u00a3 77.07\",\"\\u00a3 62.49\",\"\\u00a3 91.65\",\"\\u00a3 91.65\",\"\\u00a3 52.07\",\"\\u00a3 53.11\",\"\\u00a3 85.4\",\"\\u00a3 78.11\",\"\\u00a3 46.87\",\"\\u00a3 52.07\",\"\\u00a3 93.73\",\"\\u00a3 84.36\",\"\\u00a3 53.11\",\"\\u00a3 82.28\",\"\\u00a3 87.48\",\"\\u00a3 85.4\",\"\\u00a3 88.52\",\"\\u00a3 62.49\",\"\\u00a3 65.61\",\"\\u00a3 78.11\",\"\\u00a3 98.94\",\"\\u00a3 78.11\",\"\\u00a3 78.11\",\"\\u00a3 93.73\",\"\\u00a3 93.73\",\"\\u00a3 99.98\",\"\\u00a3 97.9\",\"\\u00a3 98.94\",\"\\u00a3 91.65\",\"\\u00a3 67.7\",\"\\u00a3 90.61\",\"\\u00a3 85.4\",\"\\u00a3 52.07\",\"\\u00a3 57.28\",\"\\u00a3 90.61\",\"\\u00a3 67.7\",\"\\u00a3 62.49\",\"\\u00a3 92.69\",\"\\u00a3 83.32\",\"\\u00a3 90.61\",\"\\u00a3 83.32\",\"\\u00a3 83.32\",\"\\u00a3 93.73\",\"\\u00a3 62.49\",\"\\u00a3 78.11\",\"\\u00a3 61.45\",\"\\u00a3 93.73\",\"\\u00a3 96.86\",\"\\u00a3 93.73\",\"\\u00a3 92.69\",\"\\u00a3 83.32\",\"\\u00a3 67.7\",\"\\u00a3 93.73\",\"\\u00a3 91.65\",\"\\u00a3 98.94\",\"\\u00a3 78.11\",\"\\u00a3 79.15\",\"\\u00a3 63.53\",\"\\u00a3 57.28\",\"\\u00a3 78.11\",\"\\u00a3 98.94\",\"\\u00a3 90.61\",\"\\u00a3 88.52\",\"\\u00a3 83.32\",\"\\u00a3 85.4\",\"\\u00a3 78.11\",\"\\u00a3 89.57\",\"\\u00a3 99.98\",\"\\u00a3 81.23\",\"\\u00a3 99.98\",\"\\u00a3 78.11\",\"\\u00a3 66.65\",\"\\u00a3 99.98\",\"\\u00a3 98.94\",\"\\u00a3 81.23\",\"\\u00a3 94.77\",\"\\u00a3 71.86\",\"\\u00a3 88.52\",\"\\u00a3 92.69\",\"\\u00a3 99.98\",\"\\u00a3 70.82\",\"\\u00a3 87.48\",\"\\u00a3 92.69\",\"\\u00a3 93.73\",\"\\u00a3 85.4\",\"\\u00a3 78.11\",\"\\u00a3 66.65\",\"\\u00a3 79.15\",\"\\u00a3 83.32\",\"\\u00a3 79.15\",\"\\u00a3 78.11\",\"\\u00a3 41.66\",\"\\u00a3 98.94\",\"\\u00a3 98.94\",\"\\u00a3 83.32\",\"\\u00a3 89.57\",\"\\u00a3 87.48\",\"\\u00a3 88.52\",\"\\u00a3 85.4\",\"\\u00a3 73.94\",\"\\u00a3 88.52\",\"\\u00a3 99.98\",\"\\u00a3 60.4\",\"\\u00a3 65.61\",\"\\u00a3 78.11\",\"\\u00a3 86.44\",\"\\u00a3 88.52\",\"\\u00a3 88.52\",\"\\u00a3 98.94\",\"\\u00a3 78.11\",\"\\u00a3 67.7\",\"\\u00a3 49.99\",\"\\u00a3 98.94\",\"\\u00a3 85.4\",\"\\u00a3 62.49\",\"\\u00a3 47.91\",\"\\u00a3 93.73\",\"\\u00a3 92.69\",\"\\u00a3 87.48\",\"\\u00a3 78.11\",\"\\u00a3 81.23\",\"\\u00a3 78.11\",\"\\u00a3 77.07\",\"\\u00a3 82.28\",\"\\u00a3 86.44\",\"\\u00a3 46.87\",\"\\u00a3 83.32\",\"\\u00a3 46.87\",\"\\u00a3 68.74\",\"\\u00a3 88.52\",\"\\u00a3 86.44\",\"\\u00a3 51.03\",\"\\u00a3 97.9\",\"\\u00a3 83.32\",\"\\u00a3 71.86\",\"\\u00a3 87.48\",\"\\u00a3 78.11\",\"\\u00a3 89.57\",\"\\u00a3 92.69\",\"\\u00a3 52.07\",\"\\u00a3 98.94\",\"\\u00a3 84.36\",\"\\u00a3 62.49\",\"\\u00a3 98.94\",\"\\u00a3 78.11\",\"\\u00a3 88.52\",\"\\u00a3 67.7\",\"\\u00a3 87.48\",\"\\u00a3 91.65\",\"\\u00a3 88.52\",\"\\u00a3 83.32\",\"\\u00a3 54.16\",\"\\u00a3 92.69\",\"\\u00a3 95.81\",\"\\u00a3 59.36\",\"\\u00a3 67.7\",\"\\u00a3 99.98\",\"\\u00a3 98.94\",\"\\u00a3 67.7\",\"\\u00a3 84.36\",\"\\u00a3 67.7\",\"\\u00a3 92.69\",\"\\u00a3 79.15\",\"\\u00a3 79.15\",\"\\u00a3 82.28\",\"\\u00a3 88.52\",\"\\u00a3 83.32\",\"\\u00a3 98.94\",\"\\u00a3 83.32\",\"\\u00a3 57.28\",\"\\u00a3 98.94\",\"\\u00a3 57.28\",\"\\u00a3 32.29\",\"\\u00a3 64.57\",\"\\u00a3 82.28\",\"\\u00a3 76.03\",\"\\u00a3 82.28\",\"\\u00a3 83.32\",\"\\u00a3 98.94\",\"\\u00a3 98.94\",\"\\u00a3 89.57\",\"\\u00a3 95.81\",\"\\u00a3 88.52\",\"\\u00a3 93.73\",\"\\u00a3 71.86\",\"\\u00a3 78.11\",\"\\u00a3 88.52\",\"\\u00a3 78.11\",\"\\u00a3 96.86\",\"\\u00a3 94.77\",\"\\u00a3 72.9\",\"\\u00a3 71.86\",\"\\u00a3 82.28\",\"\\u00a3 95.81\",\"\\u00a3 52.07\",\"\\u00a3 98.94\",\"\\u00a3 99.98\",\"\\u00a3 82.28\",\"\\u00a3 78.11\",\"\\u00a3 83.32\",\"\\u00a3 72.9\",\"\\u00a3 57.28\",\"\\u00a3 52.07\",\"\\u00a3 65.61\",\"\\u00a3 80.19\",\"\\u00a3 98.94\",\"\\u00a3 93.73\",\"\\u00a3 82.28\",\"\\u00a3 61.45\",\"\\u00a3 57.28\",\"\\u00a3 98.94\",\"\\u00a3 83.32\",\"\\u00a3 82.28\",\"\\u00a3 98.94\",\"\\u00a3 60.4\",\"\\u00a3 98.94\",\"\\u00a3 92.69\",\"\\u00a3 40.62\",\"\\u00a3 78.11\",\"\\u00a3 88.52\",\"\\u00a3 88.52\",\"\\u00a3 92.69\",\"\\u00a3 98.94\",\"\\u00a3 92.69\",\"\\u00a3 68.74\",\"\\u00a3 78.11\",\"\\u00a3 98.94\",\"\\u00a3 57.28\",\"\\u00a3 85.4\",\"\\u00a3 78.11\",\"\\u00a3 64.57\",\"\\u00a3 88.52\",\"\\u00a3 78.11\",\"\\u00a3 93.73\",\"\\u00a3 36.45\",\"\\u00a3 47.91\",\"\\u00a3 69.78\",\"\\u00a3 88.52\",\"\\u00a3 83.32\",\"\\u00a3 66.65\",\"\\u00a3 88.52\",\"\\u00a3 79.15\",\"\\u00a3 78.11\",\"\\u00a3 40.62\",\"\\u00a3 88.52\",\"\\u00a3 79.15\",\"\\u00a3 97.9\",\"\\u00a3 99.98\",\"\\u00a3 91.65\",\"\\u00a3 96.86\",\"\\u00a3 99.98\",\"\\u00a3 96.86\",\"\\u00a3 86.44\",\"\\u00a3 79.15\",\"\\u00a3 98.94\",\"\\u00a3 96.86\",\"\\u00a3 64.57\",\"\\u00a3 77.07\",\"\\u00a3 93.73\",\"\\u00a3 93.73\",\"\\u00a3 64.57\",\"\\u00a3 98.94\",\"\\u00a3 98.94\",\"\\u00a3 89.57\",\"\\u00a3 98.94\",\"\\u00a3 93.73\",\"\\u00a3 83.32\",\"\\u00a3 77.07\",\"\\u00a3 61.45\",\"\\u00a3 70.82\",\"\\u00a3 91.65\",\"\\u00a3 63.53\",\"\\u00a3 77.07\",\"\\u00a3 71.86\",\"\\u00a3 77.07\",\"\\u00a3 77.07\",\"\\u00a3 77.07\",\"\\u00a3 77.07\",\"\\u00a3 77.07\",\"\\u00a3 98.94\",\"\\u00a3 94.77\",\"\\u00a3 84.36\",\"\\u00a3 93.73\",\"\\u00a3 78.11\",\"\\u00a3 95.81\",\"\\u00a3 93.73\",\"\\u00a3 96.86\",\"\\u00a3 76.03\",\"\\u00a3 78.11\",\"\\u00a3 40.62\",\"\\u00a3 80.19\",\"\\u00a3 88.52\",\"\\u00a3 98.94\",\"\\u00a3 85.4\",\"\\u00a3 62.49\",\"\\u00a3 98.94\",\"\\u00a3 88.52\",\"\\u00a3 98.94\",\"\\u00a3 82.28\",\"\\u00a3 70.82\",\"\\u00a3 61.45\",\"\\u00a3 98.94\",\"\\u00a3 86.44\",\"\\u00a3 82.28\",\"\\u00a3 47.91\",\"\\u00a3 58.32\",\"\\u00a3 56.24\",\"\\u00a3 80.19\",\"\\u00a3 88.52\",\"\\u00a3 84.36\",\"\\u00a3 78.11\",\"\\u00a3 99.98\",\"\\u00a3 98.94\",\"\\u00a3 72.9\",\"\\u00a3 64.57\",\"\\u00a3 88.52\",\"\\u00a3 86.44\",\"\\u00a3 99.98\",\"\\u00a3 88.52\",\"\\u00a3 29.16\",\"\\u00a3 89.57\",\"\\u00a3 51.03\",\"\\u00a3 96.86\",\"\\u00a3 62.49\",\"\\u00a3 99.98\",\"\\u00a3 91.65\",\"\\u00a3 82.28\",\"\\u00a3 67.7\",\"\\u00a3 88.52\",\"\\u00a3 85.4\",\"\\u00a3 81.23\",\"\\u00a3 72.9\",\"\\u00a3 94.77\",\"\\u00a3 60.4\",\"\\u00a3 98.94\",\"\\u00a3 95.81\",\"\\u00a3 71.86\",\"\\u00a3 62.49\",\"\\u00a3 98.94\",\"\\u00a3 91.65\",\"\\u00a3 88.52\",\"\\u00a3 67.7\",\"\\u00a3 98.94\",\"\\u00a3 63.53\",\"\\u00a3 78.11\",\"\\u00a3 88.52\",\"\\u00a3 77.07\",\"\\u00a3 86.44\",\"\\u00a3 99.98\",\"\\u00a3 71.86\",\"\\u00a3 31.24\",\"\\u00a3 88.52\",\"\\u00a3 82.28\",\"\\u00a3 74.99\",\"\\u00a3 67.7\",\"\\u00a3 93.73\",\"\\u00a3 64.57\",\"\\u00a3 93.73\",\"\\u00a3 92.69\",\"\\u00a3 97.9\",\"\\u00a3 99.98\",\"\\u00a3 85.4\",\"\\u00a3 61.45\",\"\\u00a3 92.69\",\"\\u00a3 43.74\",\"\\u00a3 66.65\",\"\\u00a3 93.73\",\"\\u00a3 88.52\",\"\\u00a3 98.94\",\"\\u00a3 88.52\",\"\\u00a3 57.28\",\"\\u00a3 63.53\",\"\\u00a3 97.9\",\"\\u00a3 93.73\",\"\\u00a3 94.77\",\"\\u00a3 67.7\",\"\\u00a3 73.94\",\"\\u00a3 81.23\",\"\\u00a3 98.94\",\"\\u00a3 73.94\",\"\\u00a3 78.11\",\"\\u00a3 84.36\",\"\\u00a3 89.57\",\"\\u00a3 78.11\",\"\\u00a3 98.94\",\"\\u00a3 63.53\",\"\\u00a3 83.32\",\"\\u00a3 78.11\",\"\\u00a3 88.52\",\"\\u00a3 76.03\",\"\\u00a3 66.65\",\"\\u00a3 67.7\",\"\\u00a3 95.81\",\"\\u00a3 51.03\",\"\\u00a3 67.7\",\"\\u00a3 83.32\",\"\\u00a3 93.73\",\"\\u00a3 98.94\",\"\\u00a3 92.69\",\"\\u00a3 81.23\",\"\\u00a3 71.86\",\"\\u00a3 78.11\",\"\\u00a3 65.61\",\"\\u00a3 58.32\",\"\\u00a3 89.57\",\"\\u00a3 83.32\",\"\\u00a3 78.11\",\"\\u00a3 78.11\",\"\\u00a3 98.94\",\"\\u00a3 62.49\",\"\\u00a3 92.69\",\"\\u00a3 98.94\",\"\\u00a3 98.94\",\"\\u00a3 62.49\",\"\\u00a3 83.32\",\"\\u00a3 93.73\",\"\\u00a3 98.94\",\"\\u00a3 93.73\",\"\\u00a3 93.73\",\"\\u00a3 72.9\",\"\\u00a3 52.07\",\"\\u00a3 52.07\",\"\\u00a3 78.11\",\"\\u00a3 79.15\",\"\\u00a3 99.98\",\"\\u00a3 54.16\",\"\\u00a3 92.69\",\"\\u00a3 93.73\",\"\\u00a3 71.86\",\"\\u00a3 62.49\",\"\\u00a3 78.11\",\"\\u00a3 83.32\",\"\\u00a3 84.36\",\"\\u00a3 93.73\",\"\\u00a3 83.32\",\"\\u00a3 89.57\",\"\\u00a3 84.36\",\"\\u00a3 98.94\",\"\\u00a3 78.11\",\"\\u00a3 45.82\",\"\\u00a3 72.9\",\"\\u00a3 88.52\",\"\\u00a3 92.69\",\"\\u00a3 93.73\",\"\\u00a3 89.57\",\"\\u00a3 78.11\",\"\\u00a3 62.49\",\"\\u00a3 73.94\",\"\\u00a3 56.24\",\"\\u00a3 48.95\",\"\\u00a3 92.69\",\"\\u00a3 92.69\",\"\\u00a3 83.32\",\"\\u00a3 88.52\",\"\\u00a3 71.86\",\"\\u00a3 46.87\",\"\\u00a3 78.11\",\"\\u00a3 83.32\",\"\\u00a3 91.65\",\"\\u00a3 95.81\",\"\\u00a3 31.24\",\"\\u00a3 88.52\",\"\\u00a3 93.73\",\"\\u00a3 62.49\",\"\\u00a3 93.73\",\"\\u00a3 77.07\",\"\\u00a3 79.15\",\"\\u00a3 93.73\",\"\\u00a3 87.48\",\"\\u00a3 98.94\",\"\\u00a3 92.69\",\"\\u00a3 81.23\",\"\\u00a3 98.94\",\"\\u00a3 85.4\",\"\\u00a3 84.36\",\"\\u00a3 60.4\",\"\\u00a3 94.77\",\"\\u00a3 61.45\",\"\\u00a3 83.32\",\"\\u00a3 93.73\",\"\\u00a3 89.57\",\"\\u00a3 98.94\",\"\\u00a3 73.94\",\"\\u00a3 82.28\",\"\\u00a3 81.23\",\"\\u00a3 67.7\",\"\\u00a3 82.28\",\"\\u00a3 78.11\",\"\\u00a3 52.07\",\"\\u00a3 91.65\",\"\\u00a3 81.23\",\"\\u00a3 91.65\",\"\\u00a3 46.87\",\"\\u00a3 93.73\",\"\\u00a3 97.9\",\"\\u00a3 67.7\",\"\\u00a3 98.94\",\"\\u00a3 92.69\",\"\\u00a3 89.57\",\"\\u00a3 64.57\",\"\\u00a3 69.78\",\"\\u00a3 81.23\",\"\\u00a3 78.11\",\"\\u00a3 62.49\",\"\\u00a3 84.36\",\"\\u00a3 83.32\",\"\\u00a3 83.32\",\"\\u00a3 78.11\",\"\\u00a3 83.32\",\"\\u00a3 78.11\",\"\\u00a3 82.28\",\"\\u00a3 73.94\",\"\\u00a3 76.03\",\"\\u00a3 71.86\",\"\\u00a3 89.57\",\"\\u00a3 89.57\",\"\\u00a3 46.87\",\"\\u00a3 78.11\",\"\\u00a3 92.69\",\"\\u00a3 98.94\",\"\\u00a3 89.57\",\"\\u00a3 72.9\",\"\\u00a3 83.32\",\"\\u00a3 77.07\",\"\\u00a3 77.07\",\"\\u00a3 78.11\",\"\\u00a3 72.9\",\"\\u00a3 81.23\",\"\\u00a3 93.73\",\"\\u00a3 57.28\",\"\\u00a3 78.11\",\"\\u00a3 57.28\",\"\\u00a3 72.9\",\"\\u00a3 98.94\",\"\\u00a3 90.61\",\"\\u00a3 91.65\",\"\\u00a3 83.32\",\"\\u00a3 83.32\",\"\\u00a3 52.07\",\"\\u00a3 63.53\",\"\\u00a3 67.7\",\"\\u00a3 99.98\",\"\\u00a3 67.7\",\"\\u00a3 84.36\",\"\\u00a3 82.28\",\"\\u00a3 74.99\",\"\\u00a3 83.32\",\"\\u00a3 97.9\",\"\\u00a3 92.69\",\"\\u00a3 99.98\",\"\\u00a3 52.07\",\"\\u00a3 83.32\",\"\\u00a3 72.9\",\"\\u00a3 91.65\",\"\\u00a3 57.28\",\"\\u00a3 98.94\",\"\\u00a3 84.36\",\"\\u00a3 76.03\",\"\\u00a3 83.32\",\"\\u00a3 74.99\",\"\\u00a3 83.32\",\"\\u00a3 62.49\",\"\\u00a3 65.61\",\"\\u00a3 57.28\",\"\\u00a3 81.23\",\"\\u00a3 91.65\",\"\\u00a3 78.11\",\"\\u00a3 89.57\",\"\\u00a3 99.98\",\"\\u00a3 56.24\",\"\\u00a3 85.4\",\"\\u00a3 93.73\",\"\\u00a3 78.11\",\"\\u00a3 98.94\",\"\\u00a3 87.48\",\"\\u00a3 72.9\",\"\\u00a3 58.32\",\"\\u00a3 37.49\",\"\\u00a3 82.28\",\"\\u00a3 91.65\",\"\\u00a3 58.32\",\"\\u00a3 55.2\",\"\\u00a3 58.32\",\"\\u00a3 83.32\",\"\\u00a3 95.81\",\"\\u00a3 78.11\",\"\\u00a3 99.98\",\"\\u00a3 83.32\",\"\\u00a3 67.7\",\"\\u00a3 90.61\",\"\\u00a3 51.03\",\"\\u00a3 78.11\",\"\\u00a3 78.11\",\"\\u00a3 93.73\",\"\\u00a3 98.94\",\"\\u00a3 64.57\",\"\\u00a3 60.4\",\"\\u00a3 58.32\",\"\\u00a3 60.4\",\"\\u00a3 97.9\",\"\\u00a3 87.48\",\"\\u00a3 72.9\",\"\\u00a3 82.28\",\"\\u00a3 83.32\",\"\\u00a3 93.73\",\"\\u00a3 93.73\",\"\\u00a3 77.07\",\"\\u00a3 62.49\",\"\\u00a3 93.73\",\"\\u00a3 99.98\",\"\\u00a3 62.49\",\"\\u00a3 88.52\",\"\\u00a3 81.23\",\"\\u00a3 62.49\",\"\\u00a3 57.28\",\"\\u00a3 67.7\",\"\\u00a3 83.32\",\"\\u00a3 93.73\",\"\\u00a3 52.07\",\"\\u00a3 80.19\",\"\\u00a3 93.73\",\"\\u00a3 83.32\",\"\\u00a3 67.7\",\"\\u00a3 83.32\",\"\\u00a3 73.94\",\"\\u00a3 73.94\",\"\\u00a3 57.28\",\"\\u00a3 79.15\",\"\\u00a3 73.94\",\"\\u00a3 73.94\",\"\\u00a3 88.52\",\"\\u00a3 73.94\",\"\\u00a3 73.94\",\"\\u00a3 73.94\",\"\\u00a3 73.94\",\"\\u00a3 81.23\",\"\\u00a3 0.0\",\"\\u00a3 88.52\",\"\\u00a3 0.0\",\"\\u00a3 0.0\",\"\\u00a3 92.69\",\"\\u00a3 57.28\",\"\\u00a3 63.53\",\"\\u00a3 72.9\",\"\\u00a3 0.0\",\"\\u00a3 0.0\",\"\\u00a3 57.28\",\"\\u00a3 93.73\",\"\\u00a3 97.9\",\"\\u00a3 98.94\",\"\\u00a3 47.91\",\"\\u00a3 92.69\",\"\\u00a3 81.23\",\"\\u00a3 83.32\",\"\\u00a3 98.94\",\"\\u00a3 96.86\",\"\\u00a3 83.32\",\"\\u00a3 46.87\",\"\\u00a3 84.36\",\"\\u00a3 56.24\",\"\\u00a3 98.94\",\"\\u00a3 95.81\",\"\\u00a3 43.74\",\"\\u00a3 78.11\",\"\\u00a3 88.52\",\"\\u00a3 93.73\",\"\\u00a3 77.07\",\"\\u00a3 88.52\",\"\\u00a3 66.65\",\"\\u00a3 98.94\",\"\\u00a3 98.94\",\"\\u00a3 99.98\",\"\\u00a3 99.98\",\"\\u00a3 99.98\",\"\\u00a3 39.58\",\"\\u00a3 95.81\",\"\\u00a3 73.94\",\"\\u00a3 87.48\",\"\\u00a3 79.15\",\"\\u00a3 0.0\",\"\\u00a3 0.0\",\"\\u00a3 74.99\",\"\\u00a3 52.07\",\"\\u00a3 0.0\",\"\\u00a3 85.4\",\"\\u00a3 63.53\",\"\\u00a3 78.11\",\"\\u00a3 62.49\",\"\\u00a3 78.11\",\"\\u00a3 72.9\",\"\\u00a3 93.73\",\"\\u00a3 62.49\",\"\\u00a3 98.94\",\"\\u00a3 65.61\",\"\\u00a3 93.73\",\"\\u00a3 92.69\",\"\\u00a3 93.73\",\"\\u00a3 70.82\",\"\\u00a3 93.73\",\"\\u00a3 88.52\",\"\\u00a3 92.69\",\"\\u00a3 71.86\",\"\\u00a3 72.9\",\"\\u00a3 72.9\",\"\\u00a3 83.32\",\"\\u00a3 83.32\",\"\\u00a3 88.52\",\"\\u00a3 98.94\",\"\\u00a3 85.4\",\"\\u00a3 83.32\",\"\\u00a3 98.94\",\"\\u00a3 98.94\",\"\\u00a3 78.11\",\"\\u00a3 84.36\",\"\\u00a3 84.36\",\"\\u00a3 83.32\",\"\\u00a3 92.69\",\"\\u00a3 70.82\",\"\\u00a3 52.07\",\"\\u00a3 62.49\",\"\\u00a3 61.45\",\"\\u00a3 67.7\",\"\\u00a3 97.9\",\"\\u00a3 69.78\",\"\\u00a3 99.98\",\"\\u00a3 97.9\",\"\\u00a3 95.81\",\"\\u00a3 88.52\",\"\\u00a3 78.11\",\"\\u00a3 93.73\",\"\\u00a3 86.44\",\"\\u00a3 86.44\",\"\\u00a3 86.44\",\"\\u00a3 86.44\",\"\\u00a3 33.33\",\"\\u00a3 83.32\",\"\\u00a3 78.11\",\"\\u00a3 83.32\",\"\\u00a3 93.73\",\"\\u00a3 52.07\",\"\\u00a3 93.73\",\"\\u00a3 88.52\",\"\\u00a3 93.73\",\"\\u00a3 97.9\",\"\\u00a3 83.32\",\"\\u00a3 93.73\",\"\\u00a3 67.7\",\"\\u00a3 72.9\",\"\\u00a3 93.73\",\"\\u00a3 63.53\",\"\\u00a3 99.98\",\"\\u00a3 30.2\",\"\\u00a3 88.52\",\"\\u00a3 64.57\",\"\\u00a3 82.28\",\"\\u00a3 69.78\",\"\\u00a3 54.16\",\"\\u00a3 62.49\",\"\\u00a3 93.73\",\"\\u00a3 94.77\",\"\\u00a3 81.23\",\"\\u00a3 43.74\",\"\\u00a3 67.7\",\"\\u00a3 93.73\",\"\\u00a3 92.69\",\"\\u00a3 80.19\",\"\\u00a3 70.82\",\"\\u00a3 81.23\",\"\\u00a3 72.9\",\"\\u00a3 88.52\",\"\\u00a3 93.73\",\"\\u00a3 83.32\",\"\\u00a3 91.65\",\"\\u00a3 97.9\",\"\\u00a3 95.81\",\"\\u00a3 85.4\",\"\\u00a3 72.9\",\"\\u00a3 56.24\",\"\\u00a3 88.52\",\"\\u00a3 99.98\",\"\\u00a3 72.9\",\"\\u00a3 76.03\",\"\\u00a3 83.32\",\"\\u00a3 97.9\",\"\\u00a3 88.52\",\"\\u00a3 61.45\",\"\\u00a3 52.07\",\"\\u00a3 15.62\",\"\\u00a3 55.2\",\"\\u00a3 83.32\",\"\\u00a3 98.94\",\"\\u00a3 88.52\",\"\\u00a3 52.07\",\"\\u00a3 93.73\",\"\\u00a3 48.95\",\"\\u00a3 72.9\",\"\\u00a3 58.32\",\"\\u00a3 67.7\",\"\\u00a3 70.82\",\"\\u00a3 84.36\",\"\\u00a3 72.9\",\"\\u00a3 82.28\",\"\\u00a3 83.32\",\"\\u00a3 58.32\",\"\\u00a3 92.69\",\"\\u00a3 73.94\",\"\\u00a3 43.74\",\"\\u00a3 84.36\",\"\\u00a3 99.98\",\"\\u00a3 93.73\",\"\\u00a3 93.73\",\"\\u00a3 67.7\",\"\\u00a3 96.86\",\"\\u00a3 90.61\",\"\\u00a3 65.61\",\"\\u00a3 67.7\",\"\\u00a3 74.99\",\"\\u00a3 80.19\",\"\\u00a3 82.28\",\"\\u00a3 84.36\",\"\\u00a3 95.81\",\"\\u00a3 70.82\",\"\\u00a3 71.86\",\"\\u00a3 93.73\",\"\\u00a3 92.69\",\"\\u00a3 98.94\",\"\\u00a3 61.45\",\"\\u00a3 46.87\",\"\\u00a3 78.11\",\"\\u00a3 61.45\",\"\\u00a3 82.28\",\"\\u00a3 98.94\",\"\\u00a3 98.94\",\"\\u00a3 62.49\",\"\\u00a3 88.52\",\"\\u00a3 57.28\",\"\\u00a3 62.49\",\"\\u00a3 76.03\",\"\\u00a3 72.9\",\"\\u00a3 78.11\",\"\\u00a3 93.73\",\"\\u00a3 61.45\",\"\\u00a3 62.49\",\"\\u00a3 81.23\",\"\\u00a3 98.94\",\"\\u00a3 88.52\",\"\\u00a3 74.99\",\"\\u00a3 91.65\",\"\\u00a3 96.86\",\"\\u00a3 60.4\",\"\\u00a3 98.94\",\"\\u00a3 87.48\",\"\\u00a3 77.07\",\"\\u00a3 83.32\",\"\\u00a3 92.69\",\"\\u00a3 96.86\",\"\\u00a3 83.32\",\"\\u00a3 98.94\",\"\\u00a3 93.73\",\"\\u00a3 98.94\",\"\\u00a3 93.73\",\"\\u00a3 93.73\",\"\\u00a3 67.7\",\"\\u00a3 73.94\",\"\\u00a3 95.81\",\"\\u00a3 88.52\",\"\\u00a3 56.24\",\"\\u00a3 78.11\",\"\\u00a3 73.94\",\"\\u00a3 73.94\",\"\\u00a3 41.66\",\"\\u00a3 90.61\",\"\\u00a3 62.49\",\"\\u00a3 52.07\",\"\\u00a3 78.11\",\"\\u00a3 31.24\",\"\\u00a3 73.94\",\"\\u00a3 41.66\",\"\\u00a3 83.32\",\"\\u00a3 88.52\",\"\\u00a3 41.66\",\"\\u00a3 93.73\",\"\\u00a3 93.73\",\"\\u00a3 73.94\",\"\\u00a3 15.62\",\"\\u00a3 88.52\",\"\\u00a3 73.94\",\"\\u00a3 78.11\",\"\\u00a3 88.52\",\"\\u00a3 73.94\",\"\\u00a3 68.74\",\"\\u00a3 78.11\",\"\\u00a3 87.48\",\"\\u00a3 78.11\",\"\\u00a3 73.94\",\"\\u00a3 99.98\",\"\\u00a3 65.61\",\"\\u00a3 36.45\",\"\\u00a3 55.2\",\"\\u00a3 53.11\",\"\\u00a3 67.7\",\"\\u00a3 76.03\",\"\\u00a3 55.2\",\"\\u00a3 98.94\",\"\\u00a3 67.7\",\"\\u00a3 82.28\",\"\\u00a3 98.94\",\"\\u00a3 67.7\"],\"lat\":[52.349159240722656,52.296199798583984,52.34506988525391,52.33715057373047,52.2959098815918,52.334228515625,52.364349365234375,52.36774826049805,52.365840911865234,52.37828063964844,52.348011016845696,52.379558563232415,52.356948852539055,52.37976837158203,52.362300872802734,52.35971832275391,52.37823867797852,52.37001037597656,52.384441375732415,52.34904098510742,52.41016006469727,52.36368179321289,52.37166976928711,52.38536834716797,52.345569610595696,52.38296127319336,52.35924911499024,52.35673141479492,52.37752151489258,52.37310028076172,52.36130905151367,52.401641845703125,52.34984970092773,52.423789978027344,52.33229064941406,52.37990951538086,52.35594940185546,52.32019042968751,52.32019042968751,52.36560821533203,52.341758728027344,52.35049057006836,52.37224960327149,52.374858856201165,52.381614685058594,52.36368942260742,52.347461700439446,52.35622024536133,52.30572891235352,52.35174179077149,52.378711700439446,52.378021240234375,52.31774139404297,52.38230895996094,52.3925895690918,52.36389923095703,52.38417816162109,52.42396926879882,52.35937881469727,52.39318847656249,52.3571891784668,52.38090133666992,52.39508056640625,52.37704086303711,52.36482238769531,52.37154006958008,52.36540985107422,52.34254837036133,52.37591171264648,52.38399124145508,52.36251831054688,52.38249969482422,52.363330841064446,52.34291839599609,52.34735870361328,52.36566162109375,52.40792846679688,52.354278564453125,52.38277816772461,52.35927963256836,52.38777923583984,52.36405944824219,52.38323974609375,52.35593032836913,52.37567138671875,52.34270858764648,52.3519401550293,52.41278076171875,52.35197830200195,52.382301330566406,52.376739501953125,52.34965133666992,52.38414001464844,52.31182098388672,52.37910842895508,52.36309051513672,52.36172866821289,52.39508056640625,52.32612991333008,52.38520050048828,52.377490997314446,52.37234115600586,52.41016006469727,52.37805175781249,52.3661003112793,52.351268768310554,52.38468170166016,52.34238052368164,52.40153884887695,52.366409301757805,52.3471794128418,52.36098861694336,52.35472106933594,52.36682128906249,52.333099365234375,52.390411376953125,52.355178833007805,52.36259078979492,52.417041778564446,52.36190032958984,52.36244964599609,52.351909637451165,52.35771942138672,52.36320877075195,52.377300262451165,52.378379821777344,52.3596305847168,52.37807846069336,52.36204147338867,52.353958129882805,52.3673210144043,52.41119003295898,52.375789642333984,52.35358810424805,52.40679168701172,52.376991271972656,52.35734939575195,52.379920959472656,52.34096908569336,52.37294006347656,52.31418991088867,52.35289001464844,52.35206985473633,52.36425018310546,52.35871887207031,52.3733787536621,52.39910888671875,52.36432266235352,52.362831115722656,52.34838104248047,52.365028381347656,52.36529159545898,52.34735870361328,52.3503303527832,52.36111831665039,52.40480422973633,52.374298095703125,52.40404891967773,52.35393142700195,52.35710906982422,52.34558868408203,52.422039031982415,52.35882186889648,52.35988998413086,52.34577178955078,52.35538864135742,52.38565826416016,52.34075164794922,52.3525390625,52.37728118896484,52.41469955444336,52.368770599365234,52.38650894165039,52.384231567382805,52.382221221923835,52.41810989379882,52.422039031982415,52.38576889038086,52.30022811889648,52.36222076416016,52.3519401550293,52.37002182006836,52.40404510498047,52.41371154785156,52.42512130737305,52.40744018554688,52.363819122314446,52.35287857055664,52.35457992553711,52.37057876586913,52.353790283203125,52.383148193359375,52.371280670166016,52.36330032348633,52.35955047607422,52.36397933959961,52.36611175537109,52.352081298828125,52.34553909301758,52.40441131591797,52.376758575439446,52.382320404052734,52.3856315612793,52.35868835449219,52.3567008972168,52.37409973144531,52.36003875732422,52.37274169921875,52.37567901611328,52.359569549560554,52.341819763183594,52.36431121826172,52.36417007446289,52.365768432617195,52.35391998291016,52.37226104736328,52.370361328125,52.38571166992188,52.35131072998047,52.372100830078125,52.37825012207031,52.413330078125,52.34273910522461,52.396610260009766,52.37947845458984,52.344669342041016,52.3436393737793,52.376251220703125,52.386531829833984,52.34989929199219,52.38724899291992,52.35335159301758,52.38283157348633,52.36975097656249,52.36687850952149,52.345458984375,52.34392166137695,52.39022064208984,52.40911102294922,52.37947082519531,52.38198852539063,52.364288330078125,52.379150390625,52.355178833007805,52.34476089477539,52.34041976928711,52.36214065551758,52.33946990966797,52.34700012207031,52.42369842529297,52.37376022338867,52.36199188232422,52.39987182617188,52.35662841796875,52.40060043334961,52.349910736083984,52.353511810302734,52.381160736083984,52.37425994873047,52.37425994873047,52.36520004272461,52.38277053833008,52.378150939941406,52.406620025634766,52.38740921020508,52.36980056762695,52.37788009643555,52.36244964599609,52.35015106201172,52.35078811645508,52.36827850341797,52.38100051879882,52.320011138916016,52.290340423583984,52.39849853515625,52.35837173461913,52.36397171020508,52.371780395507805,52.3627815246582,52.36383819580078,52.40631866455078,52.36241149902344,52.3443717956543,52.367469787597656,52.376331329345696,52.34469985961913,52.372650146484375,52.40451049804688,52.36111068725586,52.38520050048828,52.29164886474609,52.35327911376953,52.39461135864258,52.3467903137207,52.35546112060546,52.36930084228516,52.345169067382805,52.36309051513672,52.368629455566406,52.38093948364258,52.36381149291992,52.38433837890625,52.35197067260742,52.38668823242188,52.38813018798828,52.38253021240234,52.40987014770508,52.36389923095703,52.36830902099609,52.38740921020508,52.406108856201165,52.36445999145508,52.376480102539055,52.36838912963867,52.38534927368164,52.38069915771484,52.35411834716797,52.36262130737305,52.37002944946289,52.37466049194336,52.39400100708008,52.373268127441406,52.35470962524414,52.3577995300293,52.348331451416016,52.36767959594727,52.360450744628906,52.3850212097168,52.37683868408203,52.37097167968751,52.35523986816406,52.41717147827149,52.345821380615234,52.41078948974609,52.35723114013672,52.35485839843751,52.39147186279297,52.35358047485352,52.35472869873047,52.35324096679688,52.353191375732415,52.353641510009766,52.35103988647461,52.380008697509766,52.36468124389648,52.36378860473633,52.36056900024414,52.38122177124024,52.377788543701165,52.38320159912109,52.36872863769531,52.35536956787109,52.37932968139648,52.37118148803711,52.35934066772461,52.37374877929688,52.37242126464844,52.394058227539055,52.33512878417969,52.36500930786133,52.38684082031249,52.406349182128906,52.38943862915039,52.36463928222656,52.38766098022461,52.36100006103516,52.3567008972168,52.313079833984375,52.29750061035156,52.357200622558594,52.3665885925293,52.371448516845696,52.383888244628906,52.3501091003418,52.358711242675774,52.39698028564453,52.359989166259766,52.40916061401367,52.35139846801758,52.35432052612305,52.376991271972656,52.351070404052734,52.39033889770508,52.373550415039055,52.378929138183594,52.37242889404297,52.38909149169922,52.35319900512695,52.3331184387207,52.35221862792969,52.3828010559082,52.38348007202149,52.355030059814446,52.364479064941406,52.29360961914063,52.37667846679688,52.37370300292969,52.34212112426758,52.35615921020508,52.37126159667969,52.37047958374024,52.37535095214844,52.36708831787109,52.377979278564446,52.354469299316406,52.39852142333984,52.36664962768555,52.35227966308594,52.375919342041016,52.29132080078125,52.293071746826165,52.37425994873047,52.325389862060554,52.30926132202149,52.36294937133789,52.37884140014648,52.36540985107422,52.367141723632805,52.35029983520508,52.366310119628906,52.354198455810554,52.367431640625,52.35306930541992,52.35874176025391,52.35158157348633,52.35091018676758,52.374610900878906,52.3555793762207,52.339839935302734,52.36825180053711,52.4178581237793,52.38951110839844,52.30688095092773,52.37786865234375,52.37836837768555,52.352249145507805,52.36104965209961,52.37228775024414,52.37839126586913,52.401470184326165,52.37617874145508,52.30410003662109,52.362770080566406,52.37221908569336,52.35351943969727,52.379920959472656,52.37191009521484,52.392311096191406,52.388008117675774,52.346378326416016,52.36738967895508,52.41416931152344,52.36016845703125,52.371089935302734,52.371089935302734,52.377559661865234,52.34777832031249,52.366458892822266,52.39147186279297,52.36534881591797,52.36685180664063,52.356571197509766,52.36288070678711,52.34799957275391,52.334339141845696,52.31610107421875,52.39411926269531,52.37570190429688,52.354389190673835,52.312198638916016,52.394428253173835,52.373699188232415,52.37725067138672,52.353981018066406,52.42053985595703,52.38542175292969,52.35715103149414,52.354351043701165,52.39862823486328,52.3636589050293,52.36389923095703,52.35530090332031,52.39128112792969,52.3924217224121,52.341819763183594,52.36647033691406,52.38140106201172,52.35684967041016,52.31818008422852,52.34519958496094,52.38587951660156,52.36722183227539,52.33287811279297,52.35338973999024,52.343360900878906,52.36180877685546,52.374698638916016,52.37319946289063,52.41236877441406,52.36383819580078,52.373870849609375,52.346088409423835,52.36832046508789,52.37683105468751,52.38172149658203,52.358699798583984,52.37115859985352,52.37107849121094,52.35058975219727,52.38359832763672,52.39910888671875,52.42369079589844,52.382518768310554,52.37598037719727,52.3763084411621,52.355018615722656,52.37639999389648,52.32429885864258,52.37807083129882,52.35940933227539,52.359397888183594,52.383880615234375,52.383880615234375,52.407108306884766,52.34735870361328,52.363059997558594,52.36425018310546,52.38043975830078,52.345020294189446,52.37405014038086,52.36082077026367,52.363399505615234,52.35776138305664,52.36579132080078,52.36000823974609,52.342479705810554,52.34188079833984,52.369388580322266,52.36122131347656,52.37031936645508,52.382850646972656,52.33856964111328,52.37120819091797,52.40393066406249,52.32337951660156,52.383880615234375,52.37002182006836,52.370391845703125,52.35980987548828,52.37683105468751,52.36639022827149,52.360870361328125,52.33298873901367,52.349018096923835,52.35929870605469,52.35660171508789,52.381938934326165,52.351608276367195,52.371578216552734,52.37770080566406,52.376739501953125,52.376739501953125,52.36032104492188,52.36032104492188,52.373920440673835,52.373920440673835,52.393680572509766,52.38277053833008,52.37762069702149,52.37575149536133,52.394561767578125,52.36207962036133,52.35250854492188,52.38336944580078,52.38523864746094,52.38317108154297,52.383148193359375,52.385120391845696,52.38312149047852,52.37525177001953,52.35594177246094,52.376628875732415,52.37477111816406,52.371700286865234,52.37052917480469,52.35306930541992,52.35260009765625,52.35282897949219,52.38302993774414,52.392459869384766,52.362918853759766,52.370697021484375,52.391849517822266,52.34687042236328,52.34939956665039,52.35868835449219,52.389930725097656,52.32712173461913,52.34157180786133,52.37261962890625,52.41149902343751,52.38253021240234,52.3535270690918,52.37118911743164,52.375198364257805,52.37726974487305,52.41297912597656,52.359878540039055,52.360538482666016,52.419471740722656,52.377201080322266,52.30176162719727,52.38320159912109,52.36626815795898,52.35354995727539,52.372119903564446,52.37689971923828,52.39706039428711,52.3553581237793,52.323219299316406,52.41149902343751,52.36106872558594,52.35226058959961,52.37786865234375,52.326709747314446,52.35157012939453,52.31835174560546,52.370918273925774,52.36167907714844,52.35245895385742,52.35261154174805,52.36625289916992,52.29705047607422,52.364051818847656,52.38790130615234,52.345699310302734,52.361831665039055,52.386138916015625,52.38011932373047,52.35538101196289,52.353530883789055,52.345458984375,52.33563995361328,52.36708068847656,52.365039825439446,52.3615608215332,52.3607292175293,52.37002944946289,52.34392166137695,52.35514068603516,52.366310119628906,52.40744018554688,52.385780334472656,52.38132095336913,52.37110137939453,52.371131896972656,52.35594940185546,52.389408111572266,52.404830932617195,52.325950622558594,52.37189102172852,52.365100860595696,52.39587020874024,52.376651763916016,52.34518814086913,52.35763931274414,52.36272811889648,52.373661041259766,52.4115104675293,52.34294128417969,52.36222839355469,52.35995101928711,52.35240173339844,52.34143066406249,52.4126091003418,52.36782073974609,52.357051849365234,52.396778106689446,52.35289001464844,52.373920440673835,52.38193130493164,52.2994499206543,52.373920440673835,52.36441040039063,52.39170837402344,52.37337112426758,52.36623001098633,52.33673095703125,52.33676910400391,52.370220184326165,52.328659057617195,52.336448669433594,52.33700942993164,52.36307907104492,52.336811065673835,52.33687973022461,52.336441040039055,52.33652114868164,52.34035873413086,52.38322067260742,52.39078140258789,52.362789154052734,52.3696403503418,52.34526824951172,52.368328094482415,52.34069061279297,52.38150024414063,52.36531066894531,52.370361328125,52.314579010009766,52.338600158691406,52.36788940429688,52.37678909301758,52.385841369628906,52.36817169189453,52.36579895019531,52.36862182617188,52.33197021484375,52.36431884765625,52.37031936645508,52.41252899169922,52.354270935058594,52.39588928222656,52.35152816772461,52.37031936645508,52.38602828979492,52.36486053466797,52.360401153564446,52.323219299316406,52.3686408996582,52.351959228515625,52.36032104492188,52.36418914794922,52.36988830566406,52.359371185302734,52.38809967041016,52.383880615234375,52.390380859375,52.34199905395508,52.36922836303711,52.370079040527344,52.36764907836913,52.341251373291016,52.361446380615234,52.355918884277344,52.370391845703125,52.35558319091797,52.3816795349121,52.362003326416016,52.355911254882805,52.38069915771484,52.36207962036133,52.36373901367188,52.35311126708984,52.366329193115234,52.36212158203125,52.3514518737793,52.35070037841797,52.38502883911133,52.37168884277344,52.36931991577149,52.34360122680664,52.356327056884766,52.381660461425774,52.362789154052734,52.373889923095696,52.37554168701172,52.362201690673835,52.3525390625,52.38372802734375,52.38317871093751,52.364849090576165,52.351810455322266,52.38399887084961,52.340633392333984,52.381649017333984,52.38222885131836,52.37154006958008,52.37179183959961,52.379409790039055,52.32469940185546,52.32624816894531,52.34375,52.303421020507805,52.35311126708984,52.37857818603516,52.35057067871094,52.29158020019531,52.35515975952149,52.3695182800293,52.36655044555664,52.35232925415039,52.37160873413086,52.37371063232422,52.372119903564446,52.37395095825195,52.37261962890625,52.36092376708984,52.30387878417969,52.3633918762207,52.3856315612793,52.370429992675774,52.3841209411621,52.35615921020508,52.36497116088867,52.354530334472656,52.324928283691406,52.36206817626953,52.38264083862305,52.36175155639648,52.35329055786133,52.353538513183594,52.3674201965332,52.36394882202149,52.300201416015625,52.382938385009766,52.3974494934082,52.37078094482422,52.35837936401367,52.38444900512695,52.35755157470703,52.38116836547852,52.37017822265625,52.36439895629882,52.407020568847656,52.32693099975586,52.31911849975586,52.397171020507805,52.335540771484375,52.324649810791016,52.359893798828125,52.358245849609375,52.354129791259766,52.39062881469727,52.343158721923835,52.321250915527344,52.319332122802734,52.34426498413086,52.42231369018555,52.35546875,52.313514709472656,52.37075042724609,52.376373291015625,52.360313415527344,52.36170196533203,52.35456466674805,52.37663650512695,52.34352111816406,52.32994842529297,52.42988967895508,52.427631378173835,52.33047866821289,52.3819694519043,52.44068145751953,52.42818069458008,52.32984924316406,52.33987045288086,52.338958740234375,52.42639160156249,52.272369384765625,52.33773040771484,52.3083610534668,52.33731842041016,52.43280029296875,52.432159423828125,52.42864990234375,52.28237152099609,52.432010650634766,52.335330963134766,52.31697082519531,52.3337516784668,52.33705139160156,52.339351654052734,52.43571853637695,52.33850860595703,52.33028030395508,52.335063934326165,52.32835006713867,52.382118225097656,52.30564880371094,52.37990188598633,52.334659576416016,52.34170150756836,52.38399887084961,52.37984085083008,52.380950927734375,52.374488830566406,52.38233184814453,52.37994003295898,52.33087158203125,52.435359954833984,52.30617904663086,52.433460235595696,52.337268829345696,52.43191146850586,52.319839477539055,52.38737869262695,52.42831039428711,52.28382873535156,52.283199310302734,52.33600997924805,52.423198699951165,52.38262939453125,52.340110778808594,52.34708023071289,52.283401489257805,52.33319854736328,52.34326171875,52.32696914672852,52.42174911499024,52.37234878540039,52.273529052734375,52.43778991699219,52.43920135498047,52.271018981933594,52.271881103515625,52.42953872680664,52.27136993408203,52.43218994140625,52.433929443359375,52.44234085083008,52.42552947998047,52.43220138549805,52.439544677734375,52.431888580322266,52.30984878540039,52.334991455078125,52.2959098815918,52.31629943847656,52.27751922607422,52.42388153076172,52.33557128906249,52.33518981933594,52.43547058105469,52.33300018310546,52.339519500732415,52.3438606262207,52.42440032958984,52.31229019165039,52.33514022827149,52.269729614257805,52.43106842041016,52.4338493347168,52.26866149902344,52.34899139404297,52.273040771484375,52.26926040649414,52.42762756347656,52.43198013305664,52.3083610534668,52.3088493347168,52.337989807128906,52.33491134643555,52.30720138549805,52.42681121826172,52.307971954345696,52.32752990722656,52.33536148071289,52.329299926757805,52.34177017211913,52.312198638916016,52.313961029052734,52.38623046875,52.32976913452149,52.31039810180664,52.31438064575195,52.32777786254882,52.34075164794922,52.339859008789055,52.3466796875,52.339458465576165],\"legendgroup\":\"Airbnb listing\",\"lon\":[4.978789806365967,5.012310028076172,4.96412992477417,4.951990127563477,5.01324987411499,4.926609992980957,4.943580150604248,4.890920162200928,4.891109943389893,4.894400119781494,4.836390018463135,4.893589973449707,4.852340221405028,4.855740070343018,4.9202799797058105,4.897500038146973,4.88532018661499,4.856460094451904,4.869160175323486,4.867650032043457,4.963689804077148,4.979400157928467,4.894800186157227,4.90241003036499,4.896200180053711,4.837860107421875,4.851399898529053,4.907780170440674,4.87086009979248,4.868589878082275,4.851900100708008,4.951059818267822,4.835780143737793,4.888510227203369,4.87431001663208,4.874139785766602,4.796609878540039,4.955009937286377,4.955009937286377,4.884920120239258,4.847819805145264,4.846859931945801,4.862619876861572,4.893380165100098,4.877058982849121,4.8386101722717285,4.875589847564696,4.795440196990967,5.014709949493408,4.89700984954834,4.846879959106444,4.84512996673584,4.946469783782959,4.848659992218018,4.915649890899657,4.938169956207275,4.907790184020996,4.8886399269104,4.936180114746094,4.94350004196167,4.9219298362731925,4.965219974517822,4.991859912872314,4.846059799194336,4.933250427246094,4.8520002365112305,4.92480993270874,4.805779933929443,4.847899913787842,4.835830211639404,4.949619770050049,4.856450080871582,4.938459873199463,4.8944501876831055,4.875460147857666,4.877170085906982,4.902639865875244,4.900050163269042,4.852540016174316,4.836080074310304,4.8884801864624015,4.939730167388916,4.855730056762695,4.892079830169678,4.855329990386962,4.924849987030028,4.904819965362549,4.919169902801514,4.905310153961182,4.8857598304748535,4.892240047454834,4.8940300941467285,4.85433006286621,5.000629901885985,4.893489837646484,4.843929767608643,4.845399856567383,4.991859912872314,4.977479934692383,4.878479957580566,4.97868013381958,4.867300033569336,4.963689804077148,4.85453987121582,4.941380023956299,4.893839836120605,4.815320014953612,4.796989917755127,4.95281982421875,4.87982988357544,4.889520168304443,4.859869956970215,4.839620113372803,4.873559951782227,4.902999877929688,4.875070095062256,4.88100004196167,4.863269805908203,4.899600028991699,4.864150047302246,4.865809917449951,4.920780181884766,4.906680107116699,4.984139919281006,4.894750118255615,4.86083984375,4.943140029907227,4.894559860229492,4.923749923706056,4.935259819030762,4.864480018615723,4.893099784851073,4.934140205383301,4.861149787902832,4.913609981536865,4.877540111541748,4.917960166931152,4.877449989318848,4.903600215911865,4.951670169830321,4.994100093841553,4.9064598083496085,4.83135986328125,4.899310111999512,4.90727996826172,4.863329887390137,4.955460071563721,4.89932107925415,4.933949947357178,4.788780212402344,4.944119930267334,4.851379871368408,4.788459777832031,4.831160068511962,4.825210094451904,4.903020858764648,4.875420093536377,4.941649913787842,4.9943599700927725,4.8991899490356445,4.795030117034912,4.95580005645752,4.934100151062012,4.895840167999268,4.876579761505127,4.92071008682251,4.883780002593993,4.947549819946289,4.894579887390137,4.9456400871276855,5.026430130004883,4.931139945983888,4.916520118713378,4.882520198822021,4.883830070495605,4.901780128479004,4.95580005645752,4.870069980621338,4.9998698234558105,4.9008097648620605,4.9133501052856445,4.84961986541748,4.901576042175293,4.881289958953857,4.888420104980469,4.995790004730225,4.943449974060059,4.888309955596924,4.995220184326172,4.867280006408691,4.99560022354126,4.8407697677612305,4.861929893493652,4.911349773406982,4.82712984085083,4.85846996307373,4.877830028533936,4.90807008743286,4.928030014038086,4.943329811096192,4.839550018310546,4.870279788970947,4.94881010055542,4.941659927368164,4.898950099945068,4.9360899925231925,4.854310035705566,4.880849838256836,4.89424991607666,4.936140060424805,4.904910087585449,4.899320125579834,4.9396300315856925,4.861299991607666,4.919750213623047,4.853660106658936,4.854139804840088,4.883299827575684,4.913879871368408,4.950469970703125,4.846849918365479,4.883379936218262,4.791230201721192,4.91648006439209,4.887909889221192,4.79000997543335,4.790800094604492,4.837820053100586,4.915339946746825,4.857379913330078,4.92041015625,4.919340133666992,4.836209774017334,4.925270080566406,4.95835018157959,4.796490192413329,4.8920698165893555,4.878779888153076,4.893179893493652,4.823750019073486,4.872270107269287,4.850560188293457,4.858890056610107,4.88100004196167,4.89201021194458,4.921060085296631,4.9360198974609375,4.918499946594238,4.8595499992370605,4.892280101776123,4.927020072937012,4.926690101623535,4.906030178070068,4.916540145874024,4.919769763946533,4.94025993347168,4.885290145874024,4.8360700607299805,4.8992600440979,4.8992600440979,4.9374399185180655,4.874460220336913,4.947050094604492,4.922460079193115,4.882080078125,4.910429954528809,4.802899837493896,4.90399980545044,4.91349983215332,4.852049827575684,4.9247798919677725,4.8353800773620605,4.963230133056641,4.980110168457031,4.9134202003479,4.859690189361572,4.907680034637451,4.853010177612305,4.852799892425537,4.883279800415039,4.9303998947143555,4.937849998474121,4.906370162963867,4.8564300537109375,4.850550174713135,4.870480060577393,4.8506598472595215,4.915060043334961,4.934929847717285,4.851329803466797,4.993159770965576,4.83377981185913,4.917709827423096,4.802949905395508,4.903940200805664,4.926519870758057,4.9024200439453125,4.843929767608643,4.880509853363037,4.912489891052246,4.914400100708008,4.870989799499512,5.001989841461182,4.919250011444092,4.878610134124756,4.853040218353272,4.922749996185304,4.937469959259033,4.854430198669434,4.957250118255615,4.933030128479004,4.937190055847168,4.940209865570068,4.853630065917969,4.916409969329834,4.856929779052734,4.895040035247803,4.93144989013672,4.877900123596192,4.83443021774292,4.878819942474365,4.88362979888916,4.895860195159912,4.786779880523682,5.004280090332031,4.862269878387451,4.980390071868896,4.851339817047119,4.82377004623413,4.861820220947266,5.004899978637695,4.897980213165283,4.816180229187012,4.894649982452393,4.856959819793701,5.004370212554932,4.887939929962158,5.004849910736084,5.00492000579834,5.00439977645874,5.006140232086182,5.006490230560304,4.908130168914794,4.885869979858398,4.88677978515625,4.943689823150635,4.990900039672852,4.879730224609375,4.873290061950684,4.870059967041016,4.8561601638793945,4.9074997901916495,4.847449779510497,4.849279880523682,4.849949836730957,4.902269840240479,4.920639991760254,4.926760196685791,4.871339797973633,4.982029914855957,4.883039951324463,4.991330146789551,4.882009983062744,4.8774099349975595,4.9102301597595215,4.982019901275635,4.856389999389648,4.950620174407959,4.991690158843993,4.7894601821899405,4.845230102539063,4.8523898124694815,4.83519983291626,4.906390190124512,4.8618998527526855,4.939070224761962,4.854879856109619,4.901370048522949,4.8508100509643555,4.878680229187012,4.877540111541748,4.84814977645874,4.883920192718506,4.877729892730713,4.854380130767822,4.8648600578308105,4.87677001953125,5.008609771728516,4.8040499687194815,4.854559898376465,4.82627010345459,4.826700210571289,4.880990028381348,4.856210231781006,4.980969905853272,4.955029964447021,4.85393762588501,4.797939777374268,4.908959865570068,4.91540002822876,4.858479976654053,4.8367600440979,4.865749835968018,4.942989826202393,4.894790172576904,4.916510105133057,4.807199954986572,4.9203901290893555,4.858550071716309,4.968289852142334,4.968510150909424,4.8992600440979,4.946569919586182,4.97150993347168,4.862130165100098,4.854100227355957,4.882480144500732,4.876049995422363,4.836090087890625,4.85752010345459,4.994269847869873,4.884009838104248,4.8915300369262695,4.8601598739624015,4.920360088348389,4.84867000579834,4.878190040588378,4.833230018615723,4.921229839324951,4.874110221862793,4.886030197143555,4.879119873046875,4.982999801635742,4.851250171661377,4.851570129394531,4.801310062408447,4.92657995223999,4.94410228729248,4.851459980010985,4.918970108032227,4.884699821472168,5.01667022705078,4.922679901123047,4.862259864807129,4.900619983673096,4.969799995422363,4.900420188903809,4.924610137939453,4.9568400382995605,5.006849765777588,4.870759963989258,4.890089988708496,4.849020004272461,4.9290127754211435,4.9290127754211435,4.85968017578125,4.788070201873779,4.852200031280518,4.886839866638184,4.851309776306152,4.898009777069092,4.89339017868042,4.8848700523376465,4.787919998168944,4.8565402030944815,4.9603400230407715,4.9261298179626465,4.897240161895752,4.994510173797608,4.956019878387451,4.947629928588867,4.863399982452393,4.893730163574219,4.787769794464111,4.908810138702393,4.857309818267822,4.933559894561768,4.994379997253418,4.904930114746094,4.985290050506592,4.939209938049316,4.92756986618042,4.935619831085205,4.924220085144042,4.903779983520508,4.850419998168944,4.966899871826172,4.896520137786865,4.95890998840332,4.863110065460205,4.875740051269531,4.854430198669434,4.872650146484375,4.936789989471436,4.897079944610596,4.865389823913574,4.863999843597412,4.971479892730713,4.886960029602051,4.901309967041016,4.864409923553467,4.848720073699951,4.877009868621825,4.8517699241638175,4.878109931945801,4.923069953918457,4.855050086975098,4.853030204772949,4.84689998626709,4.8699798583984375,4.905330181121825,4.885449886322021,4.854430198669434,4.858190059661865,4.847740173339844,4.923329830169678,4.823349952697754,4.872889995574951,4.845749855041504,4.92683982849121,4.825565814971924,4.787869930267334,4.787869930267334,4.90546989440918,5.00616979598999,4.860169887542725,4.938570022583008,4.838160037994385,4.903250217437744,4.906300067901611,4.823800086975098,4.943160057067871,4.889269828796387,4.928679943084717,4.902810096740723,4.7911200523376465,4.920730113983153,4.903860092163086,4.979209899902344,4.905749797821045,4.883220195770264,4.918580055236816,4.919320106506348,4.941490173339844,4.869450092315674,4.787869930267334,4.852769851684569,4.853950023651123,4.914529800415039,4.926400184631348,4.860099792480469,4.8233299255371085,4.80352020263672,4.87893009185791,4.936220169067383,4.88916015625,4.885280132293701,4.8904900550842285,4.8988800048828125,4.892199993133545,4.896240234375,4.896240234375,4.878399848937988,4.878399848937988,4.896349906921387,4.896349906921387,4.9241299629211435,4.871860027313232,4.873419761657715,4.875120162963867,4.87824010848999,4.908649921417236,5.0082597732543945,4.904739856719971,4.9044599533081055,4.9028401374816895,4.904049873352051,4.904419898986816,4.904419898986816,4.849939823150635,4.854660034179688,4.861730098724365,4.881840229034424,4.853169918060304,4.853000164031982,4.920440196990967,5.0053300857543945,5.005280017852783,4.871409893035889,4.927599906921387,4.886280059814453,4.941571235656737,4.870269775390625,4.898739814758301,4.815149784088135,4.913340091705321,4.926159858703612,4.976220130920409,4.905950069427489,4.950409889221192,4.9160141944885245,4.8488402366638175,4.846999645233153,4.937880039215088,4.8471899032592765,4.862549781799316,4.888710021972656,4.920169830322266,4.919839859008789,4.906529903411865,4.852200031280518,4.975110054016112,4.91855001449585,4.848519802093506,4.808800220489502,4.853640079498291,4.878550052642822,4.908460140228272,4.930270195007324,4.87971019744873,4.9160141944885245,4.825369834899902,4.928840160369873,4.85575008392334,4.874460220336913,4.847119808197021,4.989799976348877,4.8531599044799805,4.942560195922852,5.010169982910156,4.907949924468993,4.934816837310791,4.96930980682373,4.916689872741699,4.954880237579346,4.892280101776123,4.905700206756592,4.889750003814696,4.819240093231201,4.796239852905273,4.794519901275635,4.867380142211913,4.799570083618164,4.83834981918335,4.840240001678467,4.9801201820373535,4.845200061798096,4.877655029296875,4.7923598289489755,4.925449848175049,4.8749098777771,4.896520137786865,4.901760101318359,4.806230068206787,4.835490226745605,4.835750102996825,4.908299922943115,4.878940105438232,4.941180229187012,4.944960117340088,4.835669994354248,4.840179920196533,4.943349838256836,4.8516502380371085,4.9482598304748535,4.889190196990967,4.843500137329102,4.856319904327393,4.921800136566161,4.926630020141602,4.86614990234375,4.858389854431152,4.897220134735107,4.947289943695068,4.901370048522949,4.923890113830566,4.890230178833008,4.906479835510254,4.832970142364502,4.896349906921387,4.849009990692139,4.997950077056885,4.896349906921387,4.863039970397949,4.930220127105713,4.966720104217528,4.936110019683838,4.931469917297363,4.9330902099609375,4.8720102310180655,4.857970237731934,4.931139945983888,4.9313597679138175,4.985119819641112,4.931009769439696,4.932569980621338,4.932559967041016,4.93064022064209,4.906109809875488,4.846250057220458,4.925559997558594,4.874579906463623,4.880040168762207,4.861770153045654,4.930819988250732,4.906030178070068,4.852709770202637,4.885779857635497,4.905739784240723,4.984769821166992,4.919469833374024,4.880939960479736,4.873859882354736,4.881239891052246,4.851830005645752,4.884809970855713,4.861440181732178,4.874740123748779,4.899320125579834,4.8607001304626465,4.908130168914794,4.798600196838378,4.918210029602051,4.920479774475098,4.852580070495605,4.9195098876953125,4.86688995361328,4.935460090637207,4.880000114440918,4.8666300773620605,5.0059800148010245,4.878403186798096,4.897049903869629,4.979159832000732,4.881919860839844,4.914380073547363,4.787869930267334,4.8819098472595215,4.805469989776611,4.9060401916503915,4.907780170440674,4.880489826202393,4.8754963874816895,4.905932426452637,4.998370170593262,4.908830165863037,4.8870720863342285,4.885459899902344,4.7977118492126465,4.918129920959473,4.870389938354492,4.844910144805908,4.844910144805908,4.925670146942139,4.857150077819824,4.902309894561768,5.014780044555664,4.9179301261901855,4.879220008850098,4.863860130310059,4.867040157318115,4.822640419006348,4.889801025390625,4.869579792022705,4.910459995269775,4.821569919586182,4.821360111236572,4.838980197906494,4.905720233917236,4.835394859313965,4.91487979888916,4.863420009613037,4.906919956207275,4.872759819030762,4.848580837249756,4.876450061798096,4.849050045013428,4.8524298667907715,4.852580070495605,4.882209777832031,4.86559009552002,4.8633198738098145,4.906799793243408,4.967589855194092,4.940760135650635,4.871469974517822,4.907229900360107,4.967879772186279,4.832489967346192,4.833270072937012,4.863619804382324,4.886159896850586,4.85221004486084,4.910220146179199,4.910200119018555,4.9086198806762695,4.908420085906982,4.89832878112793,4.967609882354736,4.939449787139893,4.881340026855469,4.8535799980163565,4.848199844360352,4.8287601470947275,4.904930114746094,4.902560234069824,4.939620018005371,4.943749904632568,4.858339786529541,4.918270111083984,4.910830020904541,4.855599880218506,4.8608598709106445,4.944129943847656,4.976799964904785,4.835440158843993,4.93213987350464,4.9078898429870605,4.8977999687194815,4.833079814910889,4.897719860076904,4.861919879913329,4.863120079040527,4.884369850158691,4.929470062255859,4.948649883270264,4.981760025024414,4.933700084686279,4.806719779968262,4.947100162506104,4.940872669219971,4.94439697265625,4.920869827270508,4.871789932250977,4.862150192260742,4.9798598289489755,4.979893684387207,4.8083038330078125,4.901969909667969,4.824911117553711,4.955872535705566,4.887849807739258,4.874325752258301,4.855211257934569,4.978898048400879,4.902740001678467,4.895508766174316,4.861253261566161,4.934959888458252,4.921390056610107,5.07420015335083,4.935269832611084,4.743110179901123,4.9526801109313965,4.938620090484619,4.933300018310546,4.963069915771484,4.953710079193115,4.950079917907715,4.979559898376465,4.792840003967285,5.029660224914551,4.9711899757385245,4.879899978637695,4.881120204925537,4.964019775390625,5.005259990692139,4.999080181121825,4.931180000305176,4.817309856414794,4.80033016204834,4.795169830322266,4.781980037689209,4.998199939727783,4.791719913482666,4.935180187225342,4.951557636260985,4.932980060577393,4.750289916992188,5.038440227508545,4.753890037536621,4.780310153961182,4.786799907684326,4.7511701583862305,4.743889808654785,4.744939804077148,4.757040023803711,4.744669914245605,4.748479843139648,4.919740200042725,4.880259990692139,4.868850231170654,4.880819797515869,4.790040016174316,5.033010005950928,5.034900188446045,4.7510199546813965,5.042191028594971,5.005730152130127,5.005829811096192,4.969470024108888,5.022900104522705,4.7424302101135245,4.964789867401123,4.980939865112305,5.005990028381348,4.9402899742126465,4.963329792022705,4.935319900512695,5.024489879608153,4.750370025634766,4.9801998138427725,4.869619846343993,4.953519821166992,4.974890232086182,4.973249912261962,4.918779850006104,4.977540016174316,4.953969955444336,4.952479839324951,4.953519821166992,4.942190170288086,4.952509880065918,4.952157020568848,4.920569896697998,5.039639949798584,4.933440208435059,5.01324987411499,5.035459995269775,4.972949981689453,5.021979808807373,4.9326701164245605,4.933279991149902,4.879409790039063,4.960609912872314,4.956860065460205,4.967013359069824,5.022540092468262,5.038670063018799,4.932869911193848,4.974599838256836,4.997990131378174,4.996920108795166,4.9727301597595215,4.982240200042725,4.978250026702881,4.9770002365112305,5.074203968048096,5.0339698791503915,5.029660224914551,5.0396728515625,4.952549934387207,4.9325499534606925,5.036640167236328,4.9135398864746085,5.038790225982666,4.935420036315918,4.9325499534606925,4.939380168914794,4.957009792327881,5.038280010223389,4.877620220184326,4.833010196685791,4.962530136108398,4.880030155181885,4.8790998458862305,4.93930196762085,4.958290100097656,4.785920143127441,4.963590145111084,4.957489967346192],\"marker\":{\"color\":\"#EF553B\"},\"mode\":\"markers\",\"name\":\"Airbnb listing\",\"showlegend\":true,\"subplot\":\"mapbox\",\"type\":\"scattermapbox\"}],                        {\"template\":{\"data\":{\"bar\":[{\"error_x\":{\"color\":\"#2a3f5f\"},\"error_y\":{\"color\":\"#2a3f5f\"},\"marker\":{\"line\":{\"color\":\"#E5ECF6\",\"width\":0.5},\"pattern\":{\"fillmode\":\"overlay\",\"size\":10,\"solidity\":0.2}},\"type\":\"bar\"}],\"barpolar\":[{\"marker\":{\"line\":{\"color\":\"#E5ECF6\",\"width\":0.5},\"pattern\":{\"fillmode\":\"overlay\",\"size\":10,\"solidity\":0.2}},\"type\":\"barpolar\"}],\"carpet\":[{\"aaxis\":{\"endlinecolor\":\"#2a3f5f\",\"gridcolor\":\"white\",\"linecolor\":\"white\",\"minorgridcolor\":\"white\",\"startlinecolor\":\"#2a3f5f\"},\"baxis\":{\"endlinecolor\":\"#2a3f5f\",\"gridcolor\":\"white\",\"linecolor\":\"white\",\"minorgridcolor\":\"white\",\"startlinecolor\":\"#2a3f5f\"},\"type\":\"carpet\"}],\"choropleth\":[{\"colorbar\":{\"outlinewidth\":0,\"ticks\":\"\"},\"type\":\"choropleth\"}],\"contour\":[{\"colorbar\":{\"outlinewidth\":0,\"ticks\":\"\"},\"colorscale\":[[0.0,\"#0d0887\"],[0.1111111111111111,\"#46039f\"],[0.2222222222222222,\"#7201a8\"],[0.3333333333333333,\"#9c179e\"],[0.4444444444444444,\"#bd3786\"],[0.5555555555555556,\"#d8576b\"],[0.6666666666666666,\"#ed7953\"],[0.7777777777777778,\"#fb9f3a\"],[0.8888888888888888,\"#fdca26\"],[1.0,\"#f0f921\"]],\"type\":\"contour\"}],\"contourcarpet\":[{\"colorbar\":{\"outlinewidth\":0,\"ticks\":\"\"},\"type\":\"contourcarpet\"}],\"heatmap\":[{\"colorbar\":{\"outlinewidth\":0,\"ticks\":\"\"},\"colorscale\":[[0.0,\"#0d0887\"],[0.1111111111111111,\"#46039f\"],[0.2222222222222222,\"#7201a8\"],[0.3333333333333333,\"#9c179e\"],[0.4444444444444444,\"#bd3786\"],[0.5555555555555556,\"#d8576b\"],[0.6666666666666666,\"#ed7953\"],[0.7777777777777778,\"#fb9f3a\"],[0.8888888888888888,\"#fdca26\"],[1.0,\"#f0f921\"]],\"type\":\"heatmap\"}],\"heatmapgl\":[{\"colorbar\":{\"outlinewidth\":0,\"ticks\":\"\"},\"colorscale\":[[0.0,\"#0d0887\"],[0.1111111111111111,\"#46039f\"],[0.2222222222222222,\"#7201a8\"],[0.3333333333333333,\"#9c179e\"],[0.4444444444444444,\"#bd3786\"],[0.5555555555555556,\"#d8576b\"],[0.6666666666666666,\"#ed7953\"],[0.7777777777777778,\"#fb9f3a\"],[0.8888888888888888,\"#fdca26\"],[1.0,\"#f0f921\"]],\"type\":\"heatmapgl\"}],\"histogram\":[{\"marker\":{\"pattern\":{\"fillmode\":\"overlay\",\"size\":10,\"solidity\":0.2}},\"type\":\"histogram\"}],\"histogram2d\":[{\"colorbar\":{\"outlinewidth\":0,\"ticks\":\"\"},\"colorscale\":[[0.0,\"#0d0887\"],[0.1111111111111111,\"#46039f\"],[0.2222222222222222,\"#7201a8\"],[0.3333333333333333,\"#9c179e\"],[0.4444444444444444,\"#bd3786\"],[0.5555555555555556,\"#d8576b\"],[0.6666666666666666,\"#ed7953\"],[0.7777777777777778,\"#fb9f3a\"],[0.8888888888888888,\"#fdca26\"],[1.0,\"#f0f921\"]],\"type\":\"histogram2d\"}],\"histogram2dcontour\":[{\"colorbar\":{\"outlinewidth\":0,\"ticks\":\"\"},\"colorscale\":[[0.0,\"#0d0887\"],[0.1111111111111111,\"#46039f\"],[0.2222222222222222,\"#7201a8\"],[0.3333333333333333,\"#9c179e\"],[0.4444444444444444,\"#bd3786\"],[0.5555555555555556,\"#d8576b\"],[0.6666666666666666,\"#ed7953\"],[0.7777777777777778,\"#fb9f3a\"],[0.8888888888888888,\"#fdca26\"],[1.0,\"#f0f921\"]],\"type\":\"histogram2dcontour\"}],\"mesh3d\":[{\"colorbar\":{\"outlinewidth\":0,\"ticks\":\"\"},\"type\":\"mesh3d\"}],\"parcoords\":[{\"line\":{\"colorbar\":{\"outlinewidth\":0,\"ticks\":\"\"}},\"type\":\"parcoords\"}],\"pie\":[{\"automargin\":true,\"type\":\"pie\"}],\"scatter\":[{\"marker\":{\"colorbar\":{\"outlinewidth\":0,\"ticks\":\"\"}},\"type\":\"scatter\"}],\"scatter3d\":[{\"line\":{\"colorbar\":{\"outlinewidth\":0,\"ticks\":\"\"}},\"marker\":{\"colorbar\":{\"outlinewidth\":0,\"ticks\":\"\"}},\"type\":\"scatter3d\"}],\"scattercarpet\":[{\"marker\":{\"colorbar\":{\"outlinewidth\":0,\"ticks\":\"\"}},\"type\":\"scattercarpet\"}],\"scattergeo\":[{\"marker\":{\"colorbar\":{\"outlinewidth\":0,\"ticks\":\"\"}},\"type\":\"scattergeo\"}],\"scattergl\":[{\"marker\":{\"colorbar\":{\"outlinewidth\":0,\"ticks\":\"\"}},\"type\":\"scattergl\"}],\"scattermapbox\":[{\"marker\":{\"colorbar\":{\"outlinewidth\":0,\"ticks\":\"\"}},\"type\":\"scattermapbox\"}],\"scatterpolar\":[{\"marker\":{\"colorbar\":{\"outlinewidth\":0,\"ticks\":\"\"}},\"type\":\"scatterpolar\"}],\"scatterpolargl\":[{\"marker\":{\"colorbar\":{\"outlinewidth\":0,\"ticks\":\"\"}},\"type\":\"scatterpolargl\"}],\"scatterternary\":[{\"marker\":{\"colorbar\":{\"outlinewidth\":0,\"ticks\":\"\"}},\"type\":\"scatterternary\"}],\"surface\":[{\"colorbar\":{\"outlinewidth\":0,\"ticks\":\"\"},\"colorscale\":[[0.0,\"#0d0887\"],[0.1111111111111111,\"#46039f\"],[0.2222222222222222,\"#7201a8\"],[0.3333333333333333,\"#9c179e\"],[0.4444444444444444,\"#bd3786\"],[0.5555555555555556,\"#d8576b\"],[0.6666666666666666,\"#ed7953\"],[0.7777777777777778,\"#fb9f3a\"],[0.8888888888888888,\"#fdca26\"],[1.0,\"#f0f921\"]],\"type\":\"surface\"}],\"table\":[{\"cells\":{\"fill\":{\"color\":\"#EBF0F8\"},\"line\":{\"color\":\"white\"}},\"header\":{\"fill\":{\"color\":\"#C8D4E3\"},\"line\":{\"color\":\"white\"}},\"type\":\"table\"}]},\"layout\":{\"annotationdefaults\":{\"arrowcolor\":\"#2a3f5f\",\"arrowhead\":0,\"arrowwidth\":1},\"autotypenumbers\":\"strict\",\"coloraxis\":{\"colorbar\":{\"outlinewidth\":0,\"ticks\":\"\"}},\"colorscale\":{\"diverging\":[[0,\"#8e0152\"],[0.1,\"#c51b7d\"],[0.2,\"#de77ae\"],[0.3,\"#f1b6da\"],[0.4,\"#fde0ef\"],[0.5,\"#f7f7f7\"],[0.6,\"#e6f5d0\"],[0.7,\"#b8e186\"],[0.8,\"#7fbc41\"],[0.9,\"#4d9221\"],[1,\"#276419\"]],\"sequential\":[[0.0,\"#0d0887\"],[0.1111111111111111,\"#46039f\"],[0.2222222222222222,\"#7201a8\"],[0.3333333333333333,\"#9c179e\"],[0.4444444444444444,\"#bd3786\"],[0.5555555555555556,\"#d8576b\"],[0.6666666666666666,\"#ed7953\"],[0.7777777777777778,\"#fb9f3a\"],[0.8888888888888888,\"#fdca26\"],[1.0,\"#f0f921\"]],\"sequentialminus\":[[0.0,\"#0d0887\"],[0.1111111111111111,\"#46039f\"],[0.2222222222222222,\"#7201a8\"],[0.3333333333333333,\"#9c179e\"],[0.4444444444444444,\"#bd3786\"],[0.5555555555555556,\"#d8576b\"],[0.6666666666666666,\"#ed7953\"],[0.7777777777777778,\"#fb9f3a\"],[0.8888888888888888,\"#fdca26\"],[1.0,\"#f0f921\"]]},\"colorway\":[\"#636efa\",\"#EF553B\",\"#00cc96\",\"#ab63fa\",\"#FFA15A\",\"#19d3f3\",\"#FF6692\",\"#B6E880\",\"#FF97FF\",\"#FECB52\"],\"font\":{\"color\":\"#2a3f5f\"},\"geo\":{\"bgcolor\":\"white\",\"lakecolor\":\"white\",\"landcolor\":\"#E5ECF6\",\"showlakes\":true,\"showland\":true,\"subunitcolor\":\"white\"},\"hoverlabel\":{\"align\":\"left\"},\"hovermode\":\"closest\",\"mapbox\":{\"style\":\"light\"},\"paper_bgcolor\":\"white\",\"plot_bgcolor\":\"#E5ECF6\",\"polar\":{\"angularaxis\":{\"gridcolor\":\"white\",\"linecolor\":\"white\",\"ticks\":\"\"},\"bgcolor\":\"#E5ECF6\",\"radialaxis\":{\"gridcolor\":\"white\",\"linecolor\":\"white\",\"ticks\":\"\"}},\"scene\":{\"xaxis\":{\"backgroundcolor\":\"#E5ECF6\",\"gridcolor\":\"white\",\"gridwidth\":2,\"linecolor\":\"white\",\"showbackground\":true,\"ticks\":\"\",\"zerolinecolor\":\"white\"},\"yaxis\":{\"backgroundcolor\":\"#E5ECF6\",\"gridcolor\":\"white\",\"gridwidth\":2,\"linecolor\":\"white\",\"showbackground\":true,\"ticks\":\"\",\"zerolinecolor\":\"white\"},\"zaxis\":{\"backgroundcolor\":\"#E5ECF6\",\"gridcolor\":\"white\",\"gridwidth\":2,\"linecolor\":\"white\",\"showbackground\":true,\"ticks\":\"\",\"zerolinecolor\":\"white\"}},\"shapedefaults\":{\"line\":{\"color\":\"#2a3f5f\"}},\"ternary\":{\"aaxis\":{\"gridcolor\":\"white\",\"linecolor\":\"white\",\"ticks\":\"\"},\"baxis\":{\"gridcolor\":\"white\",\"linecolor\":\"white\",\"ticks\":\"\"},\"bgcolor\":\"#E5ECF6\",\"caxis\":{\"gridcolor\":\"white\",\"linecolor\":\"white\",\"ticks\":\"\"}},\"title\":{\"x\":0.05},\"xaxis\":{\"automargin\":true,\"gridcolor\":\"white\",\"linecolor\":\"white\",\"ticks\":\"\",\"title\":{\"standoff\":15},\"zerolinecolor\":\"white\",\"zerolinewidth\":2},\"yaxis\":{\"automargin\":true,\"gridcolor\":\"white\",\"linecolor\":\"white\",\"ticks\":\"\",\"title\":{\"standoff\":15},\"zerolinecolor\":\"white\",\"zerolinewidth\":2}}},\"mapbox\":{\"domain\":{\"x\":[0.0,1.0],\"y\":[0.0,1.0]},\"center\":{\"lat\":52.36468590567632,\"lon\":4.898955225429613},\"zoom\":11,\"style\":\"stamen-terrain\"},\"legend\":{\"title\":{\"text\":\"Location\"},\"tracegroupgap\":0},\"margin\":{\"t\":60},\"height\":500,\"width\":800,\"geo\":{\"center\":{\"lat\":52.36,\"lon\":4.8852}}},                        {\"responsive\": true}                    ).then(function(){\n",
              "                            \n",
              "var gd = document.getElementById('7a881bc0-e6e5-41b5-8957-b3221f6fc405');\n",
              "var x = new MutationObserver(function (mutations, observer) {{\n",
              "        var display = window.getComputedStyle(gd).display;\n",
              "        if (!display || display === 'none') {{\n",
              "            console.log([gd, 'removed!']);\n",
              "            Plotly.purge(gd);\n",
              "            observer.disconnect();\n",
              "        }}\n",
              "}});\n",
              "\n",
              "// Listen for the removal of the full notebook cells\n",
              "var notebookContainer = gd.closest('#notebook-container');\n",
              "if (notebookContainer) {{\n",
              "    x.observe(notebookContainer, {childList: true});\n",
              "}}\n",
              "\n",
              "// Listen for the clearing of the current output cell\n",
              "var outputEl = gd.closest('.output');\n",
              "if (outputEl) {{\n",
              "    x.observe(outputEl, {childList: true});\n",
              "}}\n",
              "\n",
              "                        })                };                            </script>        </div>\n",
              "</body>\n",
              "</html>"
            ]
          },
          "metadata": {}
        }
      ]
    },
    {
      "cell_type": "markdown",
      "source": [
        "### Make an App for Your Portfolio!\n",
        "\n",
        "<center>\n",
        "  <img src=https://griddb-pro.azureedge.net/en/wp-content/uploads/2021/08/streamlit-1160x650.png width=\"500\" align=\"center\" />\n",
        "</center>\n",
        "<br/>\n",
        "\n",
        "**Participants such as yourselves often want to use the weekly CoRise projects for their portfolios. To facilitate that, we've created this section. It might seem like a lot, but it's actually just following instructions and copy-pasting. Reach out on Slack if you get stuck!** \n",
        "\n",
        "You will make an app that visualizes the dataset as a DataFrame and as a geographic visualization like:\n",
        "\n",
        "<center>\n",
        "  <img src=https://i.ibb.co/gRhj6Jd/Screen-Shot-2022-11-10-at-3-58-17-PM.png width=\"500\" align=\"center\" />\n",
        "</center>\n",
        "<br/>\n",
        "\n",
        "Five out of the six columns in the dataset are used as so:\n",
        "- **Listing_id**: Ignored for visualization purposes\n",
        "- **Price**: Hovering over a blue/red dot displays in **bold** the price at the top\n",
        "- **Latitude**: Used to plot the blue/red dot on the map\n",
        "- **Longitude**: Used to plot the blue/red dot on the map\n",
        "- **Meters from favorite point**: Hovering over a blue/red dot displays the number of meters from the blue point\n",
        "- **Color**: Dependent on the category its assigned\n",
        "\n",
        "To visualize this, we will again use a library called [Streamlit](https://streamlit.io/). For now you are not expected to know how Streamlit works, but you are expected to be able to copy-paste and follow instructions if you want to share this project as part of your portfolio!\n",
        "\n",
        "We are going to use [Streamlit Share](https://share.streamlit.io/) to host your projects. It's a website that allows us to host our interactive projects for free online! Again, we don't expect you to understand how to use and/or modify the code we will show below. We do expect you to read the instructions and copy-paste our code to the Streamlit Share platform. Feel free to change it any way you like. Some great starting points are [here](https://python.plainenglish.io/how-to-build-web-app-using-streamlit-pandas-numpy-5e134f0cf552), [here](https://docs.streamlit.io/library/get-started/create-an-app), [here](https://streamlit.io/components), and [here](https://streamlit.io/gallery)!\n",
        "\n",
        "*Please make sure to change the currency symbol in the code below to the appropriate one if you've chosen something other than GBP/pound.*"
      ],
      "metadata": {
        "id": "C-EkAreK9aH3"
      },
      "id": "C-EkAreK9aH3"
    },
    {
      "cell_type": "markdown",
      "source": [
        "The **%%writefile [FILE_NAME].[FILE_EXTENSION]** command let's us save the code written in the cells in your Google Colab instance. Having it saved like that enables us to download it as a file, as seen below:"
      ],
      "metadata": {
        "id": "OQ2XhKtchCr9"
      },
      "id": "OQ2XhKtchCr9"
    },
    {
      "cell_type": "code",
      "source": [
        "from google.colab import files\n",
        "\n",
        "# Download the file locally\n",
        "files.download('streamlit_app.py')"
      ],
      "metadata": {
        "id": "zZw7Ynwr9h3Z",
        "colab": {
          "base_uri": "https://localhost:8080/",
          "height": 17
        },
        "outputId": "4699dd8d-ef06-4fd5-b92f-8b76c6d3cd8c"
      },
      "id": "zZw7Ynwr9h3Z",
      "execution_count": null,
      "outputs": [
        {
          "output_type": "display_data",
          "data": {
            "text/plain": [
              "<IPython.core.display.Javascript object>"
            ],
            "application/javascript": [
              "\n",
              "    async function download(id, filename, size) {\n",
              "      if (!google.colab.kernel.accessAllowed) {\n",
              "        return;\n",
              "      }\n",
              "      const div = document.createElement('div');\n",
              "      const label = document.createElement('label');\n",
              "      label.textContent = `Downloading \"${filename}\": `;\n",
              "      div.appendChild(label);\n",
              "      const progress = document.createElement('progress');\n",
              "      progress.max = size;\n",
              "      div.appendChild(progress);\n",
              "      document.body.appendChild(div);\n",
              "\n",
              "      const buffers = [];\n",
              "      let downloaded = 0;\n",
              "\n",
              "      const channel = await google.colab.kernel.comms.open(id);\n",
              "      // Send a message to notify the kernel that we're ready.\n",
              "      channel.send({})\n",
              "\n",
              "      for await (const message of channel.messages) {\n",
              "        // Send a message to notify the kernel that we're ready.\n",
              "        channel.send({})\n",
              "        if (message.buffers) {\n",
              "          for (const buffer of message.buffers) {\n",
              "            buffers.push(buffer);\n",
              "            downloaded += buffer.byteLength;\n",
              "            progress.value = downloaded;\n",
              "          }\n",
              "        }\n",
              "      }\n",
              "      const blob = new Blob(buffers, {type: 'application/binary'});\n",
              "      const a = document.createElement('a');\n",
              "      a.href = window.URL.createObjectURL(blob);\n",
              "      a.download = filename;\n",
              "      div.appendChild(a);\n",
              "      a.click();\n",
              "      div.remove();\n",
              "    }\n",
              "  "
            ]
          },
          "metadata": {}
        },
        {
          "output_type": "display_data",
          "data": {
            "text/plain": [
              "<IPython.core.display.Javascript object>"
            ],
            "application/javascript": [
              "download(\"download_1a008eea-8f42-485b-a643-fd3835bbfed7\", \"streamlit_app.py\", 1718)"
            ]
          },
          "metadata": {}
        }
      ]
    },
    {
      "cell_type": "code",
      "source": [
        "%%writefile requirements.txt\n",
        "pandas\n",
        "streamlit\n",
        "plotly"
      ],
      "metadata": {
        "id": "B-qGmYOHNUQN",
        "colab": {
          "base_uri": "https://localhost:8080/"
        },
        "outputId": "48837004-a539-49ee-c198-4c376e3a9c7f"
      },
      "id": "B-qGmYOHNUQN",
      "execution_count": null,
      "outputs": [
        {
          "output_type": "stream",
          "name": "stdout",
          "text": [
            "Overwriting requirements.txt\n"
          ]
        }
      ]
    },
    {
      "cell_type": "code",
      "source": [
        "from google.colab import files\n",
        "\n",
        "# Download the file locally\n",
        "files.download('requirements.txt')"
      ],
      "metadata": {
        "id": "AXjHxtJXNVZf",
        "colab": {
          "base_uri": "https://localhost:8080/",
          "height": 17
        },
        "outputId": "ec5785c5-55be-45f7-b511-b22fe42fe4de"
      },
      "id": "AXjHxtJXNVZf",
      "execution_count": null,
      "outputs": [
        {
          "output_type": "display_data",
          "data": {
            "text/plain": [
              "<IPython.core.display.Javascript object>"
            ],
            "application/javascript": [
              "\n",
              "    async function download(id, filename, size) {\n",
              "      if (!google.colab.kernel.accessAllowed) {\n",
              "        return;\n",
              "      }\n",
              "      const div = document.createElement('div');\n",
              "      const label = document.createElement('label');\n",
              "      label.textContent = `Downloading \"${filename}\": `;\n",
              "      div.appendChild(label);\n",
              "      const progress = document.createElement('progress');\n",
              "      progress.max = size;\n",
              "      div.appendChild(progress);\n",
              "      document.body.appendChild(div);\n",
              "\n",
              "      const buffers = [];\n",
              "      let downloaded = 0;\n",
              "\n",
              "      const channel = await google.colab.kernel.comms.open(id);\n",
              "      // Send a message to notify the kernel that we're ready.\n",
              "      channel.send({})\n",
              "\n",
              "      for await (const message of channel.messages) {\n",
              "        // Send a message to notify the kernel that we're ready.\n",
              "        channel.send({})\n",
              "        if (message.buffers) {\n",
              "          for (const buffer of message.buffers) {\n",
              "            buffers.push(buffer);\n",
              "            downloaded += buffer.byteLength;\n",
              "            progress.value = downloaded;\n",
              "          }\n",
              "        }\n",
              "      }\n",
              "      const blob = new Blob(buffers, {type: 'application/binary'});\n",
              "      const a = document.createElement('a');\n",
              "      a.href = window.URL.createObjectURL(blob);\n",
              "      a.download = filename;\n",
              "      div.appendChild(a);\n",
              "      a.click();\n",
              "      div.remove();\n",
              "    }\n",
              "  "
            ]
          },
          "metadata": {}
        },
        {
          "output_type": "display_data",
          "data": {
            "text/plain": [
              "<IPython.core.display.Javascript object>"
            ],
            "application/javascript": [
              "download(\"download_761ed46a-9d3c-4549-a93f-a7b560ea2fab\", \"requirements.txt\", 24)"
            ]
          },
          "metadata": {}
        }
      ]
    },
    {
      "cell_type": "markdown",
      "source": [
        "Please verify that you've downloaded three files:\n",
        "- `WK1_Airbnb_Amsterdam_listings_proj_solution.csv`\n",
        "- `streamlit_app.py`\n",
        "- `requirements.txt`\n",
        "\n",
        "Now let's head over to GitHub and [create an account](https://github.com/signup).\n",
        "\n",
        "Then, since you are logged in [go to GitHub.com](https://github.com) and click on the **+** icon at the top-right corner and select **New repository**.\n",
        "\n",
        "<center>\n",
        "  <img src=https://i.ibb.co/4gkPBCp/Screen-Shot-2022-11-28-at-1-51-02-PM.png width=\"300\" align=\"center\" />\n",
        "</center>\n",
        "<br/>\n",
        "\n",
        "Here you provide:\n",
        "- **Repository name**: Up to you\n",
        "- **License**: Up to you. We recommend **apache-2.0**.\n",
        "\n",
        "- **Public or private?** Public, otherwise you can't host it on [Streamlit Share](https://share.streamlit.io)!\n",
        "\n",
        "<center>\n",
        "  <img src=https://i.ibb.co/0B533dw/Screen-Shot-2022-11-28-at-1-55-14-PM.png width=\"450\" align=\"center\" />\n",
        "</center>\n",
        "<br/>\n",
        "\n",
        "Then upload the three files to this URL below. ***Please modify it before copy-pasting it***:\n",
        "\n",
        "```https://github.com/[YOUR_ACCOUNT_NAME]/[YOUR_REPOSITORY_NAME]/upload/main```\n",
        "\n",
        "<center>\n",
        "  <img src=https://i.ibb.co/jTsrgJw/Screen-Shot-2022-11-28-at-1-58-31-PM.png width=\"500\" align=\"center\" />\n",
        "</center>\n",
        "<br/>\n",
        "\n",
        "Commit directly to the `main` branch, then click **Commit changes**.\n",
        "\n",
        "Next, you have to create an account on [Streamlit Share](https://share.streamlit.io/signup). \n",
        "\n",
        "<center>\n",
        "  <img src=https://i.ibb.co/znFngJc/Screen-Shot-2022-11-28-at-1-59-47-PM.png width=\"500\" align=\"center\" />\n",
        "</center>\n",
        "<br/>\n",
        "\n",
        "It's recommended to click **Continue with GitHub**. \n",
        "\n",
        "Then, select **New app** **>** **Deploy a new app...** **>** **From existing repo**.\n",
        "\n",
        "<center>\n",
        "  <img src=https://i.ibb.co/VQPQzt3/Screen-Shot-2022-11-28-at-2-05-04-PM.png width=\"500\" align=\"center\" />\n",
        "</center>\n",
        "\n",
        "Followed by providing your:\n",
        "\n",
        "```[GITHUB_ACCOUNT_NAME]/[GITHUB_REPOSITORY]```\n",
        "\n",
        "<center>\n",
        "  <img src=https://i.ibb.co/PDSQccD/Screen-Shot-2022-11-28-at-2-10-47-PM.png width=\"500\" align=\"center\" />\n",
        "</center>\n",
        "\n",
        "You will have to wait around 1-5 minutes, then an automatic hyperlink is generated for your new website. An example is this app:\n",
        "\n",
        "```https://[GITHUB_ACCOUNT_NAME]-[GITHUB_REPOSITORY]-[RANDOM_6_LETTER_STRING].streamlit.app/```\n",
        "\n",
        "***Please modify the link before copy-pasting it.***"
      ],
      "metadata": {
        "id": "pkmVcoiWQL6s"
      },
      "id": "pkmVcoiWQL6s"
    },
    {
      "cell_type": "markdown",
      "id": "6b63286a-e574-4284-96de-a6793f94a2f0",
      "metadata": {
        "id": "6b63286a-e574-4284-96de-a6793f94a2f0"
      },
      "source": [
        "---\n",
        "\n",
        "# 🎉 CONGRATULATIONS!\n",
        "\n",
        "You've made it to the end of the Week 1 assignment! You should be proud. \n",
        "\n",
        "If you have any lingering questions, post them on Slack! As you know, we're always here to help.\n",
        "\n",
        "And if you want any additional challenge questions, check out the bonus extensions below.\n",
        "\n",
        "---\n",
        "\n",
        "## Extensions (Optional)\n",
        "\n",
        "<center>\n",
        "  <img src=https://miro.medium.com/max/4800/1*qd9TMO5j_wLxDbPT7qkdxw.png width=\"500\" align=\"center\" />\n",
        "</center>\n",
        "<br/>\n",
        "\n",
        "We invite you to try and see if you can apply [Numba](https://numba.pydata.org/) to the project and potentially speed up some of these calculations. This is a tool commonly used in the industry to make code run faster. \n",
        "\n",
        "Another experiment you could try (if you have access to a GPU) is to see if running your code via [CuPy](https://cupy.dev/) speeds up your implementation. A great way to start is described in [this post](https://medium.com/data-analysis-center/a-practical-approach-to-speed-up-python-code-numba-numpy-cupy-65ab52526ad4).\n",
        "\n",
        "Lastly, Can't get enough of Numpy 🥰? Try [this tutorial on Kaggle](https://www.kaggle.com/code/legendadnan/numpy-tutorial-for-beginners-data-science/notebook), which covers some more interesting NumPy uses.\n",
        "\n",
        "# Next Up?\n",
        "Next week we will delve into Pandas, a Python library focused on tabular data instead of matrixed data. We'll show you how those are different, and how you'll be able to harness Pandas for your machine learning journey with Python!"
      ]
    },
    {
      "cell_type": "code",
      "source": [],
      "metadata": {
        "id": "xwO65I8k8zvw"
      },
      "id": "xwO65I8k8zvw",
      "execution_count": null,
      "outputs": []
    }
  ],
  "metadata": {
    "kernelspec": {
      "display_name": "Python 3 (ipykernel)",
      "language": "python",
      "name": "python3"
    },
    "language_info": {
      "codemirror_mode": {
        "name": "ipython",
        "version": 3
      },
      "file_extension": ".py",
      "mimetype": "text/x-python",
      "name": "python",
      "nbconvert_exporter": "python",
      "pygments_lexer": "ipython3",
      "version": "3.10.4"
    },
    "colab": {
      "provenance": [],
      "include_colab_link": true
    }
  },
  "nbformat": 4,
  "nbformat_minor": 5
}